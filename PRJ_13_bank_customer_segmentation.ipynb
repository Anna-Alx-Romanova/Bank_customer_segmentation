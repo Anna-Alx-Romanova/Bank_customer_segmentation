{
 "cells": [
  {
   "cell_type": "markdown",
   "metadata": {},
   "source": [
    "# Сегментация пользователей банка по потреблению банковских продуктов"
   ]
  },
  {
   "cell_type": "markdown",
   "metadata": {},
   "source": [
    "## Материалы: https://drive.google.com/file/d/1unYDQYgYtEJYVa_O3HLaPz0eReOziCp-/view?usp=sharing"
   ]
  },
  {
   "cell_type": "markdown",
   "metadata": {},
   "source": [
    "Цель задачи:\n",
    "Проанализировать клиентов регионального банка и сегментировать пользователей по количеству потребляемых продуктов. Цель снизить отток клиентов. Предложить продукт который может заинтересовать клиентов в каждой категории. Входе анализа, выполненяются следующие шаги:\n",
    "    <ul>\n",
    "    <li> Загрузка данных;</li>\n",
    "    <li> Предобработка данных;</li>\n",
    "    <li> Проведение исследовательского анализ данных;</li>\n",
    "    <li> Сегментация пользователей ;</li>\n",
    "    <li> Проверка статистических гипотез:</li>\n",
    "        <ul>\n",
    "            <li> 1) проверка гипотезы различия дохода между теми клиентами, которые пользуются двумя продуктами банка, и теми, которые пользуются одним;</li>\n",
    "            <li> 2) проверка гипотезы различия возраста между теми клиентами, которые пользуются двумя продуктами банка, и теми, которые пользуются одним;</li>\n",
    "        </ul>\n",
    "    <li> Представление выводов и рекомендаций</li>\n",
    "    </ul>"
   ]
  },
  {
   "cell_type": "markdown",
   "metadata": {},
   "source": [
    "## Шаг 1. Загрузка данных"
   ]
  },
  {
   "cell_type": "code",
   "execution_count": 1,
   "metadata": {},
   "outputs": [],
   "source": [
    "#!pip install sparklines"
   ]
  },
  {
   "cell_type": "code",
   "execution_count": 2,
   "metadata": {},
   "outputs": [],
   "source": [
    "import pandas as pd\n",
    "import numpy as np\n",
    "from matplotlib import pyplot as plt\n",
    "import seaborn as sns\n",
    "import math as mth\n",
    "from sklearn.preprocessing import LabelEncoder\n",
    "from sparklines import sparklines\n",
    "from scipy.stats import skew, mode\n",
    "from scipy import stats as st\n",
    "import random"
   ]
  },
  {
   "cell_type": "code",
   "execution_count": 3,
   "metadata": {},
   "outputs": [],
   "source": [
    "# Загрузска данных\n",
    "path_file = 'input/prj_13_input/'\n",
    "df = pd.read_csv(path_file+'bank_dataset.csv')"
   ]
  },
  {
   "cell_type": "code",
   "execution_count": 4,
   "metadata": {},
   "outputs": [
    {
     "data": {
      "text/html": [
       "<div>\n",
       "<style scoped>\n",
       "    .dataframe tbody tr th:only-of-type {\n",
       "        vertical-align: middle;\n",
       "    }\n",
       "\n",
       "    .dataframe tbody tr th {\n",
       "        vertical-align: top;\n",
       "    }\n",
       "\n",
       "    .dataframe thead th {\n",
       "        text-align: right;\n",
       "    }\n",
       "</style>\n",
       "<table border=\"1\" class=\"dataframe\">\n",
       "  <thead>\n",
       "    <tr style=\"text-align: right;\">\n",
       "      <th></th>\n",
       "      <th>userid</th>\n",
       "      <th>score</th>\n",
       "      <th>City</th>\n",
       "      <th>Gender</th>\n",
       "      <th>Age</th>\n",
       "      <th>Objects</th>\n",
       "      <th>Balance</th>\n",
       "      <th>Products</th>\n",
       "      <th>CreditCard</th>\n",
       "      <th>Loyalty</th>\n",
       "      <th>estimated_salary</th>\n",
       "      <th>Churn</th>\n",
       "    </tr>\n",
       "  </thead>\n",
       "  <tbody>\n",
       "    <tr>\n",
       "      <th>0</th>\n",
       "      <td>15677338</td>\n",
       "      <td>619</td>\n",
       "      <td>Ярославль</td>\n",
       "      <td>Ж</td>\n",
       "      <td>42</td>\n",
       "      <td>2</td>\n",
       "      <td>NaN</td>\n",
       "      <td>1</td>\n",
       "      <td>1</td>\n",
       "      <td>1</td>\n",
       "      <td>101348.88</td>\n",
       "      <td>1</td>\n",
       "    </tr>\n",
       "    <tr>\n",
       "      <th>1</th>\n",
       "      <td>15690047</td>\n",
       "      <td>608</td>\n",
       "      <td>Рыбинск</td>\n",
       "      <td>Ж</td>\n",
       "      <td>41</td>\n",
       "      <td>1</td>\n",
       "      <td>83807.86</td>\n",
       "      <td>1</td>\n",
       "      <td>0</td>\n",
       "      <td>1</td>\n",
       "      <td>112542.58</td>\n",
       "      <td>0</td>\n",
       "    </tr>\n",
       "    <tr>\n",
       "      <th>2</th>\n",
       "      <td>15662040</td>\n",
       "      <td>502</td>\n",
       "      <td>Ярославль</td>\n",
       "      <td>Ж</td>\n",
       "      <td>42</td>\n",
       "      <td>8</td>\n",
       "      <td>159660.80</td>\n",
       "      <td>3</td>\n",
       "      <td>1</td>\n",
       "      <td>0</td>\n",
       "      <td>113931.57</td>\n",
       "      <td>1</td>\n",
       "    </tr>\n",
       "    <tr>\n",
       "      <th>3</th>\n",
       "      <td>15744090</td>\n",
       "      <td>699</td>\n",
       "      <td>Ярославль</td>\n",
       "      <td>Ж</td>\n",
       "      <td>39</td>\n",
       "      <td>1</td>\n",
       "      <td>NaN</td>\n",
       "      <td>2</td>\n",
       "      <td>0</td>\n",
       "      <td>0</td>\n",
       "      <td>93826.63</td>\n",
       "      <td>0</td>\n",
       "    </tr>\n",
       "    <tr>\n",
       "      <th>4</th>\n",
       "      <td>15780624</td>\n",
       "      <td>850</td>\n",
       "      <td>Рыбинск</td>\n",
       "      <td>Ж</td>\n",
       "      <td>43</td>\n",
       "      <td>2</td>\n",
       "      <td>125510.82</td>\n",
       "      <td>1</td>\n",
       "      <td>1</td>\n",
       "      <td>1</td>\n",
       "      <td>79084.10</td>\n",
       "      <td>0</td>\n",
       "    </tr>\n",
       "  </tbody>\n",
       "</table>\n",
       "</div>"
      ],
      "text/plain": [
       "     userid  score       City Gender  Age  Objects    Balance  Products  \\\n",
       "0  15677338    619  Ярославль      Ж   42        2        NaN         1   \n",
       "1  15690047    608    Рыбинск      Ж   41        1   83807.86         1   \n",
       "2  15662040    502  Ярославль      Ж   42        8  159660.80         3   \n",
       "3  15744090    699  Ярославль      Ж   39        1        NaN         2   \n",
       "4  15780624    850    Рыбинск      Ж   43        2  125510.82         1   \n",
       "\n",
       "   CreditCard  Loyalty  estimated_salary  Churn  \n",
       "0           1        1         101348.88      1  \n",
       "1           0        1         112542.58      0  \n",
       "2           1        0         113931.57      1  \n",
       "3           0        0          93826.63      0  \n",
       "4           1        1          79084.10      0  "
      ]
     },
     "execution_count": 4,
     "metadata": {},
     "output_type": "execute_result"
    }
   ],
   "source": [
    "df.head(5)"
   ]
  },
  {
   "cell_type": "code",
   "execution_count": 5,
   "metadata": {},
   "outputs": [
    {
     "name": "stdout",
     "output_type": "stream",
     "text": [
      "<class 'pandas.core.frame.DataFrame'>\n",
      "RangeIndex: 10000 entries, 0 to 9999\n",
      "Data columns (total 12 columns):\n",
      " #   Column            Non-Null Count  Dtype  \n",
      "---  ------            --------------  -----  \n",
      " 0   userid            10000 non-null  int64  \n",
      " 1   score             10000 non-null  int64  \n",
      " 2   City              10000 non-null  object \n",
      " 3   Gender            10000 non-null  object \n",
      " 4   Age               10000 non-null  int64  \n",
      " 5   Objects           10000 non-null  int64  \n",
      " 6   Balance           6383 non-null   float64\n",
      " 7   Products          10000 non-null  int64  \n",
      " 8   CreditCard        10000 non-null  int64  \n",
      " 9   Loyalty           10000 non-null  int64  \n",
      " 10  estimated_salary  10000 non-null  float64\n",
      " 11  Churn             10000 non-null  int64  \n",
      "dtypes: float64(2), int64(8), object(2)\n",
      "memory usage: 937.6+ KB\n"
     ]
    }
   ],
   "source": [
    "# получение общей информации о данных в таблице\n",
    "df.info()"
   ]
  },
  {
   "cell_type": "code",
   "execution_count": 6,
   "metadata": {},
   "outputs": [],
   "source": [
    "# Изменение стиля написания названий колонок\n",
    "df.columns= df.columns.str.lower()"
   ]
  },
  {
   "cell_type": "code",
   "execution_count": 7,
   "metadata": {},
   "outputs": [],
   "source": [
    "# изменим стиль написания колонки creditcard\n",
    "df.rename(columns={\"userid\": \"user_id\",\"creditcard\": \"credit_card\"}, inplace=True)"
   ]
  },
  {
   "cell_type": "code",
   "execution_count": 8,
   "metadata": {},
   "outputs": [
    {
     "data": {
      "text/plain": [
       "Index(['user_id', 'score', 'city', 'gender', 'age', 'objects', 'balance',\n",
       "       'products', 'credit_card', 'loyalty', 'estimated_salary', 'churn'],\n",
       "      dtype='object')"
      ]
     },
     "execution_count": 8,
     "metadata": {},
     "output_type": "execute_result"
    }
   ],
   "source": [
    "# посмотрим на названия колонок после изменения\n",
    "df.columns"
   ]
  },
  {
   "cell_type": "markdown",
   "metadata": {},
   "source": [
    "### Описание данных \n",
    "* `user_id` — идентификатор пользователя,\n",
    "* `score` — баллы кредитного скоринга,\n",
    "* `city` — город,\n",
    "* `gender` — пол,\n",
    "* `age` — возраст,\n",
    "* `objects` — количество объектов в собственности,\n",
    "* `balance` — баланс на счёте,\n",
    "* `products` — количество продуктов, которыми пользуется клиент,\n",
    "* `credit_card` — есть ли кредитная карта,\n",
    "* `loyalty` — активный клиент,\n",
    "* `estimated_salary` — заработная плата клиента,\n",
    "* `churn` — ушёл или нет."
   ]
  },
  {
   "cell_type": "markdown",
   "metadata": {},
   "source": [
    "В таблице имеется 10 тыс записей о клиентах банка. Данные описываются характеристиками в 12 колонках. В колонке balance имеется много пропусков. Их необходимо проанализировать и принять решение как их заполнить."
   ]
  },
  {
   "cell_type": "markdown",
   "metadata": {},
   "source": [
    "## Шаг 2. Предобработка данных"
   ]
  },
  {
   "cell_type": "markdown",
   "metadata": {},
   "source": [
    "Изучим данные в колонках с помощью функции, которая описывает тип данных, наличие пропусков и описывает данные."
   ]
  },
  {
   "cell_type": "code",
   "execution_count": 9,
   "metadata": {},
   "outputs": [],
   "source": [
    "# Функция для анализа данных в колонках\n",
    "def data_analysis(column_name):\n",
    "    \"\"\"\n",
    "    Функция описывает данные в колонках таблицы df\n",
    "    \"\"\"\n",
    "    print()\n",
    "    print('-'*40)\n",
    "    print(f'Анализ данных в колонке {column_name}')\n",
    "    print('-'*40)\n",
    "    print(f'Тип данных в колонке: {df[column_name].dtype}')\n",
    "    data_0 = len(df[df[column_name].isnull()==True])\n",
    "    print(f'Количество отсутствующих значений в столбце: {data_0}')\n",
    "    print(f'Процент отсутствующих значений: {data_0/len(df):.1%}')\n",
    "    print(f'Число уникальных данных: {len(df[column_name].unique())}')\n",
    "    if len(df[column_name].unique()) < 40:\n",
    "        print(f'Уникальные значения: {df[column_name].unique()}')\n",
    "        if len(df[column_name].unique()) <= 4:\n",
    "            print('Количество данных по группам уникальных значений:')\n",
    "            print(df.groupby([column_name])[column_name].count())\n",
    "    else:\n",
    "        print('Число уникальных значений слишком велико для вывода')\n",
    "        \n",
    "    print('Описание данных в колонке:')\n",
    "    display(df[column_name].describe()) "
   ]
  },
  {
   "cell_type": "code",
   "execution_count": 10,
   "metadata": {},
   "outputs": [
    {
     "name": "stdout",
     "output_type": "stream",
     "text": [
      "\n",
      "----------------------------------------\n",
      "Анализ данных в колонке user_id\n",
      "----------------------------------------\n",
      "Тип данных в колонке: int64\n",
      "Количество отсутствующих значений в столбце: 0\n",
      "Процент отсутствующих значений: 0.0%\n",
      "Число уникальных данных: 10000\n",
      "Число уникальных значений слишком велико для вывода\n",
      "Описание данных в колонке:\n"
     ]
    },
    {
     "data": {
      "text/plain": [
       "count    1.000000e+04\n",
       "mean     1.573368e+07\n",
       "std      7.193619e+04\n",
       "min      1.560844e+07\n",
       "25%      1.567126e+07\n",
       "50%      1.573347e+07\n",
       "75%      1.579597e+07\n",
       "max      1.585843e+07\n",
       "Name: user_id, dtype: float64"
      ]
     },
     "metadata": {},
     "output_type": "display_data"
    }
   ],
   "source": [
    "# изучим данные в колонке 'user_id'\n",
    "data_analysis('user_id')"
   ]
  },
  {
   "cell_type": "markdown",
   "metadata": {},
   "source": [
    "Данные в колонке userid полные, дубликатов нет"
   ]
  },
  {
   "cell_type": "code",
   "execution_count": 11,
   "metadata": {},
   "outputs": [
    {
     "name": "stdout",
     "output_type": "stream",
     "text": [
      "\n",
      "----------------------------------------\n",
      "Анализ данных в колонке score\n",
      "----------------------------------------\n",
      "Тип данных в колонке: int64\n",
      "Количество отсутствующих значений в столбце: 0\n",
      "Процент отсутствующих значений: 0.0%\n",
      "Число уникальных данных: 460\n",
      "Число уникальных значений слишком велико для вывода\n",
      "Описание данных в колонке:\n"
     ]
    },
    {
     "data": {
      "text/plain": [
       "count    10000.000000\n",
       "mean       650.528800\n",
       "std         96.653299\n",
       "min        350.000000\n",
       "25%        584.000000\n",
       "50%        652.000000\n",
       "75%        718.000000\n",
       "max        850.000000\n",
       "Name: score, dtype: float64"
      ]
     },
     "metadata": {},
     "output_type": "display_data"
    }
   ],
   "source": [
    "# изучим данные в колонке 'score'\n",
    "data_analysis('score')"
   ]
  },
  {
   "cell_type": "markdown",
   "metadata": {},
   "source": [
    "Рейтинг заемщика, представленый в таблице, произведен шкале скорингового балла: 300-850. Аномальных значений нет. Пропусков нет."
   ]
  },
  {
   "cell_type": "code",
   "execution_count": 12,
   "metadata": {},
   "outputs": [
    {
     "name": "stdout",
     "output_type": "stream",
     "text": [
      "\n",
      "----------------------------------------\n",
      "Анализ данных в колонке city\n",
      "----------------------------------------\n",
      "Тип данных в колонке: object\n",
      "Количество отсутствующих значений в столбце: 0\n",
      "Процент отсутствующих значений: 0.0%\n",
      "Число уникальных данных: 3\n",
      "Уникальные значения: ['Ярославль' 'Рыбинск' 'Ростов Великий']\n",
      "Количество данных по группам уникальных значений:\n",
      "city\n",
      "Ростов Великий    2509\n",
      "Рыбинск           2477\n",
      "Ярославль         5014\n",
      "Name: city, dtype: int64\n",
      "Описание данных в колонке:\n"
     ]
    },
    {
     "data": {
      "text/plain": [
       "count         10000\n",
       "unique            3\n",
       "top       Ярославль\n",
       "freq           5014\n",
       "Name: city, dtype: object"
      ]
     },
     "metadata": {},
     "output_type": "display_data"
    }
   ],
   "source": [
    "# изучим данные в колонке 'city'\n",
    "data_analysis('city')"
   ]
  },
  {
   "cell_type": "markdown",
   "metadata": {},
   "source": [
    "В таблице представлены данные для клиентов из 3х городов. Чуть больше половины всех клиентов зарегистрированы в Ярославле (5014 человек), и, практически по ровну (около 2500 человек) зарегистрированно в двух других городах - в Рыбинске и Ростове Великом."
   ]
  },
  {
   "cell_type": "code",
   "execution_count": 13,
   "metadata": {},
   "outputs": [
    {
     "name": "stdout",
     "output_type": "stream",
     "text": [
      "\n",
      "----------------------------------------\n",
      "Анализ данных в колонке gender\n",
      "----------------------------------------\n",
      "Тип данных в колонке: object\n",
      "Количество отсутствующих значений в столбце: 0\n",
      "Процент отсутствующих значений: 0.0%\n",
      "Число уникальных данных: 2\n",
      "Уникальные значения: ['Ж' 'М']\n",
      "Количество данных по группам уникальных значений:\n",
      "gender\n",
      "Ж    4543\n",
      "М    5457\n",
      "Name: gender, dtype: int64\n",
      "Описание данных в колонке:\n"
     ]
    },
    {
     "data": {
      "text/plain": [
       "count     10000\n",
       "unique        2\n",
       "top           М\n",
       "freq       5457\n",
       "Name: gender, dtype: object"
      ]
     },
     "metadata": {},
     "output_type": "display_data"
    }
   ],
   "source": [
    "# изучим данные в колонке 'gender'\n",
    "data_analysis('gender')"
   ]
  },
  {
   "cell_type": "markdown",
   "metadata": {},
   "source": [
    "Аномальных значений в колонке gender нет. Клиентов мужского пола немного больше (55%), чем клиентов женского пола (45%)"
   ]
  },
  {
   "cell_type": "markdown",
   "metadata": {},
   "source": [
    "Переведем данные в числовой вид. Т.е зашифруем данные в виде чисел"
   ]
  },
  {
   "cell_type": "code",
   "execution_count": 14,
   "metadata": {},
   "outputs": [],
   "source": [
    "le = LabelEncoder()"
   ]
  },
  {
   "cell_type": "code",
   "execution_count": 15,
   "metadata": {},
   "outputs": [],
   "source": [
    "# переведем в числовой вид данные в колонке gender\n",
    "le.fit(df['gender'])\n",
    "le_name_mapping = dict(zip(le.classes_, le.transform(le.classes_)))"
   ]
  },
  {
   "cell_type": "code",
   "execution_count": 16,
   "metadata": {},
   "outputs": [
    {
     "name": "stdout",
     "output_type": "stream",
     "text": [
      "{'Ж': 0, 'М': 1}\n"
     ]
    }
   ],
   "source": [
    "# посмотрим соответствие кода и обозначения пола\n",
    "print(le_name_mapping)"
   ]
  },
  {
   "cell_type": "code",
   "execution_count": 17,
   "metadata": {},
   "outputs": [],
   "source": [
    "# Заменим обозначение пола кодированными данными\n",
    "df['gender'] = le.transform(df['gender'])"
   ]
  },
  {
   "cell_type": "code",
   "execution_count": 18,
   "metadata": {},
   "outputs": [
    {
     "name": "stdout",
     "output_type": "stream",
     "text": [
      "\n",
      "----------------------------------------\n",
      "Анализ данных в колонке gender\n",
      "----------------------------------------\n",
      "Тип данных в колонке: int32\n",
      "Количество отсутствующих значений в столбце: 0\n",
      "Процент отсутствующих значений: 0.0%\n",
      "Число уникальных данных: 2\n",
      "Уникальные значения: [0 1]\n",
      "Количество данных по группам уникальных значений:\n",
      "gender\n",
      "0    4543\n",
      "1    5457\n",
      "Name: gender, dtype: int64\n",
      "Описание данных в колонке:\n"
     ]
    },
    {
     "data": {
      "text/plain": [
       "count    10000.000000\n",
       "mean         0.545700\n",
       "std          0.497932\n",
       "min          0.000000\n",
       "25%          0.000000\n",
       "50%          1.000000\n",
       "75%          1.000000\n",
       "max          1.000000\n",
       "Name: gender, dtype: float64"
      ]
     },
     "metadata": {},
     "output_type": "display_data"
    }
   ],
   "source": [
    "# изучим данные в колонке 'gender' после исправления\n",
    "data_analysis('gender')"
   ]
  },
  {
   "cell_type": "code",
   "execution_count": 19,
   "metadata": {},
   "outputs": [
    {
     "name": "stdout",
     "output_type": "stream",
     "text": [
      "\n",
      "----------------------------------------\n",
      "Анализ данных в колонке age\n",
      "----------------------------------------\n",
      "Тип данных в колонке: int64\n",
      "Количество отсутствующих значений в столбце: 0\n",
      "Процент отсутствующих значений: 0.0%\n",
      "Число уникальных данных: 70\n",
      "Число уникальных значений слишком велико для вывода\n",
      "Описание данных в колонке:\n"
     ]
    },
    {
     "data": {
      "text/plain": [
       "count    10000.000000\n",
       "mean        38.921800\n",
       "std         10.487806\n",
       "min         18.000000\n",
       "25%         32.000000\n",
       "50%         37.000000\n",
       "75%         44.000000\n",
       "max         92.000000\n",
       "Name: age, dtype: float64"
      ]
     },
     "metadata": {},
     "output_type": "display_data"
    }
   ],
   "source": [
    "# изучим данные в колонке 'age'\n",
    "data_analysis('age')"
   ]
  },
  {
   "cell_type": "markdown",
   "metadata": {},
   "source": [
    "Аномальных значений нет - минимальный возраст 18 лет, максимальный- 92. Средний возраст клиентов -39 лет. Медианное значение возраста - 37 лет."
   ]
  },
  {
   "cell_type": "code",
   "execution_count": 20,
   "metadata": {},
   "outputs": [
    {
     "name": "stdout",
     "output_type": "stream",
     "text": [
      "\n",
      "----------------------------------------\n",
      "Анализ данных в колонке objects\n",
      "----------------------------------------\n",
      "Тип данных в колонке: int64\n",
      "Количество отсутствующих значений в столбце: 0\n",
      "Процент отсутствующих значений: 0.0%\n",
      "Число уникальных данных: 11\n",
      "Уникальные значения: [ 2  1  8  7  4  6  3 10  5  9  0]\n",
      "Описание данных в колонке:\n"
     ]
    },
    {
     "data": {
      "text/plain": [
       "count    10000.000000\n",
       "mean         5.012800\n",
       "std          2.892174\n",
       "min          0.000000\n",
       "25%          3.000000\n",
       "50%          5.000000\n",
       "75%          7.000000\n",
       "max         10.000000\n",
       "Name: objects, dtype: float64"
      ]
     },
     "metadata": {},
     "output_type": "display_data"
    }
   ],
   "source": [
    "# изучим данные в колонке 'objects'\n",
    "data_analysis('objects')"
   ]
  },
  {
   "cell_type": "markdown",
   "metadata": {},
   "source": [
    "Минимальное количество объектов в собственности -0, максимальное - 10. Аномальных значений нет."
   ]
  },
  {
   "cell_type": "code",
   "execution_count": 21,
   "metadata": {},
   "outputs": [
    {
     "name": "stdout",
     "output_type": "stream",
     "text": [
      "\n",
      "----------------------------------------\n",
      "Анализ данных в колонке balance\n",
      "----------------------------------------\n",
      "Тип данных в колонке: float64\n",
      "Количество отсутствующих значений в столбце: 3617\n",
      "Процент отсутствующих значений: 36.2%\n",
      "Число уникальных данных: 6382\n",
      "Число уникальных значений слишком велико для вывода\n",
      "Описание данных в колонке:\n"
     ]
    },
    {
     "data": {
      "text/plain": [
       "count      6383.000000\n",
       "mean     119827.493793\n",
       "std       30095.056462\n",
       "min        3768.690000\n",
       "25%      100181.975000\n",
       "50%      119839.690000\n",
       "75%      139512.290000\n",
       "max      250898.090000\n",
       "Name: balance, dtype: float64"
      ]
     },
     "metadata": {},
     "output_type": "display_data"
    }
   ],
   "source": [
    "# изучим данные в колонке 'balance'\n",
    "data_analysis('balance')"
   ]
  },
  {
   "cell_type": "markdown",
   "metadata": {},
   "source": [
    "В данных отсутствуют данные по балансу для 36% пользователей. Минимальный баланс составляет чуть меньше 4 тыс. руб. Максимальный - 250898 руб."
   ]
  },
  {
   "cell_type": "markdown",
   "metadata": {},
   "source": [
    "Отсутствующих данных слишком много, чтобы удалить все записи без баланса из таблицы. Заполним пропуски нулями и добавим дополнительную колонку с индикатором баланса: 0 - нет данных, 1- есть данные."
   ]
  },
  {
   "cell_type": "code",
   "execution_count": 22,
   "metadata": {},
   "outputs": [],
   "source": [
    "# замена отсутствующих значений нулями\n",
    "df['balance'] = df['balance'].fillna(0)"
   ]
  },
  {
   "cell_type": "code",
   "execution_count": 23,
   "metadata": {},
   "outputs": [],
   "source": [
    "# создание колонки с индикатором баланса\n",
    "df['balance_ind'] = df['balance'].apply(lambda x: 1 if x>0 else 0)"
   ]
  },
  {
   "cell_type": "code",
   "execution_count": 24,
   "metadata": {},
   "outputs": [
    {
     "data": {
      "text/plain": [
       "count    10000.000000\n",
       "mean         0.638300\n",
       "std          0.480517\n",
       "min          0.000000\n",
       "25%          0.000000\n",
       "50%          1.000000\n",
       "75%          1.000000\n",
       "max          1.000000\n",
       "Name: balance_ind, dtype: float64"
      ]
     },
     "execution_count": 24,
     "metadata": {},
     "output_type": "execute_result"
    }
   ],
   "source": [
    "# посмотрим описание данных в колонке balance_ind\n",
    "df.balance_ind.describe()"
   ]
  },
  {
   "cell_type": "markdown",
   "metadata": {},
   "source": [
    "Посмотрим как распределена величина баланса в зависимости от города регистрации клиента."
   ]
  },
  {
   "cell_type": "code",
   "execution_count": 25,
   "metadata": {},
   "outputs": [
    {
     "data": {
      "text/plain": [
       "<Figure size 1080x432 with 0 Axes>"
      ]
     },
     "metadata": {},
     "output_type": "display_data"
    },
    {
     "data": {
      "image/png": "[encoded data removed]",
      "text/plain": [
       "<Figure size 1199.25x360 with 3 Axes>"
      ]
     },
     "metadata": {
      "needs_background": "light"
     },
     "output_type": "display_data"
    }
   ],
   "source": [
    "plt.figure(figsize=(15,6))\n",
    "sns.displot(df, x=\"balance\",col='city', hue='city');"
   ]
  },
  {
   "cell_type": "markdown",
   "metadata": {},
   "source": [
    "Из графика можно сделать вывод, что в городе Ростов Великий нет клиентов с отсутствующими данными по балансу (нулевой баланс). В целом, распределение баланса имеет вид нормального распределения (если не включать в рассмотрение клиентов с нулевым балансом). Причиной отсутствия данных по балансу в Ярославле и Рыбинске может быть способ регистрации дынных. И этот способ отличается от способа регистрации данных в Ростове Великом."
   ]
  },
  {
   "cell_type": "code",
   "execution_count": 26,
   "metadata": {},
   "outputs": [
    {
     "name": "stdout",
     "output_type": "stream",
     "text": [
      "\n",
      "----------------------------------------\n",
      "Анализ данных в колонке products\n",
      "----------------------------------------\n",
      "Тип данных в колонке: int64\n",
      "Количество отсутствующих значений в столбце: 0\n",
      "Процент отсутствующих значений: 0.0%\n",
      "Число уникальных данных: 4\n",
      "Уникальные значения: [1 3 2 4]\n",
      "Количество данных по группам уникальных значений:\n",
      "products\n",
      "1    5084\n",
      "2    4590\n",
      "3     266\n",
      "4      60\n",
      "Name: products, dtype: int64\n",
      "Описание данных в колонке:\n"
     ]
    },
    {
     "data": {
      "text/plain": [
       "count    10000.000000\n",
       "mean         1.530200\n",
       "std          0.581654\n",
       "min          1.000000\n",
       "25%          1.000000\n",
       "50%          1.000000\n",
       "75%          2.000000\n",
       "max          4.000000\n",
       "Name: products, dtype: float64"
      ]
     },
     "metadata": {},
     "output_type": "display_data"
    }
   ],
   "source": [
    "# изучим данные в колонке 'products'\n",
    "data_analysis('products')"
   ]
  },
  {
   "cell_type": "markdown",
   "metadata": {},
   "source": [
    "Каждый клиент пользуется продуктами банка. Чуть больше половины клиентов пользуются только одним продуктом. Чуть меньше половины - 2-мя продуктами. Около 300 клиентов из 10 тыс пользуются более чем 2-мя продуктами (3 или 4 продукта)."
   ]
  },
  {
   "cell_type": "code",
   "execution_count": 27,
   "metadata": {},
   "outputs": [
    {
     "name": "stdout",
     "output_type": "stream",
     "text": [
      "\n",
      "----------------------------------------\n",
      "Анализ данных в колонке credit_card\n",
      "----------------------------------------\n",
      "Тип данных в колонке: int64\n",
      "Количество отсутствующих значений в столбце: 0\n",
      "Процент отсутствующих значений: 0.0%\n",
      "Число уникальных данных: 2\n",
      "Уникальные значения: [1 0]\n",
      "Количество данных по группам уникальных значений:\n",
      "credit_card\n",
      "0    2945\n",
      "1    7055\n",
      "Name: credit_card, dtype: int64\n",
      "Описание данных в колонке:\n"
     ]
    },
    {
     "data": {
      "text/plain": [
       "count    10000.00000\n",
       "mean         0.70550\n",
       "std          0.45584\n",
       "min          0.00000\n",
       "25%          0.00000\n",
       "50%          1.00000\n",
       "75%          1.00000\n",
       "max          1.00000\n",
       "Name: credit_card, dtype: float64"
      ]
     },
     "metadata": {},
     "output_type": "display_data"
    }
   ],
   "source": [
    "# изучим данные в колонке 'credit_card'\n",
    "data_analysis('credit_card')"
   ]
  },
  {
   "cell_type": "markdown",
   "metadata": {},
   "source": [
    "Около 70% всех клиентов пользуются кредитными картами. И, соответственно, 30% - не пользуются."
   ]
  },
  {
   "cell_type": "code",
   "execution_count": 28,
   "metadata": {},
   "outputs": [
    {
     "name": "stdout",
     "output_type": "stream",
     "text": [
      "\n",
      "----------------------------------------\n",
      "Анализ данных в колонке loyalty\n",
      "----------------------------------------\n",
      "Тип данных в колонке: int64\n",
      "Количество отсутствующих значений в столбце: 0\n",
      "Процент отсутствующих значений: 0.0%\n",
      "Число уникальных данных: 2\n",
      "Уникальные значения: [1 0]\n",
      "Количество данных по группам уникальных значений:\n",
      "loyalty\n",
      "0    4849\n",
      "1    5151\n",
      "Name: loyalty, dtype: int64\n",
      "Описание данных в колонке:\n"
     ]
    },
    {
     "data": {
      "text/plain": [
       "count    10000.000000\n",
       "mean         0.515100\n",
       "std          0.499797\n",
       "min          0.000000\n",
       "25%          0.000000\n",
       "50%          1.000000\n",
       "75%          1.000000\n",
       "max          1.000000\n",
       "Name: loyalty, dtype: float64"
      ]
     },
     "metadata": {},
     "output_type": "display_data"
    }
   ],
   "source": [
    "# изучим данные в колонке 'loyalty'\n",
    "data_analysis('loyalty')"
   ]
  },
  {
   "cell_type": "markdown",
   "metadata": {},
   "source": [
    "Практически 52% клиентов является активными клиентами."
   ]
  },
  {
   "cell_type": "code",
   "execution_count": 29,
   "metadata": {},
   "outputs": [
    {
     "name": "stdout",
     "output_type": "stream",
     "text": [
      "\n",
      "----------------------------------------\n",
      "Анализ данных в колонке estimated_salary\n",
      "----------------------------------------\n",
      "Тип данных в колонке: float64\n",
      "Количество отсутствующих значений в столбце: 0\n",
      "Процент отсутствующих значений: 0.0%\n",
      "Число уникальных данных: 9999\n",
      "Число уникальных значений слишком велико для вывода\n",
      "Описание данных в колонке:\n"
     ]
    },
    {
     "data": {
      "text/plain": [
       "count     10000.000000\n",
       "mean     100090.239881\n",
       "std       57510.492818\n",
       "min          11.580000\n",
       "25%       51002.110000\n",
       "50%      100193.915000\n",
       "75%      149388.247500\n",
       "max      199992.480000\n",
       "Name: estimated_salary, dtype: float64"
      ]
     },
     "metadata": {},
     "output_type": "display_data"
    }
   ],
   "source": [
    "# изучим данные в колонке 'estimated_salary'\n",
    "data_analysis('estimated_salary')"
   ]
  },
  {
   "cell_type": "markdown",
   "metadata": {},
   "source": [
    "Пропусков в данных нет, но есть аномальное значение: минимальное значение заработной платы составляет 11.6 рублей. Проанализируем минимальные величины заработной платы."
   ]
  },
  {
   "cell_type": "markdown",
   "metadata": {},
   "source": [
    "Разобьем клиентов банка на категории по величине заработной платы. Так как максимальная заработная плата составляет практически 200 тыс. рублей, а минимальная не сильно отличается от 0, то сделаем 10 категорий с шагом в 20 тыс. Первая категория, это клиетны с заработной платой от 0 до 20 тыс. руб., вторая- от 20 тыс. до 40 тыс. руб., третья - от 40 до 60 тыс. руб. и т.д."
   ]
  },
  {
   "cell_type": "code",
   "execution_count": 30,
   "metadata": {},
   "outputs": [],
   "source": [
    "# зададим интревал и шаг разбиения на категории\n",
    "bins = np.arange(0, 220000, 20000)"
   ]
  },
  {
   "cell_type": "code",
   "execution_count": 31,
   "metadata": {},
   "outputs": [],
   "source": [
    "# дадим названия категориям\n",
    "labels = range(1,11)"
   ]
  },
  {
   "cell_type": "code",
   "execution_count": 32,
   "metadata": {},
   "outputs": [],
   "source": [
    "# добавим колонку с категорией заработной платой клиента \n",
    "df['salary_cat'] = pd.cut(df['estimated_salary'], bins=bins, labels=labels)"
   ]
  },
  {
   "cell_type": "code",
   "execution_count": 33,
   "metadata": {},
   "outputs": [
    {
     "data": {
      "text/plain": [
       "CategoricalDtype(categories=range(1, 11), ordered=True)"
      ]
     },
     "execution_count": 33,
     "metadata": {},
     "output_type": "execute_result"
    }
   ],
   "source": [
    "# проверим тип данных в колонке salary_cat\n",
    "df['salary_cat'].dtypes"
   ]
  },
  {
   "cell_type": "code",
   "execution_count": 34,
   "metadata": {},
   "outputs": [],
   "source": [
    "# изменим тип данных на int64\n",
    "df = df.astype({\"salary_cat\":'int64'}) "
   ]
  },
  {
   "cell_type": "code",
   "execution_count": 35,
   "metadata": {},
   "outputs": [
    {
     "data": {
      "text/plain": [
       "dtype('int64')"
      ]
     },
     "execution_count": 35,
     "metadata": {},
     "output_type": "execute_result"
    }
   ],
   "source": [
    "# проверим тип данных после изменений\n",
    "df['salary_cat'].dtypes"
   ]
  },
  {
   "cell_type": "code",
   "execution_count": 36,
   "metadata": {},
   "outputs": [
    {
     "data": {
      "text/html": [
       "<div>\n",
       "<style scoped>\n",
       "    .dataframe tbody tr th:only-of-type {\n",
       "        vertical-align: middle;\n",
       "    }\n",
       "\n",
       "    .dataframe tbody tr th {\n",
       "        vertical-align: top;\n",
       "    }\n",
       "\n",
       "    .dataframe thead th {\n",
       "        text-align: right;\n",
       "    }\n",
       "</style>\n",
       "<table border=\"1\" class=\"dataframe\">\n",
       "  <thead>\n",
       "    <tr style=\"text-align: right;\">\n",
       "      <th></th>\n",
       "      <th>user_id</th>\n",
       "      <th>score</th>\n",
       "      <th>city</th>\n",
       "      <th>gender</th>\n",
       "      <th>age</th>\n",
       "      <th>objects</th>\n",
       "      <th>balance</th>\n",
       "      <th>products</th>\n",
       "      <th>credit_card</th>\n",
       "      <th>loyalty</th>\n",
       "      <th>estimated_salary</th>\n",
       "      <th>churn</th>\n",
       "      <th>balance_ind</th>\n",
       "      <th>salary_cat</th>\n",
       "    </tr>\n",
       "  </thead>\n",
       "  <tbody>\n",
       "    <tr>\n",
       "      <th>0</th>\n",
       "      <td>15677338</td>\n",
       "      <td>619</td>\n",
       "      <td>Ярославль</td>\n",
       "      <td>0</td>\n",
       "      <td>42</td>\n",
       "      <td>2</td>\n",
       "      <td>0.00</td>\n",
       "      <td>1</td>\n",
       "      <td>1</td>\n",
       "      <td>1</td>\n",
       "      <td>101348.88</td>\n",
       "      <td>1</td>\n",
       "      <td>0</td>\n",
       "      <td>6</td>\n",
       "    </tr>\n",
       "    <tr>\n",
       "      <th>1</th>\n",
       "      <td>15690047</td>\n",
       "      <td>608</td>\n",
       "      <td>Рыбинск</td>\n",
       "      <td>0</td>\n",
       "      <td>41</td>\n",
       "      <td>1</td>\n",
       "      <td>83807.86</td>\n",
       "      <td>1</td>\n",
       "      <td>0</td>\n",
       "      <td>1</td>\n",
       "      <td>112542.58</td>\n",
       "      <td>0</td>\n",
       "      <td>1</td>\n",
       "      <td>6</td>\n",
       "    </tr>\n",
       "    <tr>\n",
       "      <th>2</th>\n",
       "      <td>15662040</td>\n",
       "      <td>502</td>\n",
       "      <td>Ярославль</td>\n",
       "      <td>0</td>\n",
       "      <td>42</td>\n",
       "      <td>8</td>\n",
       "      <td>159660.80</td>\n",
       "      <td>3</td>\n",
       "      <td>1</td>\n",
       "      <td>0</td>\n",
       "      <td>113931.57</td>\n",
       "      <td>1</td>\n",
       "      <td>1</td>\n",
       "      <td>6</td>\n",
       "    </tr>\n",
       "    <tr>\n",
       "      <th>3</th>\n",
       "      <td>15744090</td>\n",
       "      <td>699</td>\n",
       "      <td>Ярославль</td>\n",
       "      <td>0</td>\n",
       "      <td>39</td>\n",
       "      <td>1</td>\n",
       "      <td>0.00</td>\n",
       "      <td>2</td>\n",
       "      <td>0</td>\n",
       "      <td>0</td>\n",
       "      <td>93826.63</td>\n",
       "      <td>0</td>\n",
       "      <td>0</td>\n",
       "      <td>5</td>\n",
       "    </tr>\n",
       "    <tr>\n",
       "      <th>4</th>\n",
       "      <td>15780624</td>\n",
       "      <td>850</td>\n",
       "      <td>Рыбинск</td>\n",
       "      <td>0</td>\n",
       "      <td>43</td>\n",
       "      <td>2</td>\n",
       "      <td>125510.82</td>\n",
       "      <td>1</td>\n",
       "      <td>1</td>\n",
       "      <td>1</td>\n",
       "      <td>79084.10</td>\n",
       "      <td>0</td>\n",
       "      <td>1</td>\n",
       "      <td>4</td>\n",
       "    </tr>\n",
       "  </tbody>\n",
       "</table>\n",
       "</div>"
      ],
      "text/plain": [
       "    user_id  score       city  gender  age  objects    balance  products  \\\n",
       "0  15677338    619  Ярославль       0   42        2       0.00         1   \n",
       "1  15690047    608    Рыбинск       0   41        1   83807.86         1   \n",
       "2  15662040    502  Ярославль       0   42        8  159660.80         3   \n",
       "3  15744090    699  Ярославль       0   39        1       0.00         2   \n",
       "4  15780624    850    Рыбинск       0   43        2  125510.82         1   \n",
       "\n",
       "   credit_card  loyalty  estimated_salary  churn  balance_ind  salary_cat  \n",
       "0            1        1         101348.88      1            0           6  \n",
       "1            0        1         112542.58      0            1           6  \n",
       "2            1        0         113931.57      1            1           6  \n",
       "3            0        0          93826.63      0            0           5  \n",
       "4            1        1          79084.10      0            1           4  "
      ]
     },
     "execution_count": 36,
     "metadata": {},
     "output_type": "execute_result"
    }
   ],
   "source": [
    "# посмотрим на таблицу с новой колонкой\n",
    "df.head(5)"
   ]
  },
  {
   "cell_type": "markdown",
   "metadata": {},
   "source": [
    "Посмотрим как распределено количество клиентов в зависимости от уровня заработных плат. Учтем город клиента."
   ]
  },
  {
   "cell_type": "code",
   "execution_count": 37,
   "metadata": {},
   "outputs": [
    {
     "data": {
      "image/png": "[encoded data removed]",
      "text/plain": [
       "<Figure size 1080x432 with 1 Axes>"
      ]
     },
     "metadata": {
      "needs_background": "light"
     },
     "output_type": "display_data"
    }
   ],
   "source": [
    "plt.figure(figsize=(15,6))\n",
    "sns.histplot(\n",
    "    df,\n",
    "    y=\"salary_cat\", hue=\"city\",\n",
    "    multiple=\"stack\",\n",
    "    palette=(\"Set3\"),\n",
    "    edgecolor=\".3\",\n",
    "    linewidth=.5,\n",
    "    discrete=True\n",
    ")\n",
    "plt.title('Количество клиентов в зависомости от уровня заработной платы')\n",
    "plt.xlabel('Количество клиентов')\n",
    "plt.ylabel('Уровень заработной платы');"
   ]
  },
  {
   "cell_type": "markdown",
   "metadata": {},
   "source": [
    "Ожидание, что распределение по уровню заработной платы будет иметь вид нормального распределения с центром в районе 40-60 тыс. рублей (уровень средней заработной платы в Ярославской области на май 2022 составляет 45 499 руб.) - не оправдалось. По графику мы видим, что в каждой категории заработной платы представлено примерно 10% всех клиентов из таблицы. Т.е распределение - равномерное. Также, мы видим, что распределение количества клиентов банка по уровню заработной платы равномерное для каждого города."
   ]
  },
  {
   "cell_type": "markdown",
   "metadata": {},
   "source": [
    "Проверим, есть ли зависимоть баланса на счете от величины заработной платы."
   ]
  },
  {
   "cell_type": "code",
   "execution_count": 38,
   "metadata": {},
   "outputs": [
    {
     "data": {
      "image/png": "[encoded data removed]",
      "text/plain": [
       "<Figure size 504x504 with 3 Axes>"
      ]
     },
     "metadata": {
      "needs_background": "light"
     },
     "output_type": "display_data"
    }
   ],
   "source": [
    "g = sns.jointplot(x=\"estimated_salary\", y=\"balance\", data=df, kind=\"reg\",truncate=False, height=7)\n",
    "g.fig.suptitle(\"Зависимость величины заработной платы от баланса\")\n",
    "g.fig.tight_layout()\n",
    "g.fig.subplots_adjust(top=0.95)"
   ]
  },
  {
   "cell_type": "markdown",
   "metadata": {},
   "source": [
    "Ожидание, что зависимость величины заработной платы от величины баланса на счете - линейная - не оправдалось. Так же, мы не наблюдаем зависимости отсутствия данных по балансу на счете от величины заработной платы."
   ]
  },
  {
   "cell_type": "code",
   "execution_count": 39,
   "metadata": {},
   "outputs": [
    {
     "name": "stdout",
     "output_type": "stream",
     "text": [
      "\n",
      "----------------------------------------\n",
      "Анализ данных в колонке churn\n",
      "----------------------------------------\n",
      "Тип данных в колонке: int64\n",
      "Количество отсутствующих значений в столбце: 0\n",
      "Процент отсутствующих значений: 0.0%\n",
      "Число уникальных данных: 2\n",
      "Уникальные значения: [1 0]\n",
      "Количество данных по группам уникальных значений:\n",
      "churn\n",
      "0    7963\n",
      "1    2037\n",
      "Name: churn, dtype: int64\n",
      "Описание данных в колонке:\n"
     ]
    },
    {
     "data": {
      "text/plain": [
       "count    10000.000000\n",
       "mean         0.203700\n",
       "std          0.402769\n",
       "min          0.000000\n",
       "25%          0.000000\n",
       "50%          0.000000\n",
       "75%          0.000000\n",
       "max          1.000000\n",
       "Name: churn, dtype: float64"
      ]
     },
     "metadata": {},
     "output_type": "display_data"
    }
   ],
   "source": [
    "# изучим данные в колонке 'churn'\n",
    "data_analysis('churn')"
   ]
  },
  {
   "cell_type": "markdown",
   "metadata": {},
   "source": [
    "Все данные в колонках были проверены. Пропуски проанализированны и заполнены. Проверим есть ли дубликаты в таблице, исключая колонку usesr_id"
   ]
  },
  {
   "cell_type": "code",
   "execution_count": 40,
   "metadata": {},
   "outputs": [
    {
     "name": "stdout",
     "output_type": "stream",
     "text": [
      "Количество дубликатов в таблице 0\n"
     ]
    }
   ],
   "source": [
    "# проверка на отсутствие дубликатов в таблице без учета user_id\n",
    "print(f\"Количество дубликатов в таблице {df.duplicated(subset = ['score', 'city','gender','age','objects','balance','products','credit_card','loyalty','estimated_salary','churn']).sum()}\")"
   ]
  },
  {
   "cell_type": "code",
   "execution_count": 41,
   "metadata": {},
   "outputs": [
    {
     "data": {
      "text/html": [
       "<div>\n",
       "<style scoped>\n",
       "    .dataframe tbody tr th:only-of-type {\n",
       "        vertical-align: middle;\n",
       "    }\n",
       "\n",
       "    .dataframe tbody tr th {\n",
       "        vertical-align: top;\n",
       "    }\n",
       "\n",
       "    .dataframe thead th {\n",
       "        text-align: right;\n",
       "    }\n",
       "</style>\n",
       "<table border=\"1\" class=\"dataframe\">\n",
       "  <thead>\n",
       "    <tr style=\"text-align: right;\">\n",
       "      <th></th>\n",
       "      <th>user_id</th>\n",
       "      <th>score</th>\n",
       "      <th>city</th>\n",
       "      <th>gender</th>\n",
       "      <th>age</th>\n",
       "      <th>objects</th>\n",
       "      <th>balance</th>\n",
       "      <th>products</th>\n",
       "      <th>credit_card</th>\n",
       "      <th>loyalty</th>\n",
       "      <th>estimated_salary</th>\n",
       "      <th>churn</th>\n",
       "      <th>balance_ind</th>\n",
       "      <th>salary_cat</th>\n",
       "    </tr>\n",
       "  </thead>\n",
       "  <tbody>\n",
       "    <tr>\n",
       "      <th>0</th>\n",
       "      <td>15677338</td>\n",
       "      <td>619</td>\n",
       "      <td>Ярославль</td>\n",
       "      <td>0</td>\n",
       "      <td>42</td>\n",
       "      <td>2</td>\n",
       "      <td>0.00</td>\n",
       "      <td>1</td>\n",
       "      <td>1</td>\n",
       "      <td>1</td>\n",
       "      <td>101348.88</td>\n",
       "      <td>1</td>\n",
       "      <td>0</td>\n",
       "      <td>6</td>\n",
       "    </tr>\n",
       "    <tr>\n",
       "      <th>1</th>\n",
       "      <td>15690047</td>\n",
       "      <td>608</td>\n",
       "      <td>Рыбинск</td>\n",
       "      <td>0</td>\n",
       "      <td>41</td>\n",
       "      <td>1</td>\n",
       "      <td>83807.86</td>\n",
       "      <td>1</td>\n",
       "      <td>0</td>\n",
       "      <td>1</td>\n",
       "      <td>112542.58</td>\n",
       "      <td>0</td>\n",
       "      <td>1</td>\n",
       "      <td>6</td>\n",
       "    </tr>\n",
       "    <tr>\n",
       "      <th>2</th>\n",
       "      <td>15662040</td>\n",
       "      <td>502</td>\n",
       "      <td>Ярославль</td>\n",
       "      <td>0</td>\n",
       "      <td>42</td>\n",
       "      <td>8</td>\n",
       "      <td>159660.80</td>\n",
       "      <td>3</td>\n",
       "      <td>1</td>\n",
       "      <td>0</td>\n",
       "      <td>113931.57</td>\n",
       "      <td>1</td>\n",
       "      <td>1</td>\n",
       "      <td>6</td>\n",
       "    </tr>\n",
       "  </tbody>\n",
       "</table>\n",
       "</div>"
      ],
      "text/plain": [
       "    user_id  score       city  gender  age  objects    balance  products  \\\n",
       "0  15677338    619  Ярославль       0   42        2       0.00         1   \n",
       "1  15690047    608    Рыбинск       0   41        1   83807.86         1   \n",
       "2  15662040    502  Ярославль       0   42        8  159660.80         3   \n",
       "\n",
       "   credit_card  loyalty  estimated_salary  churn  balance_ind  salary_cat  \n",
       "0            1        1         101348.88      1            0           6  \n",
       "1            0        1         112542.58      0            1           6  \n",
       "2            1        0         113931.57      1            1           6  "
      ]
     },
     "execution_count": 41,
     "metadata": {},
     "output_type": "execute_result"
    }
   ],
   "source": [
    "df.head(3)"
   ]
  },
  {
   "cell_type": "markdown",
   "metadata": {},
   "source": [
    "Удалим колонку user_id , т.к в дальнейшем анализе она не потребуется."
   ]
  },
  {
   "cell_type": "code",
   "execution_count": 42,
   "metadata": {},
   "outputs": [],
   "source": [
    "# Иключим столбц salary_cat\n",
    "df = df.drop(columns=['user_id'])"
   ]
  },
  {
   "cell_type": "code",
   "execution_count": 43,
   "metadata": {},
   "outputs": [
    {
     "name": "stdout",
     "output_type": "stream",
     "text": [
      "<class 'pandas.core.frame.DataFrame'>\n",
      "RangeIndex: 10000 entries, 0 to 9999\n",
      "Data columns (total 13 columns):\n",
      " #   Column            Non-Null Count  Dtype  \n",
      "---  ------            --------------  -----  \n",
      " 0   score             10000 non-null  int64  \n",
      " 1   city              10000 non-null  object \n",
      " 2   gender            10000 non-null  int32  \n",
      " 3   age               10000 non-null  int64  \n",
      " 4   objects           10000 non-null  int64  \n",
      " 5   balance           10000 non-null  float64\n",
      " 6   products          10000 non-null  int64  \n",
      " 7   credit_card       10000 non-null  int64  \n",
      " 8   loyalty           10000 non-null  int64  \n",
      " 9   estimated_salary  10000 non-null  float64\n",
      " 10  churn             10000 non-null  int64  \n",
      " 11  balance_ind       10000 non-null  int64  \n",
      " 12  salary_cat        10000 non-null  int64  \n",
      "dtypes: float64(2), int32(1), int64(9), object(1)\n",
      "memory usage: 976.7+ KB\n"
     ]
    }
   ],
   "source": [
    "# посмотрим описание таблицы после всех изменений\n",
    "df.info()"
   ]
  },
  {
   "cell_type": "markdown",
   "metadata": {},
   "source": [
    "Выводы: данные во всех колонках были проверены. Пропуски в колонке balance были заполнены нулями. Все категориальные значения были заменены численными значениями. После всех изменений в таблице осталось 10 тыс строк и 13 колонок с описанием данных."
   ]
  },
  {
   "cell_type": "markdown",
   "metadata": {},
   "source": [
    "## Шаг 3. Исследовательский анализ данных"
   ]
  },
  {
   "cell_type": "markdown",
   "metadata": {},
   "source": [
    "Посмотрим количество клиентов по количеству банковских продуктов"
   ]
  },
  {
   "cell_type": "code",
   "execution_count": 44,
   "metadata": {},
   "outputs": [
    {
     "data": {
      "text/html": [
       "<div>\n",
       "<style scoped>\n",
       "    .dataframe tbody tr th:only-of-type {\n",
       "        vertical-align: middle;\n",
       "    }\n",
       "\n",
       "    .dataframe tbody tr th {\n",
       "        vertical-align: top;\n",
       "    }\n",
       "\n",
       "    .dataframe thead th {\n",
       "        text-align: right;\n",
       "    }\n",
       "</style>\n",
       "<table border=\"1\" class=\"dataframe\">\n",
       "  <thead>\n",
       "    <tr style=\"text-align: right;\">\n",
       "      <th></th>\n",
       "      <th>products</th>\n",
       "      <th>Не попал в отток</th>\n",
       "      <th>Отток</th>\n",
       "    </tr>\n",
       "  </thead>\n",
       "  <tbody>\n",
       "    <tr>\n",
       "      <th>0</th>\n",
       "      <td>1</td>\n",
       "      <td>3675</td>\n",
       "      <td>1409</td>\n",
       "    </tr>\n",
       "    <tr>\n",
       "      <th>1</th>\n",
       "      <td>2</td>\n",
       "      <td>4242</td>\n",
       "      <td>348</td>\n",
       "    </tr>\n",
       "    <tr>\n",
       "      <th>2</th>\n",
       "      <td>3</td>\n",
       "      <td>46</td>\n",
       "      <td>220</td>\n",
       "    </tr>\n",
       "    <tr>\n",
       "      <th>3</th>\n",
       "      <td>4</td>\n",
       "      <td>0</td>\n",
       "      <td>60</td>\n",
       "    </tr>\n",
       "  </tbody>\n",
       "</table>\n",
       "</div>"
      ],
      "text/plain": [
       "   products  Не попал в отток  Отток\n",
       "0         1              3675   1409\n",
       "1         2              4242    348\n",
       "2         3                46    220\n",
       "3         4                 0     60"
      ]
     },
     "execution_count": 44,
     "metadata": {},
     "output_type": "execute_result"
    }
   ],
   "source": [
    "# Построим сводную таблицу для количества пользователей по количеству используемых продуктов\n",
    "df_pr_nb = df.pivot_table(index='products', values='score',columns='churn', aggfunc='count',fill_value=0)\n",
    "df_pr_nb = df_pr_nb.reset_index()\n",
    "df_pr_nb = df_pr_nb.rename_axis(None, axis=1)\n",
    "df_pr_nb.rename(columns={0: \"Не попал в отток\",1: \"Отток\"}, inplace=True)\n",
    "df_pr_nb"
   ]
  },
  {
   "cell_type": "markdown",
   "metadata": {},
   "source": [
    "Посчитаем процент клиентов в каждой группе потребляемых продуктов и процент оттока"
   ]
  },
  {
   "cell_type": "code",
   "execution_count": 45,
   "metadata": {},
   "outputs": [
    {
     "data": {
      "text/html": [
       "<div>\n",
       "<style scoped>\n",
       "    .dataframe tbody tr th:only-of-type {\n",
       "        vertical-align: middle;\n",
       "    }\n",
       "\n",
       "    .dataframe tbody tr th {\n",
       "        vertical-align: top;\n",
       "    }\n",
       "\n",
       "    .dataframe thead th {\n",
       "        text-align: right;\n",
       "    }\n",
       "</style>\n",
       "<table border=\"1\" class=\"dataframe\">\n",
       "  <thead>\n",
       "    <tr style=\"text-align: right;\">\n",
       "      <th></th>\n",
       "      <th>products</th>\n",
       "      <th>Не попал в отток</th>\n",
       "      <th>Отток</th>\n",
       "      <th>Общее количество</th>\n",
       "      <th>Процент клиентов, %</th>\n",
       "      <th>Процент оттока, %</th>\n",
       "    </tr>\n",
       "  </thead>\n",
       "  <tbody>\n",
       "    <tr>\n",
       "      <th>0</th>\n",
       "      <td>1</td>\n",
       "      <td>3675</td>\n",
       "      <td>1409</td>\n",
       "      <td>5084</td>\n",
       "      <td>50.8</td>\n",
       "      <td>27.7</td>\n",
       "    </tr>\n",
       "    <tr>\n",
       "      <th>1</th>\n",
       "      <td>2</td>\n",
       "      <td>4242</td>\n",
       "      <td>348</td>\n",
       "      <td>4590</td>\n",
       "      <td>45.9</td>\n",
       "      <td>7.6</td>\n",
       "    </tr>\n",
       "    <tr>\n",
       "      <th>2</th>\n",
       "      <td>3</td>\n",
       "      <td>46</td>\n",
       "      <td>220</td>\n",
       "      <td>266</td>\n",
       "      <td>2.7</td>\n",
       "      <td>82.7</td>\n",
       "    </tr>\n",
       "    <tr>\n",
       "      <th>3</th>\n",
       "      <td>4</td>\n",
       "      <td>0</td>\n",
       "      <td>60</td>\n",
       "      <td>60</td>\n",
       "      <td>0.6</td>\n",
       "      <td>100.0</td>\n",
       "    </tr>\n",
       "  </tbody>\n",
       "</table>\n",
       "</div>"
      ],
      "text/plain": [
       "   products  Не попал в отток  Отток  Общее количество  Процент клиентов, %  \\\n",
       "0         1              3675   1409              5084                 50.8   \n",
       "1         2              4242    348              4590                 45.9   \n",
       "2         3                46    220               266                  2.7   \n",
       "3         4                 0     60                60                  0.6   \n",
       "\n",
       "   Процент оттока, %  \n",
       "0               27.7  \n",
       "1                7.6  \n",
       "2               82.7  \n",
       "3              100.0  "
      ]
     },
     "execution_count": 45,
     "metadata": {},
     "output_type": "execute_result"
    }
   ],
   "source": [
    "df_pr_nb['Общее количество'] = df_pr_nb[\"Не попал в отток\"] + df_pr_nb[\"Отток\"]\n",
    "df_pr_nb['Процент клиентов, %'] = (df_pr_nb['Общее количество']*100/df_pr_nb['Общее количество'].sum()).round(decimals =1)\n",
    "df_pr_nb['Процент оттока, %'] = (df_pr_nb[\"Отток\"]*100/df_pr_nb['Общее количество']).round(decimals =1)\n",
    "df_pr_nb"
   ]
  },
  {
   "cell_type": "markdown",
   "metadata": {},
   "source": [
    "Построим график распределения клиентов по количеству используемых продуктов."
   ]
  },
  {
   "cell_type": "code",
   "execution_count": 46,
   "metadata": {},
   "outputs": [
    {
     "data": {
      "image/png": "[encoded data removed]",
      "text/plain": [
       "<Figure size 1080x432 with 1 Axes>"
      ]
     },
     "metadata": {
      "needs_background": "light"
     },
     "output_type": "display_data"
    }
   ],
   "source": [
    "plt.figure(figsize=(15,6))\n",
    "sns.histplot(\n",
    "    df,\n",
    "    x=\"products\", hue=\"churn\",\n",
    "    multiple=\"stack\",\n",
    "    edgecolor=\".3\",\n",
    "    log_scale=False,\n",
    "    discrete=True\n",
    ")\n",
    "plt.title('Количество клиентов в по \"продуктовым группам\"')\n",
    "plt.xlabel('Количество используемых продуктов')\n",
    "plt.ylabel('Количество клиентов');"
   ]
  },
  {
   "cell_type": "markdown",
   "metadata": {},
   "source": [
    "Можно выделить 4 продуктовых группы: \n",
    "<li> первая группа - клиенты пользуются только одним продуктом. 51% всех клиентов из таблицы df принадлежат к этой группе. Процент оттока в этой группе составляет 28%. </li>\n",
    "<li> вторая группа - клиенты пользуются двумя продуктами. 46% всех клиентов из таблицы df принадлежат к этой групп. Процент оттока в этой группе составляет 8%.</li>\n",
    "<li> третья группа - клиенты пользуются тремя продуктами. К этой группе принадлежит только 2.7% клиентов из таблицы df. Процент оттока в этой группе составляет 83%.</li>\n",
    "<li> четвертая группа - клиенты используют четыре продукта. Это самая малочисленная группа: только 0.6% клиентов из таблицы df входят в нее. Процент оттока в этой группе самый большой - 100%.</li>"
   ]
  },
  {
   "cell_type": "markdown",
   "metadata": {},
   "source": [
    "Так как третья и четвертая продуктовые группы очень малочисленны, то мы не будем детально изучать характеристики клиентов из этих группы, чтобы понять, что повлияло на их отток. Любое предположение может быть ошибочным из-за малочисленности данных в этих группа. \n",
    "\n",
    "Детально будем изучать первую и вторую группы."
   ]
  },
  {
   "cell_type": "markdown",
   "metadata": {},
   "source": [
    "Изучим процент оттока в продуктовых группах по городам"
   ]
  },
  {
   "cell_type": "code",
   "execution_count": 47,
   "metadata": {},
   "outputs": [
    {
     "data": {
      "text/html": [
       "<div>\n",
       "<style scoped>\n",
       "    .dataframe tbody tr th:only-of-type {\n",
       "        vertical-align: middle;\n",
       "    }\n",
       "\n",
       "    .dataframe tbody tr th {\n",
       "        vertical-align: top;\n",
       "    }\n",
       "\n",
       "    .dataframe thead th {\n",
       "        text-align: right;\n",
       "    }\n",
       "</style>\n",
       "<table border=\"1\" class=\"dataframe\">\n",
       "  <thead>\n",
       "    <tr style=\"text-align: right;\">\n",
       "      <th>products</th>\n",
       "      <th>1</th>\n",
       "      <th>2</th>\n",
       "      <th>3</th>\n",
       "      <th>4</th>\n",
       "    </tr>\n",
       "    <tr>\n",
       "      <th>city</th>\n",
       "      <th></th>\n",
       "      <th></th>\n",
       "      <th></th>\n",
       "      <th></th>\n",
       "    </tr>\n",
       "  </thead>\n",
       "  <tbody>\n",
       "    <tr>\n",
       "      <th>Ростов Великий</th>\n",
       "      <td>42.8</td>\n",
       "      <td>12.1</td>\n",
       "      <td>89.6</td>\n",
       "      <td>100.0</td>\n",
       "    </tr>\n",
       "    <tr>\n",
       "      <th>Рыбинск</th>\n",
       "      <td>21.9</td>\n",
       "      <td>7.4</td>\n",
       "      <td>78.8</td>\n",
       "      <td>100.0</td>\n",
       "    </tr>\n",
       "    <tr>\n",
       "      <th>Ярославль</th>\n",
       "      <td>22.4</td>\n",
       "      <td>5.7</td>\n",
       "      <td>78.8</td>\n",
       "      <td>100.0</td>\n",
       "    </tr>\n",
       "  </tbody>\n",
       "</table>\n",
       "</div>"
      ],
      "text/plain": [
       "products           1     2     3      4\n",
       "city                                   \n",
       "Ростов Великий  42.8  12.1  89.6  100.0\n",
       "Рыбинск         21.9   7.4  78.8  100.0\n",
       "Ярославль       22.4   5.7  78.8  100.0"
      ]
     },
     "execution_count": 47,
     "metadata": {},
     "output_type": "execute_result"
    }
   ],
   "source": [
    "df_city = df.pivot_table(index='city',columns='products',values='churn',aggfunc='mean')\n",
    "df_city = (df_city*100).round(decimals =1)\n",
    "df_city"
   ]
  },
  {
   "cell_type": "code",
   "execution_count": 48,
   "metadata": {},
   "outputs": [
    {
     "data": {
      "image/png": "[encoded data removed]",
      "text/plain": [
       "<Figure size 432x288 with 2 Axes>"
      ]
     },
     "metadata": {
      "needs_background": "light"
     },
     "output_type": "display_data"
    }
   ],
   "source": [
    "# Построим тепловую мартицу\n",
    "sns.heatmap(df_city, annot=True, linewidths=.5);"
   ]
  },
  {
   "cell_type": "markdown",
   "metadata": {},
   "source": [
    "По всем продуктовым группам самый большой отток в Ростове Великом (исключая из рассмотрения 4-ю группу с 100% оттоком)."
   ]
  },
  {
   "cell_type": "markdown",
   "metadata": {},
   "source": [
    "Определим корреляцию между данными с целью выявления, что больше всего влияет на отток."
   ]
  },
  {
   "cell_type": "code",
   "execution_count": 49,
   "metadata": {},
   "outputs": [
    {
     "data": {
      "image/png": "[encoded data removed]",
      "text/plain": [
       "<Figure size 1152x360 with 2 Axes>"
      ]
     },
     "metadata": {
      "needs_background": "light"
     },
     "output_type": "display_data"
    }
   ],
   "source": [
    "# Построим тепловую мартицу\n",
    "plt.figure(figsize = (16,5))\n",
    "sns.heatmap(df.corr(), annot=True, linewidths=.5, cmap='plasma');"
   ]
  },
  {
   "cell_type": "markdown",
   "metadata": {},
   "source": [
    "Видно заметную корреляцию оттока с балансом на счету, активностью и возрастом клиентов. Исследуем эти характеристики для каждого города и количества используемых продуктов. Дополнительно исследуем отток среди клиентов мужского и женского пола."
   ]
  },
  {
   "cell_type": "markdown",
   "metadata": {},
   "source": [
    "### Изучение баланса на счету и его влияние на отток"
   ]
  },
  {
   "cell_type": "markdown",
   "metadata": {},
   "source": [
    "Определим процент клиентов, у которых есть данные по балансу на карте."
   ]
  },
  {
   "cell_type": "code",
   "execution_count": 50,
   "metadata": {},
   "outputs": [
    {
     "data": {
      "text/html": [
       "<div>\n",
       "<style scoped>\n",
       "    .dataframe tbody tr th:only-of-type {\n",
       "        vertical-align: middle;\n",
       "    }\n",
       "\n",
       "    .dataframe tbody tr th {\n",
       "        vertical-align: top;\n",
       "    }\n",
       "\n",
       "    .dataframe thead th {\n",
       "        text-align: right;\n",
       "    }\n",
       "</style>\n",
       "<table border=\"1\" class=\"dataframe\">\n",
       "  <thead>\n",
       "    <tr style=\"text-align: right;\">\n",
       "      <th></th>\n",
       "      <th>balance_ind</th>\n",
       "    </tr>\n",
       "    <tr>\n",
       "      <th>city</th>\n",
       "      <th></th>\n",
       "    </tr>\n",
       "  </thead>\n",
       "  <tbody>\n",
       "    <tr>\n",
       "      <th>Ростов Великий</th>\n",
       "      <td>100.0</td>\n",
       "    </tr>\n",
       "    <tr>\n",
       "      <th>Рыбинск</th>\n",
       "      <td>51.6</td>\n",
       "    </tr>\n",
       "    <tr>\n",
       "      <th>Ярославль</th>\n",
       "      <td>51.8</td>\n",
       "    </tr>\n",
       "  </tbody>\n",
       "</table>\n",
       "</div>"
      ],
      "text/plain": [
       "                balance_ind\n",
       "city                       \n",
       "Ростов Великий        100.0\n",
       "Рыбинск                51.6\n",
       "Ярославль              51.8"
      ]
     },
     "execution_count": 50,
     "metadata": {},
     "output_type": "execute_result"
    }
   ],
   "source": [
    "# сводная таблица по городам\n",
    "(df.pivot_table(index='city', values='balance_ind', aggfunc='mean')*100).round(decimals =1)"
   ]
  },
  {
   "cell_type": "markdown",
   "metadata": {},
   "source": [
    "В Ростове Великом у всех клиентов есть данные по балансу на карте. 48% клиентов в Рыбинске и Ярославле не имеют данных по балансу на счету. Т.е практически у половины клиентов в этих двух городах нет данных по балансу."
   ]
  },
  {
   "cell_type": "markdown",
   "metadata": {},
   "source": [
    "Посмотрим какой процент отсутствующих данных по балансу среди продуктовых групп в зависимости от города регистрации клиента."
   ]
  },
  {
   "cell_type": "code",
   "execution_count": 51,
   "metadata": {},
   "outputs": [
    {
     "data": {
      "image/png": "[encoded data removed]",
      "text/plain": [
       "<Figure size 1014.38x432 with 6 Axes>"
      ]
     },
     "metadata": {
      "needs_background": "light"
     },
     "output_type": "display_data"
    }
   ],
   "source": [
    "# построим графики распределения количества клиентов по городам и продуктовым группам (1я и 2я) в зависимости от баланса\n",
    "g= sns.displot(\n",
    "    df.query('products<3'), \n",
    "    x=\"balance_ind\", \n",
    "    col=\"city\", \n",
    "    row=\"products\",\n",
    "    hue='churn',\n",
    "    multiple=\"stack\",\n",
    "    discrete=True,\n",
    "    height=3, aspect=1.5\n",
    ")\n",
    "g.fig.subplots_adjust(top=0.9)\n",
    "g.fig.suptitle('Распределение клиентов в зависимости от наличия данных по балансу');"
   ]
  },
  {
   "cell_type": "markdown",
   "metadata": {},
   "source": [
    "Посчитаем процент клиентов с отсутствующими данными по балансу с помощью сводной таблицы"
   ]
  },
  {
   "cell_type": "code",
   "execution_count": 52,
   "metadata": {},
   "outputs": [
    {
     "data": {
      "text/html": [
       "<div>\n",
       "<style scoped>\n",
       "    .dataframe tbody tr th:only-of-type {\n",
       "        vertical-align: middle;\n",
       "    }\n",
       "\n",
       "    .dataframe tbody tr th {\n",
       "        vertical-align: top;\n",
       "    }\n",
       "\n",
       "    .dataframe thead th {\n",
       "        text-align: right;\n",
       "    }\n",
       "</style>\n",
       "<table border=\"1\" class=\"dataframe\">\n",
       "  <thead>\n",
       "    <tr style=\"text-align: right;\">\n",
       "      <th>city</th>\n",
       "      <th>Ростов Великий</th>\n",
       "      <th>Рыбинск</th>\n",
       "      <th>Ярославль</th>\n",
       "    </tr>\n",
       "    <tr>\n",
       "      <th>products</th>\n",
       "      <th></th>\n",
       "      <th></th>\n",
       "      <th></th>\n",
       "    </tr>\n",
       "  </thead>\n",
       "  <tbody>\n",
       "    <tr>\n",
       "      <th>1</th>\n",
       "      <td>0.0</td>\n",
       "      <td>24.2</td>\n",
       "      <td>24.3</td>\n",
       "    </tr>\n",
       "    <tr>\n",
       "      <th>2</th>\n",
       "      <td>0.0</td>\n",
       "      <td>72.8</td>\n",
       "      <td>73.5</td>\n",
       "    </tr>\n",
       "  </tbody>\n",
       "</table>\n",
       "</div>"
      ],
      "text/plain": [
       "city      Ростов Великий  Рыбинск  Ярославль\n",
       "products                                    \n",
       "1                    0.0     24.2       24.3\n",
       "2                    0.0     72.8       73.5"
      ]
     },
     "execution_count": 52,
     "metadata": {},
     "output_type": "execute_result"
    }
   ],
   "source": [
    "# сводная таблица по городам и продуктовым группам (1 и 2й)\n",
    "((1-df.query('products<3').pivot_table(index='products', columns='city',values='balance_ind',aggfunc='mean'))*100).round(decimals =1)"
   ]
  },
  {
   "cell_type": "markdown",
   "metadata": {},
   "source": [
    "Видно, что в первой продуктовой группе только 24% клиентов (в Рыбинске и Ярославле) не имеют данных по балансу. Противоположная ситуация во второй продуктовой группе: здесь около 73% клиентов (в Рыбинске и Ярославле) не имеют данные по балансу."
   ]
  },
  {
   "cell_type": "markdown",
   "metadata": {},
   "source": [
    "Изучим процент оттока среди клиентов первой и второй продуктовой группы, если данные по балансу НЕ отсутствуют"
   ]
  },
  {
   "cell_type": "code",
   "execution_count": 53,
   "metadata": {},
   "outputs": [
    {
     "data": {
      "text/html": [
       "<div>\n",
       "<style scoped>\n",
       "    .dataframe tbody tr th:only-of-type {\n",
       "        vertical-align: middle;\n",
       "    }\n",
       "\n",
       "    .dataframe tbody tr th {\n",
       "        vertical-align: top;\n",
       "    }\n",
       "\n",
       "    .dataframe thead th {\n",
       "        text-align: right;\n",
       "    }\n",
       "</style>\n",
       "<table border=\"1\" class=\"dataframe\">\n",
       "  <thead>\n",
       "    <tr style=\"text-align: right;\">\n",
       "      <th>city</th>\n",
       "      <th>Ростов Великий</th>\n",
       "      <th>Рыбинск</th>\n",
       "      <th>Ярославль</th>\n",
       "    </tr>\n",
       "    <tr>\n",
       "      <th>products</th>\n",
       "      <th></th>\n",
       "      <th></th>\n",
       "      <th></th>\n",
       "    </tr>\n",
       "  </thead>\n",
       "  <tbody>\n",
       "    <tr>\n",
       "      <th>1</th>\n",
       "      <td>42.8</td>\n",
       "      <td>17.2</td>\n",
       "      <td>17.5</td>\n",
       "    </tr>\n",
       "    <tr>\n",
       "      <th>2</th>\n",
       "      <td>12.1</td>\n",
       "      <td>18.9</td>\n",
       "      <td>11.9</td>\n",
       "    </tr>\n",
       "  </tbody>\n",
       "</table>\n",
       "</div>"
      ],
      "text/plain": [
       "city      Ростов Великий  Рыбинск  Ярославль\n",
       "products                                    \n",
       "1                   42.8     17.2       17.5\n",
       "2                   12.1     18.9       11.9"
      ]
     },
     "execution_count": 53,
     "metadata": {},
     "output_type": "execute_result"
    }
   ],
   "source": [
    "# сводная таблица по городам и продуктовым группам (1 и 2й)\n",
    "(df.query('products<3 and balance>0').pivot_table(index='products', columns='city',values='churn',aggfunc='mean')*100).round(decimals =1)"
   ]
  },
  {
   "cell_type": "markdown",
   "metadata": {},
   "source": [
    "Изучим процент оттока среди клиентов первой и второй продуктовой группы, если данные по балансу отсутствуют"
   ]
  },
  {
   "cell_type": "code",
   "execution_count": 54,
   "metadata": {},
   "outputs": [
    {
     "data": {
      "text/html": [
       "<div>\n",
       "<style scoped>\n",
       "    .dataframe tbody tr th:only-of-type {\n",
       "        vertical-align: middle;\n",
       "    }\n",
       "\n",
       "    .dataframe tbody tr th {\n",
       "        vertical-align: top;\n",
       "    }\n",
       "\n",
       "    .dataframe thead th {\n",
       "        text-align: right;\n",
       "    }\n",
       "</style>\n",
       "<table border=\"1\" class=\"dataframe\">\n",
       "  <thead>\n",
       "    <tr style=\"text-align: right;\">\n",
       "      <th>city</th>\n",
       "      <th>Рыбинск</th>\n",
       "      <th>Ярославль</th>\n",
       "    </tr>\n",
       "    <tr>\n",
       "      <th>products</th>\n",
       "      <th></th>\n",
       "      <th></th>\n",
       "    </tr>\n",
       "  </thead>\n",
       "  <tbody>\n",
       "    <tr>\n",
       "      <th>1</th>\n",
       "      <td>36.6</td>\n",
       "      <td>37.7</td>\n",
       "    </tr>\n",
       "    <tr>\n",
       "      <th>2</th>\n",
       "      <td>3.0</td>\n",
       "      <td>3.5</td>\n",
       "    </tr>\n",
       "  </tbody>\n",
       "</table>\n",
       "</div>"
      ],
      "text/plain": [
       "city      Рыбинск  Ярославль\n",
       "products                    \n",
       "1            36.6       37.7\n",
       "2             3.0        3.5"
      ]
     },
     "execution_count": 54,
     "metadata": {},
     "output_type": "execute_result"
    }
   ],
   "source": [
    "# сводная таблица по городам и продуктовым группам (1 и 2й)\n",
    "(df.query('products<3 and balance==0').pivot_table(index='products', columns='city',values='churn',aggfunc='mean')*100).round(decimals =1)"
   ]
  },
  {
   "cell_type": "markdown",
   "metadata": {},
   "source": [
    "Можно сделать следующий вывод:\n",
    "<li> в первой продуктовой группе большая часть клиентов (76% в Рыбинске и Ярославле) имеют данные по балансу на счету. Процент оттока среди этих клиентов (17%) ниже, чем среди клиентов с отсутствующими данными по счету, где процен оттока составляет около 37%. Жители Ростова Великого не имеют отсутствующих данных по балансу на счету и отток здесь составляет 43% </li>\n",
    "<li> во второй продуктовой группе большая часть клиентов (73% в Рыбинске и Ярославле) НЕ имеют данных по балансу на счету. Процент оттока среди этих клиентов (3%) значительно ниже, чем процент оттока среди клиентов с известным балансом на счету: 12-19% (в зависимости от города регистрации)."
   ]
  },
  {
   "cell_type": "markdown",
   "metadata": {},
   "source": [
    "Определим среднюю величину баланса на счету по городам и продуктовым группам"
   ]
  },
  {
   "cell_type": "code",
   "execution_count": 55,
   "metadata": {},
   "outputs": [
    {
     "data": {
      "image/png": "[encoded data removed]",
      "text/plain": [
       "<Figure size 1014.38x432 with 6 Axes>"
      ]
     },
     "metadata": {
      "needs_background": "light"
     },
     "output_type": "display_data"
    }
   ],
   "source": [
    "# построим графики распределения величины баланса по продуктовым группам (1я и 2я)\n",
    "g=sns.displot(\n",
    "    df.query('products<3 and balance>0'), \n",
    "    x=\"balance\", \n",
    "    col=\"city\", \n",
    "    row=\"products\",\n",
    "    hue='churn',\n",
    "    multiple=\"stack\",\n",
    "    height=3, aspect=1.5\n",
    ")\n",
    "g.fig.subplots_adjust(top=0.9)\n",
    "g.fig.suptitle('Распределение клиентов по балансу на счету');"
   ]
  },
  {
   "cell_type": "code",
   "execution_count": 56,
   "metadata": {},
   "outputs": [
    {
     "data": {
      "text/html": [
       "<div>\n",
       "<style scoped>\n",
       "    .dataframe tbody tr th:only-of-type {\n",
       "        vertical-align: middle;\n",
       "    }\n",
       "\n",
       "    .dataframe tbody tr th {\n",
       "        vertical-align: top;\n",
       "    }\n",
       "\n",
       "    .dataframe thead th {\n",
       "        text-align: right;\n",
       "    }\n",
       "</style>\n",
       "<table border=\"1\" class=\"dataframe\">\n",
       "  <thead>\n",
       "    <tr style=\"text-align: right;\">\n",
       "      <th>city</th>\n",
       "      <th>Ростов Великий</th>\n",
       "      <th>Рыбинск</th>\n",
       "      <th>Ярославль</th>\n",
       "    </tr>\n",
       "    <tr>\n",
       "      <th>products</th>\n",
       "      <th></th>\n",
       "      <th></th>\n",
       "      <th></th>\n",
       "    </tr>\n",
       "  </thead>\n",
       "  <tbody>\n",
       "    <tr>\n",
       "      <th>1</th>\n",
       "      <td>119868.0</td>\n",
       "      <td>119457.0</td>\n",
       "      <td>120125.0</td>\n",
       "    </tr>\n",
       "    <tr>\n",
       "      <th>2</th>\n",
       "      <td>119341.0</td>\n",
       "      <td>120103.0</td>\n",
       "      <td>119964.0</td>\n",
       "    </tr>\n",
       "  </tbody>\n",
       "</table>\n",
       "</div>"
      ],
      "text/plain": [
       "city      Ростов Великий   Рыбинск  Ярославль\n",
       "products                                     \n",
       "1               119868.0  119457.0   120125.0\n",
       "2               119341.0  120103.0   119964.0"
      ]
     },
     "execution_count": 56,
     "metadata": {},
     "output_type": "execute_result"
    }
   ],
   "source": [
    "# построим сводную таблицу\n",
    "(df.query('products<3 and balance>0').pivot_table(index='products', columns='city',values='balance',aggfunc='mean').round())"
   ]
  },
  {
   "cell_type": "markdown",
   "metadata": {},
   "source": [
    "Средняя величина баланса на счету у двух продуктовых групп примерно одинаковая - около 120 тыс. руб."
   ]
  },
  {
   "cell_type": "markdown",
   "metadata": {},
   "source": [
    "### Изучение лояльности и возраста клиентов"
   ]
  },
  {
   "cell_type": "markdown",
   "metadata": {},
   "source": [
    "Посмотрим сколько активных пользователей в каждой продуктовой группе"
   ]
  },
  {
   "cell_type": "code",
   "execution_count": 57,
   "metadata": {},
   "outputs": [
    {
     "data": {
      "text/html": [
       "<div>\n",
       "<style scoped>\n",
       "    .dataframe tbody tr th:only-of-type {\n",
       "        vertical-align: middle;\n",
       "    }\n",
       "\n",
       "    .dataframe tbody tr th {\n",
       "        vertical-align: top;\n",
       "    }\n",
       "\n",
       "    .dataframe thead th {\n",
       "        text-align: right;\n",
       "    }\n",
       "</style>\n",
       "<table border=\"1\" class=\"dataframe\">\n",
       "  <thead>\n",
       "    <tr style=\"text-align: right;\">\n",
       "      <th></th>\n",
       "      <th>loyalty</th>\n",
       "    </tr>\n",
       "    <tr>\n",
       "      <th>products</th>\n",
       "      <th></th>\n",
       "    </tr>\n",
       "  </thead>\n",
       "  <tbody>\n",
       "    <tr>\n",
       "      <th>1</th>\n",
       "      <td>0.504131</td>\n",
       "    </tr>\n",
       "    <tr>\n",
       "      <th>2</th>\n",
       "      <td>0.532898</td>\n",
       "    </tr>\n",
       "    <tr>\n",
       "      <th>3</th>\n",
       "      <td>0.424812</td>\n",
       "    </tr>\n",
       "    <tr>\n",
       "      <th>4</th>\n",
       "      <td>0.483333</td>\n",
       "    </tr>\n",
       "  </tbody>\n",
       "</table>\n",
       "</div>"
      ],
      "text/plain": [
       "           loyalty\n",
       "products          \n",
       "1         0.504131\n",
       "2         0.532898\n",
       "3         0.424812\n",
       "4         0.483333"
      ]
     },
     "execution_count": 57,
     "metadata": {},
     "output_type": "execute_result"
    }
   ],
   "source": [
    "# сводная таблица по продуктовым группам и активности\n",
    "df.pivot_table(index='products',values='loyalty',aggfunc='mean')"
   ]
  },
  {
   "cell_type": "markdown",
   "metadata": {},
   "source": [
    "В первой продуктовой группе около половины клиентов являются активными пользователями. Чуть выше процент активных клиентов во второй продуктовой группе -53%. Самый низкий процент активности в третей группе - 42%. В четвертой группе 48% клиентов являются активными."
   ]
  },
  {
   "cell_type": "markdown",
   "metadata": {},
   "source": [
    "Изучим процент оттока в зависимости от активности клиентов"
   ]
  },
  {
   "cell_type": "markdown",
   "metadata": {},
   "source": [
    "Построим графики распределения клиентов в зависимости от продуктовых групп (1 и 2), города регистрации и активности клиента."
   ]
  },
  {
   "cell_type": "code",
   "execution_count": 58,
   "metadata": {},
   "outputs": [
    {
     "data": {
      "image/png": "[encoded data removed]",
      "text/plain": [
       "<Figure size 1014.38x432 with 6 Axes>"
      ]
     },
     "metadata": {
      "needs_background": "light"
     },
     "output_type": "display_data"
    }
   ],
   "source": [
    "# построим графики для продуктовых групп 1 и 2\n",
    "g= sns.displot(\n",
    "    df.query('products<3'), \n",
    "    x=\"loyalty\", \n",
    "    col=\"city\", \n",
    "    row=\"products\",\n",
    "    hue='churn',\n",
    "    multiple=\"stack\",\n",
    "    discrete=True,\n",
    "    height=3, aspect=1.5\n",
    ")\n",
    "g.fig.subplots_adjust(top=0.9)\n",
    "g.fig.suptitle('Распределение клиентов в зависимости от активности');"
   ]
  },
  {
   "cell_type": "markdown",
   "metadata": {},
   "source": [
    "Посчитаем процент оттока по двум продуктовым группам в разных городах в зависимости от активности клиента."
   ]
  },
  {
   "cell_type": "code",
   "execution_count": 59,
   "metadata": {},
   "outputs": [
    {
     "data": {
      "text/html": [
       "<div>\n",
       "<style scoped>\n",
       "    .dataframe tbody tr th:only-of-type {\n",
       "        vertical-align: middle;\n",
       "    }\n",
       "\n",
       "    .dataframe tbody tr th {\n",
       "        vertical-align: top;\n",
       "    }\n",
       "\n",
       "    .dataframe thead tr th {\n",
       "        text-align: left;\n",
       "    }\n",
       "\n",
       "    .dataframe thead tr:last-of-type th {\n",
       "        text-align: right;\n",
       "    }\n",
       "</style>\n",
       "<table border=\"1\" class=\"dataframe\">\n",
       "  <thead>\n",
       "    <tr>\n",
       "      <th>city</th>\n",
       "      <th colspan=\"2\" halign=\"left\">Ростов Великий</th>\n",
       "      <th colspan=\"2\" halign=\"left\">Рыбинск</th>\n",
       "      <th colspan=\"2\" halign=\"left\">Ярославль</th>\n",
       "    </tr>\n",
       "    <tr>\n",
       "      <th>loyalty</th>\n",
       "      <th>0</th>\n",
       "      <th>1</th>\n",
       "      <th>0</th>\n",
       "      <th>1</th>\n",
       "      <th>0</th>\n",
       "      <th>1</th>\n",
       "    </tr>\n",
       "    <tr>\n",
       "      <th>products</th>\n",
       "      <th></th>\n",
       "      <th></th>\n",
       "      <th></th>\n",
       "      <th></th>\n",
       "      <th></th>\n",
       "      <th></th>\n",
       "    </tr>\n",
       "  </thead>\n",
       "  <tbody>\n",
       "    <tr>\n",
       "      <th>1</th>\n",
       "      <td>52.1</td>\n",
       "      <td>32.3</td>\n",
       "      <td>32.5</td>\n",
       "      <td>13.2</td>\n",
       "      <td>29.6</td>\n",
       "      <td>15.3</td>\n",
       "    </tr>\n",
       "    <tr>\n",
       "      <th>2</th>\n",
       "      <td>16.5</td>\n",
       "      <td>8.5</td>\n",
       "      <td>9.9</td>\n",
       "      <td>4.9</td>\n",
       "      <td>7.0</td>\n",
       "      <td>4.6</td>\n",
       "    </tr>\n",
       "  </tbody>\n",
       "</table>\n",
       "</div>"
      ],
      "text/plain": [
       "city     Ростов Великий       Рыбинск       Ярославль      \n",
       "loyalty               0     1       0     1         0     1\n",
       "products                                                   \n",
       "1                  52.1  32.3    32.5  13.2      29.6  15.3\n",
       "2                  16.5   8.5     9.9   4.9       7.0   4.6"
      ]
     },
     "execution_count": 59,
     "metadata": {},
     "output_type": "execute_result"
    }
   ],
   "source": [
    "# сводная таблица по продуктовым группам (1 и 2й)\n",
    "(df.query('products<3').pivot_table(index='products', columns=['city','loyalty'],values='churn',aggfunc='mean')*100).round(decimals =1)"
   ]
  },
  {
   "cell_type": "markdown",
   "metadata": {},
   "source": [
    "Ожидаемо, что процент оттока выше среди не активных клиентов. Самый высокий процент оттока в первой продуктовой группе среди не активных клиентов в Ростове Великом - более 50% (52%). В этом городе в первой продуктовой группе высокий процент оттока клиентов даже среди активных пользователей - 32%."
   ]
  },
  {
   "cell_type": "markdown",
   "metadata": {},
   "source": [
    "Посмотрим как расределены клиенты по возрасту с учетом активности и количества используемых продуктов"
   ]
  },
  {
   "cell_type": "code",
   "execution_count": 60,
   "metadata": {},
   "outputs": [
    {
     "data": {
      "image/png": "[encoded data removed]",
      "text/plain": [
       "<Figure size 1194.38x576 with 4 Axes>"
      ]
     },
     "metadata": {
      "needs_background": "light"
     },
     "output_type": "display_data"
    }
   ],
   "source": [
    "# построим графики распределения по возрасту в продуктовых группах 1 и 2 с учетом активности\n",
    "g=sns.displot(\n",
    "    df.query('products<3'), \n",
    "    x=\"age\", \n",
    "    col=\"loyalty\", \n",
    "    row=\"products\",\n",
    "    hue='churn',\n",
    "    multiple=\"stack\",\n",
    "    kde=True,\n",
    "    height=4, aspect=2\n",
    ")\n",
    "g.fig.subplots_adjust(top=0.9)\n",
    "g.fig.suptitle('Распределение клиентов в зависимости от возраста');"
   ]
  },
  {
   "cell_type": "markdown",
   "metadata": {},
   "source": [
    "Видно, что с увеличением возраста, начиная с 50-60 лет, среди не активных клиентов отток только возрастает. А среди активных клиентов, начиная с пенсионного возраста (50-60 лет) отток снижается."
   ]
  },
  {
   "cell_type": "markdown",
   "metadata": {},
   "source": [
    "Посмотрим как меняется процент оттока по возрасту клиентов в зависимости от активности клиента."
   ]
  },
  {
   "cell_type": "code",
   "execution_count": 61,
   "metadata": {},
   "outputs": [],
   "source": [
    "# посчитаем процент оттока среди активных и не активных клиентов в 2х продуктовых группах в зависимости от возраста\n",
    "df_age0 = df.query('products<3 and loyalty==0').groupby('age').churn.agg('mean')\n",
    "df_age1 = df.query('products<3 and loyalty==1').groupby('age').churn.agg('mean')"
   ]
  },
  {
   "cell_type": "code",
   "execution_count": 62,
   "metadata": {},
   "outputs": [],
   "source": [
    "# преобразуем данные в датафрейм\n",
    "df_age0 = df_age0.to_frame()\n",
    "df_age1 = df_age1.to_frame()\n",
    "df_age0 = df_age0.reset_index()\n",
    "df_age1 = df_age1.reset_index()"
   ]
  },
  {
   "cell_type": "code",
   "execution_count": 63,
   "metadata": {},
   "outputs": [
    {
     "data": {
      "image/png": "[encoded data removed]",
      "text/plain": [
       "<Figure size 1080x432 with 1 Axes>"
      ]
     },
     "metadata": {
      "needs_background": "light"
     },
     "output_type": "display_data"
    }
   ],
   "source": [
    "# построение графика\n",
    "plt.figure(figsize=(15,6))\n",
    "plt.title('Процент оттока среди активных и не активных клиентов в зависимости от возраста\"')\n",
    "plt.xlabel('Возраст клиента')\n",
    "plt.ylabel('Процент оттока')\n",
    "plt.plot(df_age1.age, df_age1.churn, label = \"активный клиент\",linestyle=\"--\",marker=\"o\")\n",
    "plt.plot(df_age0.age, df_age0.churn, label = \"не активный клиент\",linestyle=\"--\",marker=\"o\")\n",
    "plt.grid()\n",
    "plt.legend()\n",
    "plt.show()"
   ]
  },
  {
   "cell_type": "markdown",
   "metadata": {},
   "source": [
    "Из графика видно, что процент оттока возрастает с увеличением возраста клиента. \n",
    "\n",
    "Среди активных клиентов возрастание оттока продолжается до 55 лет, в этом возрасте наблюдается максимальная величина оттока - около 40%. Однако, с увеличением возраста, отток начинает снижаться до 0%. Вероятно, клиенты заключили договор на выплату пенсий через этот банк.\n",
    "\n",
    "Среди не активных клиентов отток не снижается с увеличением возраста. Отток достигает 100% при возрасте 60 лет. С увеличением возраста мы наблюдаем колебание оттока, но, из-за малочисленности возрастных клиентов, можно принять это колебание за погрешность и принять, что отток остается на уровне 100%."
   ]
  },
  {
   "cell_type": "markdown",
   "metadata": {},
   "source": [
    "### Изучение зависимости между полом клиента и оттоком"
   ]
  },
  {
   "cell_type": "markdown",
   "metadata": {},
   "source": [
    "Посмотрим, кто чаще попадает в отток: мужчины или женщины."
   ]
  },
  {
   "cell_type": "code",
   "execution_count": 64,
   "metadata": {
    "scrolled": false
   },
   "outputs": [
    {
     "data": {
      "image/png": "[encoded data removed]",
      "text/plain": [
       "<Figure size 432x288 with 1 Axes>"
      ]
     },
     "metadata": {
      "needs_background": "light"
     },
     "output_type": "display_data"
    }
   ],
   "source": [
    "# построим графики распределения количества клиентов в зависимости от пола\n",
    "sns.histplot(df, x='gender', hue='churn',multiple='stack',discrete=True)\n",
    "plt.title('Количество клиентов женского и мужского пола');"
   ]
  },
  {
   "cell_type": "code",
   "execution_count": 65,
   "metadata": {},
   "outputs": [
    {
     "data": {
      "text/html": [
       "<div>\n",
       "<style scoped>\n",
       "    .dataframe tbody tr th:only-of-type {\n",
       "        vertical-align: middle;\n",
       "    }\n",
       "\n",
       "    .dataframe tbody tr th {\n",
       "        vertical-align: top;\n",
       "    }\n",
       "\n",
       "    .dataframe thead th {\n",
       "        text-align: right;\n",
       "    }\n",
       "</style>\n",
       "<table border=\"1\" class=\"dataframe\">\n",
       "  <thead>\n",
       "    <tr style=\"text-align: right;\">\n",
       "      <th>gender</th>\n",
       "      <th>0</th>\n",
       "      <th>1</th>\n",
       "    </tr>\n",
       "    <tr>\n",
       "      <th>products</th>\n",
       "      <th></th>\n",
       "      <th></th>\n",
       "    </tr>\n",
       "  </thead>\n",
       "  <tbody>\n",
       "    <tr>\n",
       "      <th>1</th>\n",
       "      <td>33.2</td>\n",
       "      <td>23.2</td>\n",
       "    </tr>\n",
       "    <tr>\n",
       "      <th>2</th>\n",
       "      <td>10.2</td>\n",
       "      <td>5.5</td>\n",
       "    </tr>\n",
       "  </tbody>\n",
       "</table>\n",
       "</div>"
      ],
      "text/plain": [
       "gender       0     1\n",
       "products            \n",
       "1         33.2  23.2\n",
       "2         10.2   5.5"
      ]
     },
     "execution_count": 65,
     "metadata": {},
     "output_type": "execute_result"
    }
   ],
   "source": [
    "# подсчитаем процент оттока среди женщин и мужчин\n",
    "(df.query('products<3').pivot_table(index='products',columns=['gender'],values='churn',aggfunc='mean')*100).round(decimals =1)"
   ]
  },
  {
   "cell_type": "markdown",
   "metadata": {},
   "source": [
    "Женщин (\"0\") меньше чем мужчин (\"1\") и они чаще попадают в отток."
   ]
  },
  {
   "cell_type": "markdown",
   "metadata": {},
   "source": [
    "### Выводы"
   ]
  },
  {
   "cell_type": "markdown",
   "metadata": {},
   "source": [
    "Клиенты банка используют от одного до 4-х банковских продукта. Самый низкий процент оттока среди клиентов, которые пользуются 2-мя продуктами - 7.6%. Самый высокий процент оттока среди клиентов, которые пользуются 4-мя продуктами - 100%. Однако, группы клиентов, которые пользуются от 3-х до 4-х продуктов малочисленны. Мы не можем делать точный анализ поведения таких клиентов из-за малой выборки. Поэтому, детальный анализ поведения клиентов был сделан только для клиентов, которые используют один или два продукта.\n",
    "\n",
    "Процент оттока:\n",
    "<li>среди клиентов, которые пользуются одним продуктом - 28%</li>\n",
    "<li>среди клиентов, которые пользуются двумя продуктоми - 8%</li>\n",
    "\n",
    "Из анализа данных было выявленно, что из трех городов, только в Ростове Великом нет клиентов отсутствующими данными по балансу на счету. В двух других городах (Ярославль, Рыбинск) процент клиентов без данных по балансу на счету составляет практически половину от всех клиентов, зарегистрированных в этих городах.\n",
    "\n",
    "Процент оттока по городам:\n",
    "<li>среди клиентов, которые пользуются одним продуктом -  Ростов Великий: 43%, Рыбинск: 22%,  Ярославль: 22%.</li>\n",
    "<li>среди клиентов, которые пользуются двумя продуктоми - Ростов Великий: 12%, Рыбинск: 7%,   Ярославль: 6%.</li>\n",
    "\n",
    "Зависимость величины баланса (в случае известных данных), размера заработной платы, баллов кредитного скоринга на отток не была выявленна. "
   ]
  },
  {
   "cell_type": "markdown",
   "metadata": {},
   "source": [
    "## Сегментация пользователей по количеству продуктов"
   ]
  },
  {
   "cell_type": "markdown",
   "metadata": {},
   "source": [
    "Разделим всех клиентов на две \"продуктовые\" группы. Первая группа - пользуется только одним продуктом, вторая - двумя."
   ]
  },
  {
   "cell_type": "markdown",
   "metadata": {},
   "source": [
    "Посмотрим медианные значения всех признаков в двух продуктовых группах."
   ]
  },
  {
   "cell_type": "code",
   "execution_count": 66,
   "metadata": {},
   "outputs": [
    {
     "data": {
      "text/html": [
       "<div>\n",
       "<style scoped>\n",
       "    .dataframe tbody tr th:only-of-type {\n",
       "        vertical-align: middle;\n",
       "    }\n",
       "\n",
       "    .dataframe tbody tr th {\n",
       "        vertical-align: top;\n",
       "    }\n",
       "\n",
       "    .dataframe thead th {\n",
       "        text-align: right;\n",
       "    }\n",
       "</style>\n",
       "<table border=\"1\" class=\"dataframe\">\n",
       "  <thead>\n",
       "    <tr style=\"text-align: right;\">\n",
       "      <th></th>\n",
       "      <th>age</th>\n",
       "      <th>balance</th>\n",
       "      <th>balance_ind</th>\n",
       "      <th>churn</th>\n",
       "      <th>credit_card</th>\n",
       "      <th>estimated_salary</th>\n",
       "      <th>gender</th>\n",
       "      <th>loyalty</th>\n",
       "      <th>objects</th>\n",
       "      <th>salary_cat</th>\n",
       "      <th>score</th>\n",
       "    </tr>\n",
       "    <tr>\n",
       "      <th>products</th>\n",
       "      <th></th>\n",
       "      <th></th>\n",
       "      <th></th>\n",
       "      <th></th>\n",
       "      <th></th>\n",
       "      <th></th>\n",
       "      <th></th>\n",
       "      <th></th>\n",
       "      <th></th>\n",
       "      <th></th>\n",
       "      <th></th>\n",
       "    </tr>\n",
       "  </thead>\n",
       "  <tbody>\n",
       "    <tr>\n",
       "      <th>1</th>\n",
       "      <td>38</td>\n",
       "      <td>111886.035</td>\n",
       "      <td>1</td>\n",
       "      <td>0</td>\n",
       "      <td>1</td>\n",
       "      <td>99226.830</td>\n",
       "      <td>1</td>\n",
       "      <td>1</td>\n",
       "      <td>5</td>\n",
       "      <td>5</td>\n",
       "      <td>651</td>\n",
       "    </tr>\n",
       "    <tr>\n",
       "      <th>2</th>\n",
       "      <td>36</td>\n",
       "      <td>0.000</td>\n",
       "      <td>0</td>\n",
       "      <td>0</td>\n",
       "      <td>1</td>\n",
       "      <td>100738.855</td>\n",
       "      <td>1</td>\n",
       "      <td>1</td>\n",
       "      <td>5</td>\n",
       "      <td>6</td>\n",
       "      <td>653</td>\n",
       "    </tr>\n",
       "  </tbody>\n",
       "</table>\n",
       "</div>"
      ],
      "text/plain": [
       "          age     balance  balance_ind  churn  credit_card  estimated_salary  \\\n",
       "products                                                                       \n",
       "1          38  111886.035            1      0            1         99226.830   \n",
       "2          36       0.000            0      0            1        100738.855   \n",
       "\n",
       "          gender  loyalty  objects  salary_cat  score  \n",
       "products                                               \n",
       "1              1        1        5           5    651  \n",
       "2              1        1        5           6    653  "
      ]
     },
     "execution_count": 66,
     "metadata": {},
     "output_type": "execute_result"
    }
   ],
   "source": [
    "df.query('products<3').pivot_table(index='products',aggfunc='median')"
   ]
  },
  {
   "cell_type": "markdown",
   "metadata": {},
   "source": [
    "Можно заметить, что главным отличием одной группы от другой является наличие информации о балансе на счету: в первой группе большая часть клиентов ИМЕЕТ информацию о балансе, во второй группе - большая часть клиентов НЕ имеет информации о балансе на счету.\n",
    "\n",
    "По остальным характеристикам медианные значения в двух группах отличается не значительно (возраст, заработная плата, скоринговый балл)."
   ]
  },
  {
   "cell_type": "markdown",
   "metadata": {},
   "source": [
    "Изучим более детально распределение признаков по продуктовым группам. "
   ]
  },
  {
   "cell_type": "markdown",
   "metadata": {},
   "source": [
    "Напишем вспомогательные функции для отрисовки sparkline и расчета перцентилей"
   ]
  },
  {
   "cell_type": "code",
   "execution_count": 67,
   "metadata": {},
   "outputs": [],
   "source": [
    "# функция для вывода sparkline\n",
    "def sparkline_str(x):\n",
    "    bins=np.histogram(x)[0]\n",
    "    sl = ''.join(sparklines(bins))\n",
    "    return sl\n",
    "sparkline_str.__name__ = \"sparkline\""
   ]
  },
  {
   "cell_type": "code",
   "execution_count": 68,
   "metadata": {},
   "outputs": [],
   "source": [
    "# функция для расчета перцентиля\n",
    "def percentile(n):\n",
    "    def percentile_(x):\n",
    "        return np.percentile(x, n)\n",
    "    percentile_.__name__ = 'percentile_%s' % n\n",
    "    return percentile_"
   ]
  },
  {
   "cell_type": "markdown",
   "metadata": {},
   "source": [
    "Запишем список признаков, которые будем изучать"
   ]
  },
  {
   "cell_type": "code",
   "execution_count": 69,
   "metadata": {},
   "outputs": [
    {
     "data": {
      "text/plain": [
       "Index(['score', 'city', 'gender', 'age', 'objects', 'balance', 'products',\n",
       "       'credit_card', 'loyalty', 'estimated_salary', 'churn', 'balance_ind',\n",
       "       'salary_cat'],\n",
       "      dtype='object')"
      ]
     },
     "execution_count": 69,
     "metadata": {},
     "output_type": "execute_result"
    }
   ],
   "source": [
    "df.columns"
   ]
  },
  {
   "cell_type": "code",
   "execution_count": 70,
   "metadata": {},
   "outputs": [],
   "source": [
    "att_list = ['age','gender','objects', 'balance', 'balance_ind','credit_card','loyalty','estimated_salary']"
   ]
  },
  {
   "cell_type": "code",
   "execution_count": 71,
   "metadata": {
    "scrolled": false
   },
   "outputs": [
    {
     "name": "stdout",
     "output_type": "stream",
     "text": [
      "Описание признака age\n"
     ]
    },
    {
     "data": {
      "text/html": [
       "<div>\n",
       "<style scoped>\n",
       "    .dataframe tbody tr th:only-of-type {\n",
       "        vertical-align: middle;\n",
       "    }\n",
       "\n",
       "    .dataframe tbody tr th {\n",
       "        vertical-align: top;\n",
       "    }\n",
       "\n",
       "    .dataframe thead tr th {\n",
       "        text-align: left;\n",
       "    }\n",
       "\n",
       "    .dataframe thead tr:last-of-type th {\n",
       "        text-align: right;\n",
       "    }\n",
       "</style>\n",
       "<table border=\"1\" class=\"dataframe\">\n",
       "  <thead>\n",
       "    <tr>\n",
       "      <th></th>\n",
       "      <th colspan=\"6\" halign=\"left\">age</th>\n",
       "    </tr>\n",
       "    <tr>\n",
       "      <th></th>\n",
       "      <th>mean</th>\n",
       "      <th>median</th>\n",
       "      <th>std</th>\n",
       "      <th>percentile_25</th>\n",
       "      <th>percentile_75</th>\n",
       "      <th>sparkline</th>\n",
       "    </tr>\n",
       "    <tr>\n",
       "      <th>products</th>\n",
       "      <th></th>\n",
       "      <th></th>\n",
       "      <th></th>\n",
       "      <th></th>\n",
       "      <th></th>\n",
       "      <th></th>\n",
       "    </tr>\n",
       "  </thead>\n",
       "  <tbody>\n",
       "    <tr>\n",
       "      <th>1</th>\n",
       "      <td>39.673</td>\n",
       "      <td>38.0</td>\n",
       "      <td>10.660</td>\n",
       "      <td>32.0</td>\n",
       "      <td>45.0</td>\n",
       "      <td>▂▅█▅▃▂▁▁▁▁</td>\n",
       "    </tr>\n",
       "    <tr>\n",
       "      <th>2</th>\n",
       "      <td>37.754</td>\n",
       "      <td>36.0</td>\n",
       "      <td>10.146</td>\n",
       "      <td>31.0</td>\n",
       "      <td>42.0</td>\n",
       "      <td>▂▅█▄▂▂▁▁▁▁</td>\n",
       "    </tr>\n",
       "  </tbody>\n",
       "</table>\n",
       "</div>"
      ],
      "text/plain": [
       "             age                                                       \n",
       "            mean median     std percentile_25 percentile_75   sparkline\n",
       "products                                                               \n",
       "1         39.673   38.0  10.660          32.0          45.0  ▂▅█▅▃▂▁▁▁▁\n",
       "2         37.754   36.0  10.146          31.0          42.0  ▂▅█▄▂▂▁▁▁▁"
      ]
     },
     "metadata": {},
     "output_type": "display_data"
    },
    {
     "name": "stdout",
     "output_type": "stream",
     "text": [
      "\n",
      "\n",
      "Описание признака gender\n"
     ]
    },
    {
     "data": {
      "text/html": [
       "<div>\n",
       "<style scoped>\n",
       "    .dataframe tbody tr th:only-of-type {\n",
       "        vertical-align: middle;\n",
       "    }\n",
       "\n",
       "    .dataframe tbody tr th {\n",
       "        vertical-align: top;\n",
       "    }\n",
       "\n",
       "    .dataframe thead tr th {\n",
       "        text-align: left;\n",
       "    }\n",
       "\n",
       "    .dataframe thead tr:last-of-type th {\n",
       "        text-align: right;\n",
       "    }\n",
       "</style>\n",
       "<table border=\"1\" class=\"dataframe\">\n",
       "  <thead>\n",
       "    <tr>\n",
       "      <th></th>\n",
       "      <th colspan=\"6\" halign=\"left\">gender</th>\n",
       "    </tr>\n",
       "    <tr>\n",
       "      <th></th>\n",
       "      <th>mean</th>\n",
       "      <th>median</th>\n",
       "      <th>std</th>\n",
       "      <th>percentile_25</th>\n",
       "      <th>percentile_75</th>\n",
       "      <th>sparkline</th>\n",
       "    </tr>\n",
       "    <tr>\n",
       "      <th>products</th>\n",
       "      <th></th>\n",
       "      <th></th>\n",
       "      <th></th>\n",
       "      <th></th>\n",
       "      <th></th>\n",
       "      <th></th>\n",
       "    </tr>\n",
       "  </thead>\n",
       "  <tbody>\n",
       "    <tr>\n",
       "      <th>1</th>\n",
       "      <td>0.548</td>\n",
       "      <td>1.0</td>\n",
       "      <td>0.498</td>\n",
       "      <td>0.0</td>\n",
       "      <td>1.0</td>\n",
       "      <td>▇▁▁▁▁▁▁▁▁█</td>\n",
       "    </tr>\n",
       "    <tr>\n",
       "      <th>2</th>\n",
       "      <td>0.551</td>\n",
       "      <td>1.0</td>\n",
       "      <td>0.497</td>\n",
       "      <td>0.0</td>\n",
       "      <td>1.0</td>\n",
       "      <td>▇▁▁▁▁▁▁▁▁█</td>\n",
       "    </tr>\n",
       "  </tbody>\n",
       "</table>\n",
       "</div>"
      ],
      "text/plain": [
       "         gender                                                      \n",
       "           mean median    std percentile_25 percentile_75   sparkline\n",
       "products                                                             \n",
       "1         0.548    1.0  0.498           0.0           1.0  ▇▁▁▁▁▁▁▁▁█\n",
       "2         0.551    1.0  0.497           0.0           1.0  ▇▁▁▁▁▁▁▁▁█"
      ]
     },
     "metadata": {},
     "output_type": "display_data"
    },
    {
     "name": "stdout",
     "output_type": "stream",
     "text": [
      "\n",
      "\n",
      "Описание признака objects\n"
     ]
    },
    {
     "data": {
      "text/html": [
       "<div>\n",
       "<style scoped>\n",
       "    .dataframe tbody tr th:only-of-type {\n",
       "        vertical-align: middle;\n",
       "    }\n",
       "\n",
       "    .dataframe tbody tr th {\n",
       "        vertical-align: top;\n",
       "    }\n",
       "\n",
       "    .dataframe thead tr th {\n",
       "        text-align: left;\n",
       "    }\n",
       "\n",
       "    .dataframe thead tr:last-of-type th {\n",
       "        text-align: right;\n",
       "    }\n",
       "</style>\n",
       "<table border=\"1\" class=\"dataframe\">\n",
       "  <thead>\n",
       "    <tr>\n",
       "      <th></th>\n",
       "      <th colspan=\"6\" halign=\"left\">objects</th>\n",
       "    </tr>\n",
       "    <tr>\n",
       "      <th></th>\n",
       "      <th>mean</th>\n",
       "      <th>median</th>\n",
       "      <th>std</th>\n",
       "      <th>percentile_25</th>\n",
       "      <th>percentile_75</th>\n",
       "      <th>sparkline</th>\n",
       "    </tr>\n",
       "    <tr>\n",
       "      <th>products</th>\n",
       "      <th></th>\n",
       "      <th></th>\n",
       "      <th></th>\n",
       "      <th></th>\n",
       "      <th></th>\n",
       "      <th></th>\n",
       "    </tr>\n",
       "  </thead>\n",
       "  <tbody>\n",
       "    <tr>\n",
       "      <th>1</th>\n",
       "      <td>4.975</td>\n",
       "      <td>5.0</td>\n",
       "      <td>2.914</td>\n",
       "      <td>2.0</td>\n",
       "      <td>7.0</td>\n",
       "      <td>▁▆▄▅▅▅▅▅▅█</td>\n",
       "    </tr>\n",
       "    <tr>\n",
       "      <th>2</th>\n",
       "      <td>5.052</td>\n",
       "      <td>5.0</td>\n",
       "      <td>2.868</td>\n",
       "      <td>3.0</td>\n",
       "      <td>7.0</td>\n",
       "      <td>▁▅▆▅▅▅▅▅▅█</td>\n",
       "    </tr>\n",
       "  </tbody>\n",
       "</table>\n",
       "</div>"
      ],
      "text/plain": [
       "         objects                                                      \n",
       "            mean median    std percentile_25 percentile_75   sparkline\n",
       "products                                                              \n",
       "1          4.975    5.0  2.914           2.0           7.0  ▁▆▄▅▅▅▅▅▅█\n",
       "2          5.052    5.0  2.868           3.0           7.0  ▁▅▆▅▅▅▅▅▅█"
      ]
     },
     "metadata": {},
     "output_type": "display_data"
    },
    {
     "name": "stdout",
     "output_type": "stream",
     "text": [
      "\n",
      "\n",
      "Описание признака balance\n"
     ]
    },
    {
     "data": {
      "text/html": [
       "<div>\n",
       "<style scoped>\n",
       "    .dataframe tbody tr th:only-of-type {\n",
       "        vertical-align: middle;\n",
       "    }\n",
       "\n",
       "    .dataframe tbody tr th {\n",
       "        vertical-align: top;\n",
       "    }\n",
       "\n",
       "    .dataframe thead tr th {\n",
       "        text-align: left;\n",
       "    }\n",
       "\n",
       "    .dataframe thead tr:last-of-type th {\n",
       "        text-align: right;\n",
       "    }\n",
       "</style>\n",
       "<table border=\"1\" class=\"dataframe\">\n",
       "  <thead>\n",
       "    <tr>\n",
       "      <th></th>\n",
       "      <th colspan=\"6\" halign=\"left\">balance</th>\n",
       "    </tr>\n",
       "    <tr>\n",
       "      <th></th>\n",
       "      <th>mean</th>\n",
       "      <th>median</th>\n",
       "      <th>std</th>\n",
       "      <th>percentile_25</th>\n",
       "      <th>percentile_75</th>\n",
       "      <th>sparkline</th>\n",
       "    </tr>\n",
       "    <tr>\n",
       "      <th>products</th>\n",
       "      <th></th>\n",
       "      <th></th>\n",
       "      <th></th>\n",
       "      <th></th>\n",
       "      <th></th>\n",
       "      <th></th>\n",
       "    </tr>\n",
       "  </thead>\n",
       "  <tbody>\n",
       "    <tr>\n",
       "      <th>1</th>\n",
       "      <td>98551.871</td>\n",
       "      <td>111886.035</td>\n",
       "      <td>53234.093</td>\n",
       "      <td>79700.722</td>\n",
       "      <td>134596.312</td>\n",
       "      <td>▆▁▂▄██▅▂▁▁</td>\n",
       "    </tr>\n",
       "    <tr>\n",
       "      <th>2</th>\n",
       "      <td>51879.146</td>\n",
       "      <td>0.000</td>\n",
       "      <td>62644.475</td>\n",
       "      <td>0.000</td>\n",
       "      <td>113593.458</td>\n",
       "      <td>█▁▁▂▂▃▂▂▁▁</td>\n",
       "    </tr>\n",
       "  </tbody>\n",
       "</table>\n",
       "</div>"
      ],
      "text/plain": [
       "            balance                                                     \\\n",
       "               mean      median        std percentile_25 percentile_75   \n",
       "products                                                                 \n",
       "1         98551.871  111886.035  53234.093     79700.722    134596.312   \n",
       "2         51879.146       0.000  62644.475         0.000    113593.458   \n",
       "\n",
       "                      \n",
       "           sparkline  \n",
       "products              \n",
       "1         ▆▁▂▄██▅▂▁▁  \n",
       "2         █▁▁▂▂▃▂▂▁▁  "
      ]
     },
     "metadata": {},
     "output_type": "display_data"
    },
    {
     "name": "stdout",
     "output_type": "stream",
     "text": [
      "\n",
      "\n",
      "Описание признака balance_ind\n"
     ]
    },
    {
     "data": {
      "text/html": [
       "<div>\n",
       "<style scoped>\n",
       "    .dataframe tbody tr th:only-of-type {\n",
       "        vertical-align: middle;\n",
       "    }\n",
       "\n",
       "    .dataframe tbody tr th {\n",
       "        vertical-align: top;\n",
       "    }\n",
       "\n",
       "    .dataframe thead tr th {\n",
       "        text-align: left;\n",
       "    }\n",
       "\n",
       "    .dataframe thead tr:last-of-type th {\n",
       "        text-align: right;\n",
       "    }\n",
       "</style>\n",
       "<table border=\"1\" class=\"dataframe\">\n",
       "  <thead>\n",
       "    <tr>\n",
       "      <th></th>\n",
       "      <th colspan=\"6\" halign=\"left\">balance_ind</th>\n",
       "    </tr>\n",
       "    <tr>\n",
       "      <th></th>\n",
       "      <th>mean</th>\n",
       "      <th>median</th>\n",
       "      <th>std</th>\n",
       "      <th>percentile_25</th>\n",
       "      <th>percentile_75</th>\n",
       "      <th>sparkline</th>\n",
       "    </tr>\n",
       "    <tr>\n",
       "      <th>products</th>\n",
       "      <th></th>\n",
       "      <th></th>\n",
       "      <th></th>\n",
       "      <th></th>\n",
       "      <th></th>\n",
       "      <th></th>\n",
       "    </tr>\n",
       "  </thead>\n",
       "  <tbody>\n",
       "    <tr>\n",
       "      <th>1</th>\n",
       "      <td>0.822</td>\n",
       "      <td>1.0</td>\n",
       "      <td>0.383</td>\n",
       "      <td>1.0</td>\n",
       "      <td>1.0</td>\n",
       "      <td>▃▁▁▁▁▁▁▁▁█</td>\n",
       "    </tr>\n",
       "    <tr>\n",
       "      <th>2</th>\n",
       "      <td>0.434</td>\n",
       "      <td>0.0</td>\n",
       "      <td>0.496</td>\n",
       "      <td>0.0</td>\n",
       "      <td>1.0</td>\n",
       "      <td>█▁▁▁▁▁▁▁▁▆</td>\n",
       "    </tr>\n",
       "  </tbody>\n",
       "</table>\n",
       "</div>"
      ],
      "text/plain": [
       "         balance_ind                                                      \n",
       "                mean median    std percentile_25 percentile_75   sparkline\n",
       "products                                                                  \n",
       "1              0.822    1.0  0.383           1.0           1.0  ▃▁▁▁▁▁▁▁▁█\n",
       "2              0.434    0.0  0.496           0.0           1.0  █▁▁▁▁▁▁▁▁▆"
      ]
     },
     "metadata": {},
     "output_type": "display_data"
    },
    {
     "name": "stdout",
     "output_type": "stream",
     "text": [
      "\n",
      "\n",
      "Описание признака credit_card\n"
     ]
    },
    {
     "data": {
      "text/html": [
       "<div>\n",
       "<style scoped>\n",
       "    .dataframe tbody tr th:only-of-type {\n",
       "        vertical-align: middle;\n",
       "    }\n",
       "\n",
       "    .dataframe tbody tr th {\n",
       "        vertical-align: top;\n",
       "    }\n",
       "\n",
       "    .dataframe thead tr th {\n",
       "        text-align: left;\n",
       "    }\n",
       "\n",
       "    .dataframe thead tr:last-of-type th {\n",
       "        text-align: right;\n",
       "    }\n",
       "</style>\n",
       "<table border=\"1\" class=\"dataframe\">\n",
       "  <thead>\n",
       "    <tr>\n",
       "      <th></th>\n",
       "      <th colspan=\"6\" halign=\"left\">credit_card</th>\n",
       "    </tr>\n",
       "    <tr>\n",
       "      <th></th>\n",
       "      <th>mean</th>\n",
       "      <th>median</th>\n",
       "      <th>std</th>\n",
       "      <th>percentile_25</th>\n",
       "      <th>percentile_75</th>\n",
       "      <th>sparkline</th>\n",
       "    </tr>\n",
       "    <tr>\n",
       "      <th>products</th>\n",
       "      <th></th>\n",
       "      <th></th>\n",
       "      <th></th>\n",
       "      <th></th>\n",
       "      <th></th>\n",
       "      <th></th>\n",
       "    </tr>\n",
       "  </thead>\n",
       "  <tbody>\n",
       "    <tr>\n",
       "      <th>1</th>\n",
       "      <td>0.704</td>\n",
       "      <td>1.0</td>\n",
       "      <td>0.457</td>\n",
       "      <td>0.0</td>\n",
       "      <td>1.0</td>\n",
       "      <td>▄▁▁▁▁▁▁▁▁█</td>\n",
       "    </tr>\n",
       "    <tr>\n",
       "      <th>2</th>\n",
       "      <td>0.707</td>\n",
       "      <td>1.0</td>\n",
       "      <td>0.455</td>\n",
       "      <td>0.0</td>\n",
       "      <td>1.0</td>\n",
       "      <td>▄▁▁▁▁▁▁▁▁█</td>\n",
       "    </tr>\n",
       "  </tbody>\n",
       "</table>\n",
       "</div>"
      ],
      "text/plain": [
       "         credit_card                                                      \n",
       "                mean median    std percentile_25 percentile_75   sparkline\n",
       "products                                                                  \n",
       "1              0.704    1.0  0.457           0.0           1.0  ▄▁▁▁▁▁▁▁▁█\n",
       "2              0.707    1.0  0.455           0.0           1.0  ▄▁▁▁▁▁▁▁▁█"
      ]
     },
     "metadata": {},
     "output_type": "display_data"
    },
    {
     "name": "stdout",
     "output_type": "stream",
     "text": [
      "\n",
      "\n",
      "Описание признака loyalty\n"
     ]
    },
    {
     "data": {
      "text/html": [
       "<div>\n",
       "<style scoped>\n",
       "    .dataframe tbody tr th:only-of-type {\n",
       "        vertical-align: middle;\n",
       "    }\n",
       "\n",
       "    .dataframe tbody tr th {\n",
       "        vertical-align: top;\n",
       "    }\n",
       "\n",
       "    .dataframe thead tr th {\n",
       "        text-align: left;\n",
       "    }\n",
       "\n",
       "    .dataframe thead tr:last-of-type th {\n",
       "        text-align: right;\n",
       "    }\n",
       "</style>\n",
       "<table border=\"1\" class=\"dataframe\">\n",
       "  <thead>\n",
       "    <tr>\n",
       "      <th></th>\n",
       "      <th colspan=\"6\" halign=\"left\">loyalty</th>\n",
       "    </tr>\n",
       "    <tr>\n",
       "      <th></th>\n",
       "      <th>mean</th>\n",
       "      <th>median</th>\n",
       "      <th>std</th>\n",
       "      <th>percentile_25</th>\n",
       "      <th>percentile_75</th>\n",
       "      <th>sparkline</th>\n",
       "    </tr>\n",
       "    <tr>\n",
       "      <th>products</th>\n",
       "      <th></th>\n",
       "      <th></th>\n",
       "      <th></th>\n",
       "      <th></th>\n",
       "      <th></th>\n",
       "      <th></th>\n",
       "    </tr>\n",
       "  </thead>\n",
       "  <tbody>\n",
       "    <tr>\n",
       "      <th>1</th>\n",
       "      <td>0.504</td>\n",
       "      <td>1.0</td>\n",
       "      <td>0.500</td>\n",
       "      <td>0.0</td>\n",
       "      <td>1.0</td>\n",
       "      <td>█▁▁▁▁▁▁▁▁█</td>\n",
       "    </tr>\n",
       "    <tr>\n",
       "      <th>2</th>\n",
       "      <td>0.533</td>\n",
       "      <td>1.0</td>\n",
       "      <td>0.499</td>\n",
       "      <td>0.0</td>\n",
       "      <td>1.0</td>\n",
       "      <td>▇▁▁▁▁▁▁▁▁█</td>\n",
       "    </tr>\n",
       "  </tbody>\n",
       "</table>\n",
       "</div>"
      ],
      "text/plain": [
       "         loyalty                                                      \n",
       "            mean median    std percentile_25 percentile_75   sparkline\n",
       "products                                                              \n",
       "1          0.504    1.0  0.500           0.0           1.0  █▁▁▁▁▁▁▁▁█\n",
       "2          0.533    1.0  0.499           0.0           1.0  ▇▁▁▁▁▁▁▁▁█"
      ]
     },
     "metadata": {},
     "output_type": "display_data"
    },
    {
     "name": "stdout",
     "output_type": "stream",
     "text": [
      "\n",
      "\n",
      "Описание признака estimated_salary\n"
     ]
    },
    {
     "data": {
      "text/html": [
       "<div>\n",
       "<style scoped>\n",
       "    .dataframe tbody tr th:only-of-type {\n",
       "        vertical-align: middle;\n",
       "    }\n",
       "\n",
       "    .dataframe tbody tr th {\n",
       "        vertical-align: top;\n",
       "    }\n",
       "\n",
       "    .dataframe thead tr th {\n",
       "        text-align: left;\n",
       "    }\n",
       "\n",
       "    .dataframe thead tr:last-of-type th {\n",
       "        text-align: right;\n",
       "    }\n",
       "</style>\n",
       "<table border=\"1\" class=\"dataframe\">\n",
       "  <thead>\n",
       "    <tr>\n",
       "      <th></th>\n",
       "      <th colspan=\"6\" halign=\"left\">estimated_salary</th>\n",
       "    </tr>\n",
       "    <tr>\n",
       "      <th></th>\n",
       "      <th>mean</th>\n",
       "      <th>median</th>\n",
       "      <th>std</th>\n",
       "      <th>percentile_25</th>\n",
       "      <th>percentile_75</th>\n",
       "      <th>sparkline</th>\n",
       "    </tr>\n",
       "    <tr>\n",
       "      <th>products</th>\n",
       "      <th></th>\n",
       "      <th></th>\n",
       "      <th></th>\n",
       "      <th></th>\n",
       "      <th></th>\n",
       "      <th></th>\n",
       "    </tr>\n",
       "  </thead>\n",
       "  <tbody>\n",
       "    <tr>\n",
       "      <th>1</th>\n",
       "      <td>99487.257</td>\n",
       "      <td>99226.830</td>\n",
       "      <td>57363.626</td>\n",
       "      <td>50414.515</td>\n",
       "      <td>148212.695</td>\n",
       "      <td>▃▄▂█▄▆▅▁▃▂</td>\n",
       "    </tr>\n",
       "    <tr>\n",
       "      <th>2</th>\n",
       "      <td>100452.013</td>\n",
       "      <td>100738.855</td>\n",
       "      <td>57790.800</td>\n",
       "      <td>50797.288</td>\n",
       "      <td>150151.460</td>\n",
       "      <td>▃▁█▁▃▄▃▅▅▄</td>\n",
       "    </tr>\n",
       "  </tbody>\n",
       "</table>\n",
       "</div>"
      ],
      "text/plain": [
       "         estimated_salary                                                     \\\n",
       "                     mean      median        std percentile_25 percentile_75   \n",
       "products                                                                       \n",
       "1               99487.257   99226.830  57363.626     50414.515    148212.695   \n",
       "2              100452.013  100738.855  57790.800     50797.288    150151.460   \n",
       "\n",
       "                      \n",
       "           sparkline  \n",
       "products              \n",
       "1         ▃▄▂█▄▆▅▁▃▂  \n",
       "2         ▃▁█▁▃▄▃▅▅▄  "
      ]
     },
     "metadata": {},
     "output_type": "display_data"
    },
    {
     "name": "stdout",
     "output_type": "stream",
     "text": [
      "\n",
      "\n"
     ]
    }
   ],
   "source": [
    "for i in att_list:\n",
    "    print(f'Описание признака {i}')\n",
    "    agg_func_describe = {i: ['mean','median',np.std,percentile(25), percentile(75),sparkline_str]}\n",
    "    df_i = df.query('products<3').groupby(['products']).agg(agg_func_describe).round(3)\n",
    "    display(df_i)\n",
    "    print('')\n",
    "    print('')"
   ]
  },
  {
   "cell_type": "markdown",
   "metadata": {},
   "source": [
    "Нормальное распределение имеют две характеристики - 'age' (возраст) и 'balance' (баланс на счету, не учитывая клиентов без данных по балансу). Заработная плата и количество объектов имеют равномерное распределение."
   ]
  },
  {
   "cell_type": "markdown",
   "metadata": {},
   "source": [
    "### Выводы"
   ]
  },
  {
   "cell_type": "markdown",
   "metadata": {},
   "source": [
    "Возраст:\n",
    "Клиенты первой группы в среденм старше, чем клиенты второй группы:\n",
    "<li> первая группа: 38 лет (медианное значение)</li>\n",
    "<li> вторая группа: 36 лет (медианное значение)</li>"
   ]
  },
  {
   "cell_type": "markdown",
   "metadata": {},
   "source": [
    "Информация о балансе на счету:\n",
    "\n",
    "<li> первая группа: 82% имеют данные о балансе на счету, т.е клиент первой группы скорее имеет данные о балансе</li>\n",
    "<li> вторая группа: 43% имеют данные о балансе на счету, т.е клиент второй группы скорее не имеет данных о балансе</li>"
   ]
  },
  {
   "cell_type": "markdown",
   "metadata": {},
   "source": [
    "Заработная плата:\n",
    "\n",
    "<li> первая группа: среднее значение 99 500 руб.</li>\n",
    "<li> вторая группа: среднее значение 100 500 руб.</li>\n",
    "\n",
    "Величина среденей заработной платы отличается не значительно."
   ]
  },
  {
   "cell_type": "markdown",
   "metadata": {},
   "source": [
    "Сформулируем две гипотезы:\n",
    "<li> Гипотеза 1: заработная плата клиентов первой и второй группы не отличается.</li>\n",
    "<li> Гипотеза 2: возраст клиентов в первой группе не отличается от возраста клиентов во второй группе </li>"
   ]
  },
  {
   "cell_type": "markdown",
   "metadata": {},
   "source": [
    "## Проверка статистических гипотез"
   ]
  },
  {
   "cell_type": "markdown",
   "metadata": {},
   "source": [
    "### Проверка гипотезы равенства заработной платы"
   ]
  },
  {
   "cell_type": "markdown",
   "metadata": {},
   "source": [
    "Гипотеза: величина заработной платы клиентов в первой группе не отличается от величины заработной платы клиентов во второй группе."
   ]
  },
  {
   "cell_type": "markdown",
   "metadata": {},
   "source": [
    "Примем за нулевую гипотезу, что величина заработной платы клиентов в первой группе не отличается от величины заработной платы клиентов во второй группе. Альтернативная гипотеза - величина заработной платы клиентов из первой группы отличается от величины заработной платы во второй группе. Если мы сможем опровергнуть нулевую гипотезу, то величина заработной платы отличается.\n",
    "Для проверки гипотезы применим  t-тест."
   ]
  },
  {
   "cell_type": "markdown",
   "metadata": {},
   "source": [
    "Проверим, что условия применимости t-теста соблюдены : \n",
    "<li> генеральные совокупности независимы </li>\n",
    "<li> выборочные средние нормально распределены </li>\n",
    "<li> дисперсии рассматриваемых генеральных совокупностей должны быть равны </li>"
   ]
  },
  {
   "cell_type": "markdown",
   "metadata": {},
   "source": [
    "Величина заработной платы клиентов первой группы не зависит от величины заработной платы клиентов второй группы. Следовательно, выборки (и генеральные совокупности) не зависимы."
   ]
  },
  {
   "cell_type": "markdown",
   "metadata": {},
   "source": [
    "Мы знаем, что данные по величине заработной платы распределены равномерно, а не по нормальному закону. Проверим как распределены выборочные средние."
   ]
  },
  {
   "cell_type": "markdown",
   "metadata": {},
   "source": [
    "Напишем функцию для создания списка выборочных средних из двух выборок."
   ]
  },
  {
   "cell_type": "code",
   "execution_count": 72,
   "metadata": {},
   "outputs": [],
   "source": [
    "def sample_mean_list(df):\n",
    "    \"\"\"\n",
    "    функция для создания списка из 1000 значений выборочных средних из выборки df\n",
    "    \"\"\"\n",
    "    sample_gr_mean = []\n",
    "    for i in range(0,1000):\n",
    "        sample_gr_mean.append(df.sample(n=100).mean())\n",
    "    return sample_gr_mean"
   ]
  },
  {
   "cell_type": "markdown",
   "metadata": {},
   "source": [
    "Запишем выборки для каждой группы:"
   ]
  },
  {
   "cell_type": "code",
   "execution_count": 73,
   "metadata": {},
   "outputs": [],
   "source": [
    "df_sample_salary_gr1 = df[df['products']==1]['estimated_salary']\n",
    "df_sample_salary_gr2 = df[df['products']==2]['estimated_salary']"
   ]
  },
  {
   "cell_type": "markdown",
   "metadata": {},
   "source": [
    "Посмотрим как распределены выборочные средние в двух выборках"
   ]
  },
  {
   "cell_type": "code",
   "execution_count": 74,
   "metadata": {},
   "outputs": [
    {
     "data": {
      "image/png": "[encoded data removed]",
      "text/plain": [
       "<Figure size 432x288 with 1 Axes>"
      ]
     },
     "metadata": {
      "needs_background": "light"
     },
     "output_type": "display_data"
    }
   ],
   "source": [
    "# Распределение выборочных средних из выборки первой группы\n",
    "sns.histplot(sample_mean_list(df_sample_salary_gr1));"
   ]
  },
  {
   "cell_type": "code",
   "execution_count": 75,
   "metadata": {},
   "outputs": [
    {
     "data": {
      "image/png": "[encoded data removed]",
      "text/plain": [
       "<Figure size 432x288 with 1 Axes>"
      ]
     },
     "metadata": {
      "needs_background": "light"
     },
     "output_type": "display_data"
    }
   ],
   "source": [
    "# Распределение выборочных средних из выборки второй группы\n",
    "sns.histplot(sample_mean_list(df_sample_salary_gr2));"
   ]
  },
  {
   "cell_type": "markdown",
   "metadata": {},
   "source": [
    "Выборочные средние распределены нормально."
   ]
  },
  {
   "cell_type": "markdown",
   "metadata": {},
   "source": [
    "Последние условие применимости t-теста (равенства дисперсий) мы не можем однозначно подтвердить. Хотя величины стандартных отклонений двух выборок очень похожи. Поэтому, проведем t-тест дважды. В первом случае примем, что дисперсии равны (equal_var=True), во втором - нет(equal_var=False). "
   ]
  },
  {
   "cell_type": "markdown",
   "metadata": {},
   "source": [
    "Проверим гипотезу, принимая, что дисперсии генеральных совокупностей равны. p-value -примем равным 0.05."
   ]
  },
  {
   "cell_type": "code",
   "execution_count": 76,
   "metadata": {},
   "outputs": [
    {
     "name": "stdout",
     "output_type": "stream",
     "text": [
      "p-значение: 0.41047183624949335\n",
      "Не получилось отвергнуть нулевую гипотезу\n"
     ]
    }
   ],
   "source": [
    "alpha = 0.05\n",
    "\n",
    "results = st.ttest_ind(\n",
    "    df_sample_salary_gr1, \n",
    "    df_sample_salary_gr2,\n",
    "    equal_var=True)\n",
    "\n",
    "print('p-значение:', results.pvalue)\n",
    "\n",
    "if results.pvalue < alpha:\n",
    "    print(\"Отвергаем нулевую гипотезу\")\n",
    "else:\n",
    "    print(\"Не получилось отвергнуть нулевую гипотезу\")"
   ]
  },
  {
   "cell_type": "markdown",
   "metadata": {},
   "source": [
    "Проверим гипотезу, принимая, что дисперсии генеральных совокупностей НЕ равны"
   ]
  },
  {
   "cell_type": "code",
   "execution_count": 77,
   "metadata": {},
   "outputs": [
    {
     "name": "stdout",
     "output_type": "stream",
     "text": [
      "p-значение: 0.4106493940071987\n",
      "Не получилось отвергнуть нулевую гипотезу\n"
     ]
    }
   ],
   "source": [
    "results = st.ttest_ind(\n",
    "    df_sample_salary_gr1, \n",
    "    df_sample_salary_gr2,\n",
    "    equal_var=False)\n",
    "\n",
    "print('p-значение:', results.pvalue)\n",
    "\n",
    "if results.pvalue < alpha:\n",
    "    print(\"Отвергаем нулевую гипотезу\")\n",
    "else:\n",
    "    print(\"Не получилось отвергнуть нулевую гипотезу\")"
   ]
  },
  {
   "cell_type": "markdown",
   "metadata": {},
   "source": [
    "#### Выводы: "
   ]
  },
  {
   "cell_type": "markdown",
   "metadata": {},
   "source": [
    "Величина заработной платы в двух группах не отличается."
   ]
  },
  {
   "cell_type": "markdown",
   "metadata": {},
   "source": [
    "### Проверка гипотезы о возрасте клиентов"
   ]
  },
  {
   "cell_type": "markdown",
   "metadata": {},
   "source": [
    "Гипотеза: возраст клиентов в первой группе не отличается от возраста клиентов во второй группе"
   ]
  },
  {
   "cell_type": "markdown",
   "metadata": {},
   "source": [
    "Примем за нулевую гипотезу, что возраст клиентов в первой группе не отличается от возраста клиентов во второй группе. Альтернативная гипотеза - возраст клиентов из первой группы отличается от возраста клиентов во второй группе. Если мы сможем опровергнуть нулевую гипотезу, то возраст отличается.\n",
    "Для проверки гипотезы применим  t-тест."
   ]
  },
  {
   "cell_type": "markdown",
   "metadata": {},
   "source": [
    "Выборки независимы, возраст клиентов имеет нормальное распределение. Примем, что дисперсии генеральных совокупностей равны"
   ]
  },
  {
   "cell_type": "markdown",
   "metadata": {},
   "source": [
    "Запишем выборки возраста клиентов в двух группах"
   ]
  },
  {
   "cell_type": "code",
   "execution_count": 78,
   "metadata": {},
   "outputs": [],
   "source": [
    "df_sample_age_gr1 = df[df['products']==1]['age']\n",
    "df_sample_age_gr2 = df[df['products']==2]['age']"
   ]
  },
  {
   "cell_type": "code",
   "execution_count": 79,
   "metadata": {},
   "outputs": [
    {
     "name": "stdout",
     "output_type": "stream",
     "text": [
      "p-значение: 1.730821607368763e-19\n",
      "Отвергаем нулевую гипотезу\n"
     ]
    }
   ],
   "source": [
    "results = st.ttest_ind(\n",
    "    df_sample_age_gr1, \n",
    "    df_sample_age_gr2,\n",
    "    equal_var=True)\n",
    "\n",
    "print('p-значение:', results.pvalue)\n",
    "\n",
    "if results.pvalue < alpha:\n",
    "    print(\"Отвергаем нулевую гипотезу\")\n",
    "else:\n",
    "    print(\"Не получилось отвергнуть нулевую гипотезу\")"
   ]
  },
  {
   "cell_type": "markdown",
   "metadata": {},
   "source": [
    "#### Выводы: "
   ]
  },
  {
   "cell_type": "markdown",
   "metadata": {},
   "source": [
    "Возраст клиентов двух продуктовых групп отличается."
   ]
  },
  {
   "cell_type": "markdown",
   "metadata": {},
   "source": [
    "## Выводы"
   ]
  },
  {
   "cell_type": "markdown",
   "metadata": {},
   "source": [
    "Клиентов банка можно разделить на три группы по количеству используемых продуктов:\n",
    "\n",
    "<li> Первая группа использует только один продукт </li>\n",
    "<li> Вторая группа использует два продукта </li>\n",
    "<li> Третья групп использует три и более продуктов </li>\n",
    "<p>\n",
    "<br>Клиенты первой группы характеризуются более высоким оттоком, чем клиенты второй группы. </br>\n",
    "<br>Величина заработной платы клиентов в двух группах не отличается.  </br>\n",
    "<br>Клиенты первой группы немного старше (средний возраст 38 лет), чем клиенты второй группы (средний возраст 36 лет).</br>\n",
    "<br>Важным отличием двух групп является наличие данных о балансе на счету. Большая часть клиентов первой группы имеет данные о балансе, тогда как большая часть клиентов второй группы - не имеет. </br>\n",
    "<br>Была выявлена зависимость отсутствия данных по балансу на счету с оттоком. </br>\n",
    "</p>\n",
    "\n",
    "<p>\n",
    "<li> Процент оттока в первой группе - 28%. В зависимости от города регистрации этот процент меняется: в Ярославле и Рыбинске процент оттока составляет 22%, а в Ростове Великом - 43%. \n",
    "Из анализа данных было выявлено, что в Ростове Великом самый высокий отток клиентов и в этом городе клиенты не пользуются продуктом, по которому баланс на счете может быть не известен (в отличии от клиентов в Ярославле и Рыбинске). Поэтому, с целью снижения оттока клиентов в Ростове Великом необходимо предложить клиентам продукт, аналогичный продукту в Ярославле и Рыбинске (по которому возможно иметь счет без данных по балансу).</li>\n",
    "\n",
    "<li> Процент оттока во второй группе составляет 7.6%. Самый высокий процент оттока в Ростове Великом - 12%, самый низкий в Ярославле - 5.7%. Чтобы понизить процент оттока в Ростове Великом, необходимо изучить какими продуктами пользуются в Ярославле и Рыбинске, а именно, понять, какой продукт позволяет иметь счет с отсутствующими данными. Предложение этого продукта клиентам в Ростове Великом поможет снизить процент оттока. </li>\n",
    "\n",
    "<li> С целью снижения оттока среди клиентов в возрасте от 55-60 лет, необходимо предлагать программу, связанную с выплатой пенсий или пенсионных накоплений. Это позволит удержать в активном статусе клиентов в возрасте от 55 лет и старше, и, следовательно повысить активность и снизить отток.</li>\n",
    "\n",
    "<li> Самый высокий процент оттока в третьей группе: 83% оттока среди клиентов, которые используют 3 продукта и 100% оттока среди клиентов, которые используют 4 продукта. \n",
    "Из-за малочисленности выборки клиентов из третьей группы, детальный анализ характеристик этой группы не был проведен. Однако, можно предложить снизить отток в этой группе путем предложения клиентам уменьшить количество используемых продуктов. Т.е перевести клиентов во вторую или первую группы.</li>\n",
    "    </p>"
   ]
  }
 ],
 "metadata": {
  "ExecuteTimeLog": [
   {
    "duration": 1784,
    "start_time": "2022-08-08T05:49:05.136Z"
   },
   {
    "duration": 148,
    "start_time": "2022-08-08T05:49:45.120Z"
   },
   {
    "duration": 19,
    "start_time": "2022-08-08T05:49:54.397Z"
   },
   {
    "duration": 13,
    "start_time": "2022-08-08T05:50:03.770Z"
   },
   {
    "duration": 4,
    "start_time": "2022-08-08T05:50:12.694Z"
   },
   {
    "duration": 4,
    "start_time": "2022-08-08T05:50:23.303Z"
   },
   {
    "duration": 6,
    "start_time": "2022-08-08T05:50:32.129Z"
   },
   {
    "duration": 9,
    "start_time": "2022-08-08T05:52:02.976Z"
   },
   {
    "duration": 15,
    "start_time": "2022-08-08T05:52:13.035Z"
   },
   {
    "duration": 12,
    "start_time": "2022-08-08T05:52:44.187Z"
   },
   {
    "duration": 24,
    "start_time": "2022-08-08T05:53:07.763Z"
   },
   {
    "duration": 21,
    "start_time": "2022-08-08T05:53:31.144Z"
   },
   {
    "duration": 11,
    "start_time": "2022-08-08T05:54:00.396Z"
   },
   {
    "duration": 13,
    "start_time": "2022-08-08T05:54:43.577Z"
   },
   {
    "duration": 14,
    "start_time": "2022-08-08T05:55:13.516Z"
   },
   {
    "duration": 4,
    "start_time": "2022-08-08T05:56:44.465Z"
   },
   {
    "duration": 10,
    "start_time": "2022-08-08T05:56:53.392Z"
   },
   {
    "duration": 382,
    "start_time": "2022-08-08T05:57:18.480Z"
   },
   {
    "duration": 17,
    "start_time": "2022-08-08T05:57:37.544Z"
   },
   {
    "duration": 17,
    "start_time": "2022-08-08T05:57:56.241Z"
   },
   {
    "duration": 16,
    "start_time": "2022-08-08T05:58:19.696Z"
   },
   {
    "duration": 13,
    "start_time": "2022-08-08T05:58:43.021Z"
   },
   {
    "duration": 3,
    "start_time": "2022-08-08T05:59:28.155Z"
   },
   {
    "duration": 4,
    "start_time": "2022-08-08T05:59:43.873Z"
   },
   {
    "duration": 6,
    "start_time": "2022-08-08T05:59:50.953Z"
   },
   {
    "duration": 17,
    "start_time": "2022-08-08T05:59:56.826Z"
   },
   {
    "duration": 343,
    "start_time": "2022-08-08T06:00:49.143Z"
   },
   {
    "duration": 1503,
    "start_time": "2022-08-08T06:02:14.108Z"
   },
   {
    "duration": 20,
    "start_time": "2022-08-08T06:02:45.228Z"
   },
   {
    "duration": 12,
    "start_time": "2022-08-08T06:03:05.976Z"
   },
   {
    "duration": 17,
    "start_time": "2022-08-08T06:04:08.048Z"
   },
   {
    "duration": 6,
    "start_time": "2022-08-08T06:04:31.879Z"
   },
   {
    "duration": 16,
    "start_time": "2022-08-08T06:04:38.283Z"
   },
   {
    "duration": 233,
    "start_time": "2022-08-08T06:06:24.148Z"
   },
   {
    "duration": 282,
    "start_time": "2022-08-08T06:06:42.902Z"
   },
   {
    "duration": 264,
    "start_time": "2022-08-08T06:07:00.047Z"
   },
   {
    "duration": 241,
    "start_time": "2022-08-08T06:07:44.557Z"
   },
   {
    "duration": 278,
    "start_time": "2022-08-08T06:07:53.826Z"
   },
   {
    "duration": 282,
    "start_time": "2022-08-08T06:08:41.382Z"
   },
   {
    "duration": 35351,
    "start_time": "2022-08-08T06:09:21.730Z"
   },
   {
    "duration": 242,
    "start_time": "2022-08-08T06:10:34.306Z"
   },
   {
    "duration": 233,
    "start_time": "2022-08-08T06:10:50.624Z"
   },
   {
    "duration": 291,
    "start_time": "2022-08-08T06:11:10.885Z"
   },
   {
    "duration": 277,
    "start_time": "2022-08-08T06:11:39.309Z"
   },
   {
    "duration": 262,
    "start_time": "2022-08-08T06:31:26.082Z"
   },
   {
    "duration": 388,
    "start_time": "2022-08-08T06:32:08.242Z"
   },
   {
    "duration": 273,
    "start_time": "2022-08-08T06:43:54.594Z"
   },
   {
    "duration": 2042,
    "start_time": "2022-08-08T09:54:15.736Z"
   },
   {
    "duration": 397,
    "start_time": "2022-08-08T09:54:17.780Z"
   },
   {
    "duration": 29,
    "start_time": "2022-08-08T09:54:18.179Z"
   },
   {
    "duration": 14,
    "start_time": "2022-08-08T09:55:37.830Z"
   },
   {
    "duration": 3,
    "start_time": "2022-08-08T09:55:38.433Z"
   },
   {
    "duration": 3,
    "start_time": "2022-08-08T09:55:38.810Z"
   },
   {
    "duration": 5,
    "start_time": "2022-08-08T09:55:39.152Z"
   },
   {
    "duration": 10,
    "start_time": "2022-08-08T09:55:41.371Z"
   },
   {
    "duration": 19,
    "start_time": "2022-08-08T09:55:42.440Z"
   },
   {
    "duration": 14,
    "start_time": "2022-08-08T09:55:43.155Z"
   },
   {
    "duration": 18,
    "start_time": "2022-08-08T09:55:43.728Z"
   },
   {
    "duration": 17,
    "start_time": "2022-08-08T09:55:44.261Z"
   },
   {
    "duration": 12,
    "start_time": "2022-08-08T09:55:44.808Z"
   },
   {
    "duration": 13,
    "start_time": "2022-08-08T09:55:45.275Z"
   },
   {
    "duration": 12,
    "start_time": "2022-08-08T09:55:45.817Z"
   },
   {
    "duration": 4,
    "start_time": "2022-08-08T09:55:46.721Z"
   },
   {
    "duration": 10,
    "start_time": "2022-08-08T09:55:47.070Z"
   },
   {
    "duration": 414,
    "start_time": "2022-08-08T09:55:47.948Z"
   },
   {
    "duration": 13,
    "start_time": "2022-08-08T09:55:48.963Z"
   },
   {
    "duration": 14,
    "start_time": "2022-08-08T09:55:49.638Z"
   },
   {
    "duration": 17,
    "start_time": "2022-08-08T09:55:50.317Z"
   },
   {
    "duration": 15,
    "start_time": "2022-08-08T09:55:50.958Z"
   },
   {
    "duration": 5,
    "start_time": "2022-08-08T09:55:52.011Z"
   },
   {
    "duration": 3,
    "start_time": "2022-08-08T09:55:52.386Z"
   },
   {
    "duration": 7,
    "start_time": "2022-08-08T09:55:52.679Z"
   },
   {
    "duration": 14,
    "start_time": "2022-08-08T09:55:52.960Z"
   },
   {
    "duration": 351,
    "start_time": "2022-08-08T09:55:53.561Z"
   },
   {
    "duration": 1474,
    "start_time": "2022-08-08T09:55:55.205Z"
   },
   {
    "duration": 14,
    "start_time": "2022-08-08T09:56:02.320Z"
   },
   {
    "duration": 9,
    "start_time": "2022-08-08T09:56:03.244Z"
   },
   {
    "duration": 18,
    "start_time": "2022-08-08T09:56:04.054Z"
   },
   {
    "duration": 4,
    "start_time": "2022-08-08T09:56:04.521Z"
   },
   {
    "duration": 16,
    "start_time": "2022-08-08T09:56:05.188Z"
   },
   {
    "duration": 130,
    "start_time": "2022-08-08T10:01:34.046Z"
   },
   {
    "duration": 5140,
    "start_time": "2022-08-08T10:01:49.972Z"
   },
   {
    "duration": 200,
    "start_time": "2022-08-08T10:02:01.954Z"
   },
   {
    "duration": 162,
    "start_time": "2022-08-08T10:02:57.852Z"
   },
   {
    "duration": 167,
    "start_time": "2022-08-08T10:04:19.308Z"
   },
   {
    "duration": 64,
    "start_time": "2022-08-08T10:06:49.770Z"
   },
   {
    "duration": 1490,
    "start_time": "2022-08-08T10:07:00.616Z"
   },
   {
    "duration": 1526,
    "start_time": "2022-08-08T10:08:00.521Z"
   },
   {
    "duration": 1443,
    "start_time": "2022-08-08T10:08:37.781Z"
   },
   {
    "duration": 1411,
    "start_time": "2022-08-08T10:09:52.510Z"
   },
   {
    "duration": 5,
    "start_time": "2022-08-08T10:13:56.259Z"
   },
   {
    "duration": 102,
    "start_time": "2022-08-08T10:14:26.287Z"
   },
   {
    "duration": 1554,
    "start_time": "2022-08-08T10:14:48.371Z"
   },
   {
    "duration": 1452,
    "start_time": "2022-08-08T10:19:49.755Z"
   },
   {
    "duration": 1430,
    "start_time": "2022-08-08T10:20:06.370Z"
   },
   {
    "duration": 1461,
    "start_time": "2022-08-08T10:21:53.420Z"
   },
   {
    "duration": 2030,
    "start_time": "2022-08-08T10:25:40.328Z"
   },
   {
    "duration": 1497,
    "start_time": "2022-08-08T10:25:59.919Z"
   },
   {
    "duration": 1079,
    "start_time": "2022-08-08T10:26:07.167Z"
   },
   {
    "duration": 1071,
    "start_time": "2022-08-08T10:26:22.432Z"
   },
   {
    "duration": 1297,
    "start_time": "2022-08-08T10:26:39.768Z"
   },
   {
    "duration": 1204,
    "start_time": "2022-08-08T10:26:47.971Z"
   },
   {
    "duration": 1120,
    "start_time": "2022-08-08T10:26:57.420Z"
   },
   {
    "duration": 1003,
    "start_time": "2022-08-08T10:27:47.565Z"
   },
   {
    "duration": 1203,
    "start_time": "2022-08-08T10:27:58.287Z"
   },
   {
    "duration": 998,
    "start_time": "2022-08-08T10:28:28.019Z"
   },
   {
    "duration": 1240,
    "start_time": "2022-08-08T10:29:21.386Z"
   },
   {
    "duration": 1169,
    "start_time": "2022-08-08T10:29:33.563Z"
   },
   {
    "duration": 16,
    "start_time": "2022-08-08T10:34:29.667Z"
   },
   {
    "duration": 18,
    "start_time": "2022-08-08T10:35:01.745Z"
   },
   {
    "duration": 2156,
    "start_time": "2022-08-08T10:37:11.328Z"
   },
   {
    "duration": 22,
    "start_time": "2022-08-08T10:37:24.405Z"
   },
   {
    "duration": 29,
    "start_time": "2022-08-08T10:41:09.619Z"
   },
   {
    "duration": 26,
    "start_time": "2022-08-08T10:41:20.425Z"
   },
   {
    "duration": 28,
    "start_time": "2022-08-08T10:41:25.016Z"
   },
   {
    "duration": 27,
    "start_time": "2022-08-08T10:41:29.961Z"
   },
   {
    "duration": 10,
    "start_time": "2022-08-08T10:47:29.088Z"
   },
   {
    "duration": 10,
    "start_time": "2022-08-08T10:47:34.839Z"
   },
   {
    "duration": 7,
    "start_time": "2022-08-08T10:47:44.489Z"
   },
   {
    "duration": 11,
    "start_time": "2022-08-08T10:47:45.134Z"
   },
   {
    "duration": 7,
    "start_time": "2022-08-08T10:50:40.398Z"
   },
   {
    "duration": 12,
    "start_time": "2022-08-08T10:50:41.415Z"
   },
   {
    "duration": 3,
    "start_time": "2022-08-08T10:51:36.269Z"
   },
   {
    "duration": 9,
    "start_time": "2022-08-08T10:51:42.835Z"
   },
   {
    "duration": 3,
    "start_time": "2022-08-08T10:53:16.450Z"
   },
   {
    "duration": 9,
    "start_time": "2022-08-08T10:53:17.119Z"
   },
   {
    "duration": 7,
    "start_time": "2022-08-08T10:53:22.288Z"
   },
   {
    "duration": 11,
    "start_time": "2022-08-08T10:53:22.888Z"
   },
   {
    "duration": 3,
    "start_time": "2022-08-08T10:54:09.765Z"
   },
   {
    "duration": 14,
    "start_time": "2022-08-08T10:54:10.520Z"
   },
   {
    "duration": 28,
    "start_time": "2022-08-08T10:54:29.473Z"
   },
   {
    "duration": 21,
    "start_time": "2022-08-08T10:54:41.336Z"
   },
   {
    "duration": 100,
    "start_time": "2022-08-08T11:00:33.724Z"
   },
   {
    "duration": 23,
    "start_time": "2022-08-08T11:00:45.336Z"
   },
   {
    "duration": 24,
    "start_time": "2022-08-08T11:01:36.224Z"
   },
   {
    "duration": 25,
    "start_time": "2022-08-08T11:03:24.165Z"
   },
   {
    "duration": 14,
    "start_time": "2022-08-08T11:04:13.913Z"
   },
   {
    "duration": 12,
    "start_time": "2022-08-08T11:05:55.462Z"
   },
   {
    "duration": 12,
    "start_time": "2022-08-08T11:06:05.665Z"
   },
   {
    "duration": 26,
    "start_time": "2022-08-08T11:06:12.595Z"
   },
   {
    "duration": 27,
    "start_time": "2022-08-08T11:10:18.001Z"
   },
   {
    "duration": 15,
    "start_time": "2022-08-08T11:10:19.165Z"
   },
   {
    "duration": 22,
    "start_time": "2022-08-08T11:12:05.053Z"
   },
   {
    "duration": 21,
    "start_time": "2022-08-08T11:12:15.246Z"
   },
   {
    "duration": 17,
    "start_time": "2022-08-08T11:12:16.326Z"
   },
   {
    "duration": 28,
    "start_time": "2022-08-08T11:13:26.702Z"
   },
   {
    "duration": 17,
    "start_time": "2022-08-08T11:19:48.457Z"
   },
   {
    "duration": 29,
    "start_time": "2022-08-08T11:19:58.915Z"
   },
   {
    "duration": 34,
    "start_time": "2022-08-08T11:20:35.171Z"
   },
   {
    "duration": 36,
    "start_time": "2022-08-08T11:24:10.222Z"
   },
   {
    "duration": 29,
    "start_time": "2022-08-08T11:28:30.748Z"
   },
   {
    "duration": 15,
    "start_time": "2022-08-08T11:29:39.447Z"
   },
   {
    "duration": 5,
    "start_time": "2022-08-08T11:31:02.866Z"
   },
   {
    "duration": 42,
    "start_time": "2022-08-08T11:31:03.351Z"
   },
   {
    "duration": 13,
    "start_time": "2022-08-08T11:31:03.869Z"
   },
   {
    "duration": 13,
    "start_time": "2022-08-08T11:31:04.257Z"
   },
   {
    "duration": 4,
    "start_time": "2022-08-08T11:31:04.564Z"
   },
   {
    "duration": 5,
    "start_time": "2022-08-08T11:31:04.790Z"
   },
   {
    "duration": 4,
    "start_time": "2022-08-08T11:31:05.011Z"
   },
   {
    "duration": 5,
    "start_time": "2022-08-08T11:31:06.213Z"
   },
   {
    "duration": 12,
    "start_time": "2022-08-08T11:31:06.450Z"
   },
   {
    "duration": 21,
    "start_time": "2022-08-08T11:31:06.899Z"
   },
   {
    "duration": 18,
    "start_time": "2022-08-08T11:31:07.348Z"
   },
   {
    "duration": 20,
    "start_time": "2022-08-08T11:31:07.802Z"
   },
   {
    "duration": 12,
    "start_time": "2022-08-08T11:31:08.290Z"
   },
   {
    "duration": 13,
    "start_time": "2022-08-08T11:31:10.808Z"
   },
   {
    "duration": 14,
    "start_time": "2022-08-08T11:31:11.425Z"
   },
   {
    "duration": 4,
    "start_time": "2022-08-08T11:31:12.357Z"
   },
   {
    "duration": 9,
    "start_time": "2022-08-08T11:31:12.678Z"
   },
   {
    "duration": 395,
    "start_time": "2022-08-08T11:31:13.383Z"
   },
   {
    "duration": 14,
    "start_time": "2022-08-08T11:31:16.166Z"
   },
   {
    "duration": 14,
    "start_time": "2022-08-08T11:31:21.312Z"
   },
   {
    "duration": 16,
    "start_time": "2022-08-08T11:31:22.663Z"
   },
   {
    "duration": 15,
    "start_time": "2022-08-08T11:31:23.363Z"
   },
   {
    "duration": 3,
    "start_time": "2022-08-08T11:31:24.256Z"
   },
   {
    "duration": 3,
    "start_time": "2022-08-08T11:31:24.534Z"
   },
   {
    "duration": 6,
    "start_time": "2022-08-08T11:31:24.851Z"
   },
   {
    "duration": 16,
    "start_time": "2022-08-08T11:31:25.147Z"
   },
   {
    "duration": 363,
    "start_time": "2022-08-08T11:31:25.687Z"
   },
   {
    "duration": 1317,
    "start_time": "2022-08-08T11:31:26.563Z"
   },
   {
    "duration": 17,
    "start_time": "2022-08-08T11:31:27.893Z"
   },
   {
    "duration": 16,
    "start_time": "2022-08-08T11:31:27.912Z"
   },
   {
    "duration": 17,
    "start_time": "2022-08-08T11:31:28.007Z"
   },
   {
    "duration": 5,
    "start_time": "2022-08-08T11:31:29.073Z"
   },
   {
    "duration": 22,
    "start_time": "2022-08-08T11:31:30.484Z"
   },
   {
    "duration": 14,
    "start_time": "2022-08-08T11:31:47.659Z"
   },
   {
    "duration": 22,
    "start_time": "2022-08-08T11:32:00.261Z"
   },
   {
    "duration": 20,
    "start_time": "2022-08-08T11:32:05.486Z"
   },
   {
    "duration": 22,
    "start_time": "2022-08-08T11:32:09.354Z"
   },
   {
    "duration": 21,
    "start_time": "2022-08-08T11:42:12.234Z"
   },
   {
    "duration": 86,
    "start_time": "2022-08-08T11:47:05.847Z"
   },
   {
    "duration": 862,
    "start_time": "2022-08-08T14:06:53.506Z"
   },
   {
    "duration": 855,
    "start_time": "2022-08-08T14:07:02.828Z"
   },
   {
    "duration": 982,
    "start_time": "2022-08-08T14:07:15.339Z"
   },
   {
    "duration": 807,
    "start_time": "2022-08-08T14:07:25.094Z"
   },
   {
    "duration": 832,
    "start_time": "2022-08-08T14:07:59.301Z"
   },
   {
    "duration": 12,
    "start_time": "2022-08-08T14:12:19.282Z"
   },
   {
    "duration": 777,
    "start_time": "2022-08-08T14:12:57.896Z"
   },
   {
    "duration": 714,
    "start_time": "2022-08-08T14:13:52.024Z"
   },
   {
    "duration": 729,
    "start_time": "2022-08-08T14:16:05.545Z"
   },
   {
    "duration": 717,
    "start_time": "2022-08-08T14:16:17.144Z"
   },
   {
    "duration": 696,
    "start_time": "2022-08-08T14:16:38.357Z"
   },
   {
    "duration": 279753,
    "start_time": "2022-08-08T14:18:41.876Z"
   },
   {
    "duration": 7554,
    "start_time": "2022-08-08T14:26:06.132Z"
   },
   {
    "duration": 456,
    "start_time": "2022-08-08T14:29:47.275Z"
   },
   {
    "duration": 410,
    "start_time": "2022-08-08T14:29:59.729Z"
   },
   {
    "duration": 376,
    "start_time": "2022-08-08T14:30:22.174Z"
   },
   {
    "duration": 278,
    "start_time": "2022-08-08T14:31:00.705Z"
   },
   {
    "duration": 463,
    "start_time": "2022-08-08T14:31:09.181Z"
   },
   {
    "duration": 634,
    "start_time": "2022-08-08T14:31:31.833Z"
   },
   {
    "duration": 12,
    "start_time": "2022-08-08T14:31:47.542Z"
   },
   {
    "duration": 452,
    "start_time": "2022-08-08T14:31:52.191Z"
   },
   {
    "duration": 16,
    "start_time": "2022-08-08T14:32:42.337Z"
   },
   {
    "duration": 1485,
    "start_time": "2022-08-08T14:32:55.289Z"
   },
   {
    "duration": 1676,
    "start_time": "2022-08-08T14:33:40.586Z"
   },
   {
    "duration": 2480,
    "start_time": "2022-08-08T14:35:50.321Z"
   },
   {
    "duration": 20,
    "start_time": "2022-08-08T14:41:38.095Z"
   },
   {
    "duration": 19,
    "start_time": "2022-08-08T14:41:52.726Z"
   },
   {
    "duration": 46,
    "start_time": "2022-08-08T14:42:32.570Z"
   },
   {
    "duration": 48,
    "start_time": "2022-08-08T14:42:49.329Z"
   },
   {
    "duration": 34,
    "start_time": "2022-08-08T14:44:39.326Z"
   },
   {
    "duration": 20,
    "start_time": "2022-08-08T14:44:48.775Z"
   },
   {
    "duration": 44,
    "start_time": "2022-08-08T14:45:30.198Z"
   },
   {
    "duration": 28,
    "start_time": "2022-08-08T14:45:51.501Z"
   },
   {
    "duration": 33,
    "start_time": "2022-08-08T14:48:08.604Z"
   },
   {
    "duration": 30,
    "start_time": "2022-08-08T14:50:25.382Z"
   },
   {
    "duration": 29,
    "start_time": "2022-08-08T14:52:18.867Z"
   },
   {
    "duration": 22,
    "start_time": "2022-08-08T14:55:43.429Z"
   },
   {
    "duration": 21,
    "start_time": "2022-08-08T14:55:56.754Z"
   },
   {
    "duration": 35,
    "start_time": "2022-08-08T14:56:37.892Z"
   },
   {
    "duration": 30,
    "start_time": "2022-08-08T14:58:08.588Z"
   },
   {
    "duration": 13,
    "start_time": "2022-08-08T15:04:11.246Z"
   },
   {
    "duration": 2448,
    "start_time": "2022-08-08T15:06:22.356Z"
   },
   {
    "duration": 49,
    "start_time": "2022-08-08T15:07:14.018Z"
   },
   {
    "duration": 36,
    "start_time": "2022-08-08T15:07:30.018Z"
   },
   {
    "duration": 2438,
    "start_time": "2022-08-08T16:32:49.072Z"
   },
   {
    "duration": 30,
    "start_time": "2022-08-08T16:33:55.226Z"
   },
   {
    "duration": 1635,
    "start_time": "2022-08-09T08:44:03.319Z"
   },
   {
    "duration": 75,
    "start_time": "2022-08-09T08:44:04.956Z"
   },
   {
    "duration": 19,
    "start_time": "2022-08-09T08:44:05.033Z"
   },
   {
    "duration": 13,
    "start_time": "2022-08-09T08:44:05.737Z"
   },
   {
    "duration": 3,
    "start_time": "2022-08-09T08:44:06.050Z"
   },
   {
    "duration": 4,
    "start_time": "2022-08-09T08:44:06.360Z"
   },
   {
    "duration": 4,
    "start_time": "2022-08-09T08:44:06.637Z"
   },
   {
    "duration": 6,
    "start_time": "2022-08-09T08:44:08.413Z"
   },
   {
    "duration": 14,
    "start_time": "2022-08-09T08:44:10.090Z"
   },
   {
    "duration": 11,
    "start_time": "2022-08-09T08:44:10.817Z"
   },
   {
    "duration": 21,
    "start_time": "2022-08-09T08:44:11.407Z"
   },
   {
    "duration": 19,
    "start_time": "2022-08-09T08:44:11.988Z"
   },
   {
    "duration": 10,
    "start_time": "2022-08-09T08:44:12.481Z"
   },
   {
    "duration": 13,
    "start_time": "2022-08-09T08:44:12.967Z"
   },
   {
    "duration": 11,
    "start_time": "2022-08-09T08:44:13.513Z"
   },
   {
    "duration": 3,
    "start_time": "2022-08-09T08:44:14.293Z"
   },
   {
    "duration": 8,
    "start_time": "2022-08-09T08:44:14.598Z"
   },
   {
    "duration": 359,
    "start_time": "2022-08-09T08:44:15.532Z"
   },
   {
    "duration": 11,
    "start_time": "2022-08-09T08:44:16.671Z"
   },
   {
    "duration": 12,
    "start_time": "2022-08-09T08:44:17.546Z"
   },
   {
    "duration": 12,
    "start_time": "2022-08-09T08:44:18.273Z"
   },
   {
    "duration": 12,
    "start_time": "2022-08-09T08:44:19.026Z"
   },
   {
    "duration": 2,
    "start_time": "2022-08-09T08:44:19.924Z"
   },
   {
    "duration": 3,
    "start_time": "2022-08-09T08:44:20.213Z"
   },
   {
    "duration": 6,
    "start_time": "2022-08-09T08:44:20.592Z"
   },
   {
    "duration": 12,
    "start_time": "2022-08-09T08:44:21.150Z"
   },
   {
    "duration": 285,
    "start_time": "2022-08-09T08:44:22.353Z"
   },
   {
    "duration": 1206,
    "start_time": "2022-08-09T08:44:25.184Z"
   },
   {
    "duration": 12,
    "start_time": "2022-08-09T08:44:27.092Z"
   },
   {
    "duration": 9,
    "start_time": "2022-08-09T08:44:28.217Z"
   },
   {
    "duration": 12,
    "start_time": "2022-08-09T08:44:28.956Z"
   },
   {
    "duration": 4,
    "start_time": "2022-08-09T08:44:29.861Z"
   },
   {
    "duration": 12,
    "start_time": "2022-08-09T08:44:30.267Z"
   },
   {
    "duration": 19,
    "start_time": "2022-08-09T08:44:35.680Z"
   },
   {
    "duration": 14,
    "start_time": "2022-08-09T08:44:37.472Z"
   },
   {
    "duration": 17,
    "start_time": "2022-08-09T08:45:18.885Z"
   },
   {
    "duration": 12,
    "start_time": "2022-08-09T08:45:36.636Z"
   },
   {
    "duration": 2063,
    "start_time": "2022-08-09T08:46:05.900Z"
   },
   {
    "duration": 2191,
    "start_time": "2022-08-09T08:46:23.025Z"
   },
   {
    "duration": 2230,
    "start_time": "2022-08-09T08:46:33.924Z"
   },
   {
    "duration": 2359,
    "start_time": "2022-08-09T08:46:55.827Z"
   },
   {
    "duration": 27,
    "start_time": "2022-08-09T08:47:20.725Z"
   },
   {
    "duration": 24,
    "start_time": "2022-08-09T08:52:00.134Z"
   },
   {
    "duration": 21,
    "start_time": "2022-08-09T08:52:25.923Z"
   },
   {
    "duration": 20,
    "start_time": "2022-08-09T08:52:53.526Z"
   },
   {
    "duration": 23,
    "start_time": "2022-08-09T08:54:18.857Z"
   },
   {
    "duration": 4,
    "start_time": "2022-08-09T08:55:46.271Z"
   },
   {
    "duration": 24,
    "start_time": "2022-08-09T08:55:51.419Z"
   },
   {
    "duration": 61,
    "start_time": "2022-08-09T08:56:07.386Z"
   },
   {
    "duration": 20,
    "start_time": "2022-08-09T08:56:16.488Z"
   },
   {
    "duration": 13,
    "start_time": "2022-08-09T08:56:23.227Z"
   },
   {
    "duration": 18,
    "start_time": "2022-08-09T08:56:27.035Z"
   },
   {
    "duration": 11,
    "start_time": "2022-08-09T08:56:28.479Z"
   },
   {
    "duration": 2219,
    "start_time": "2022-08-09T08:56:30.230Z"
   },
   {
    "duration": 27,
    "start_time": "2022-08-09T08:56:36.566Z"
   },
   {
    "duration": 23,
    "start_time": "2022-08-09T08:57:06.616Z"
   },
   {
    "duration": 22,
    "start_time": "2022-08-09T08:57:16.865Z"
   },
   {
    "duration": 139,
    "start_time": "2022-08-09T08:57:30.751Z"
   },
   {
    "duration": 24,
    "start_time": "2022-08-09T08:57:36.921Z"
   },
   {
    "duration": 7,
    "start_time": "2022-08-09T08:59:52.220Z"
   },
   {
    "duration": 7,
    "start_time": "2022-08-09T09:00:11.287Z"
   },
   {
    "duration": 7,
    "start_time": "2022-08-09T09:00:51.016Z"
   },
   {
    "duration": 7,
    "start_time": "2022-08-09T09:01:23.125Z"
   },
   {
    "duration": 8,
    "start_time": "2022-08-09T09:01:52.640Z"
   },
   {
    "duration": 7,
    "start_time": "2022-08-09T09:02:09.420Z"
   },
   {
    "duration": 8,
    "start_time": "2022-08-09T09:02:13.026Z"
   },
   {
    "duration": 10,
    "start_time": "2022-08-09T09:02:55.936Z"
   },
   {
    "duration": 7,
    "start_time": "2022-08-09T09:03:34.982Z"
   },
   {
    "duration": 7,
    "start_time": "2022-08-09T09:04:38.416Z"
   },
   {
    "duration": 7,
    "start_time": "2022-08-09T09:04:42.906Z"
   },
   {
    "duration": 7,
    "start_time": "2022-08-09T09:04:50.922Z"
   },
   {
    "duration": 10,
    "start_time": "2022-08-09T09:07:32.764Z"
   },
   {
    "duration": 8,
    "start_time": "2022-08-09T09:08:11.577Z"
   },
   {
    "duration": 7,
    "start_time": "2022-08-09T09:08:23.586Z"
   },
   {
    "duration": 7,
    "start_time": "2022-08-09T09:08:36.309Z"
   },
   {
    "duration": 10,
    "start_time": "2022-08-09T09:09:04.414Z"
   },
   {
    "duration": 7,
    "start_time": "2022-08-09T09:09:41.185Z"
   },
   {
    "duration": 7,
    "start_time": "2022-08-09T09:09:50.997Z"
   },
   {
    "duration": 17,
    "start_time": "2022-08-09T09:14:22.878Z"
   },
   {
    "duration": 24,
    "start_time": "2022-08-09T09:15:26.577Z"
   },
   {
    "duration": 17,
    "start_time": "2022-08-09T09:15:33.016Z"
   },
   {
    "duration": 4,
    "start_time": "2022-08-09T09:24:21.177Z"
   },
   {
    "duration": 34,
    "start_time": "2022-08-09T09:26:12.768Z"
   },
   {
    "duration": 12,
    "start_time": "2022-08-09T09:26:38.535Z"
   },
   {
    "duration": 15,
    "start_time": "2022-08-09T09:27:20.153Z"
   },
   {
    "duration": 16,
    "start_time": "2022-08-09T09:27:34.411Z"
   },
   {
    "duration": 4,
    "start_time": "2022-08-09T09:28:37.057Z"
   },
   {
    "duration": 10,
    "start_time": "2022-08-09T09:28:43.510Z"
   },
   {
    "duration": 15,
    "start_time": "2022-08-09T09:29:38.131Z"
   },
   {
    "duration": 5,
    "start_time": "2022-08-09T09:29:57.371Z"
   },
   {
    "duration": 10,
    "start_time": "2022-08-09T09:29:58.028Z"
   },
   {
    "duration": 3,
    "start_time": "2022-08-09T09:33:34.507Z"
   },
   {
    "duration": 31,
    "start_time": "2022-08-09T09:33:46.977Z"
   },
   {
    "duration": 4,
    "start_time": "2022-08-09T09:34:31.504Z"
   },
   {
    "duration": 10,
    "start_time": "2022-08-09T09:34:47.846Z"
   },
   {
    "duration": 10,
    "start_time": "2022-08-09T09:34:51.872Z"
   },
   {
    "duration": 23,
    "start_time": "2022-08-09T09:39:06.411Z"
   },
   {
    "duration": 19,
    "start_time": "2022-08-09T09:56:29.859Z"
   },
   {
    "duration": 20,
    "start_time": "2022-08-09T10:12:41.872Z"
   },
   {
    "duration": 19,
    "start_time": "2022-08-09T10:12:49.771Z"
   },
   {
    "duration": 1839,
    "start_time": "2022-08-09T10:13:42.829Z"
   },
   {
    "duration": 22,
    "start_time": "2022-08-09T10:14:49.633Z"
   },
   {
    "duration": 24,
    "start_time": "2022-08-09T10:14:56.843Z"
   },
   {
    "duration": 17,
    "start_time": "2022-08-09T10:15:08.999Z"
   },
   {
    "duration": 15,
    "start_time": "2022-08-09T10:16:34.231Z"
   },
   {
    "duration": 17,
    "start_time": "2022-08-09T10:17:42.762Z"
   },
   {
    "duration": 12,
    "start_time": "2022-08-09T10:20:45.961Z"
   },
   {
    "duration": 4,
    "start_time": "2022-08-09T10:36:30.332Z"
   },
   {
    "duration": 16,
    "start_time": "2022-08-09T10:44:25.374Z"
   },
   {
    "duration": 9,
    "start_time": "2022-08-09T10:44:26.141Z"
   },
   {
    "duration": 4,
    "start_time": "2022-08-09T10:44:27.882Z"
   },
   {
    "duration": 9,
    "start_time": "2022-08-09T10:44:29.395Z"
   },
   {
    "duration": 9,
    "start_time": "2022-08-09T10:45:56.941Z"
   },
   {
    "duration": 11,
    "start_time": "2022-08-09T10:46:15.883Z"
   },
   {
    "duration": 9,
    "start_time": "2022-08-09T10:46:16.692Z"
   },
   {
    "duration": 755,
    "start_time": "2022-08-09T14:17:35.168Z"
   },
   {
    "duration": 12,
    "start_time": "2022-08-09T14:18:10.786Z"
   },
   {
    "duration": 588,
    "start_time": "2022-08-09T14:18:24.587Z"
   },
   {
    "duration": 1809,
    "start_time": "2022-08-09T14:19:10.509Z"
   },
   {
    "duration": 1410,
    "start_time": "2022-08-09T14:23:26.974Z"
   },
   {
    "duration": 73,
    "start_time": "2022-08-09T14:23:28.386Z"
   },
   {
    "duration": 17,
    "start_time": "2022-08-09T14:23:29.337Z"
   },
   {
    "duration": 12,
    "start_time": "2022-08-09T14:23:29.737Z"
   },
   {
    "duration": 4,
    "start_time": "2022-08-09T14:23:30.020Z"
   },
   {
    "duration": 3,
    "start_time": "2022-08-09T14:23:30.264Z"
   },
   {
    "duration": 4,
    "start_time": "2022-08-09T14:23:30.503Z"
   },
   {
    "duration": 5,
    "start_time": "2022-08-09T14:23:31.454Z"
   },
   {
    "duration": 12,
    "start_time": "2022-08-09T14:23:31.618Z"
   },
   {
    "duration": 10,
    "start_time": "2022-08-09T14:23:31.924Z"
   },
   {
    "duration": 14,
    "start_time": "2022-08-09T14:23:32.210Z"
   },
   {
    "duration": 13,
    "start_time": "2022-08-09T14:23:32.520Z"
   },
   {
    "duration": 10,
    "start_time": "2022-08-09T14:23:32.806Z"
   },
   {
    "duration": 10,
    "start_time": "2022-08-09T14:23:33.105Z"
   },
   {
    "duration": 11,
    "start_time": "2022-08-09T14:23:33.354Z"
   },
   {
    "duration": 3,
    "start_time": "2022-08-09T14:23:33.820Z"
   },
   {
    "duration": 8,
    "start_time": "2022-08-09T14:23:33.939Z"
   },
   {
    "duration": 321,
    "start_time": "2022-08-09T14:23:34.251Z"
   },
   {
    "duration": 16,
    "start_time": "2022-08-09T14:23:34.817Z"
   },
   {
    "duration": 15,
    "start_time": "2022-08-09T14:23:35.825Z"
   },
   {
    "duration": 10,
    "start_time": "2022-08-09T14:23:36.475Z"
   },
   {
    "duration": 10,
    "start_time": "2022-08-09T14:23:36.950Z"
   },
   {
    "duration": 2,
    "start_time": "2022-08-09T14:23:37.541Z"
   },
   {
    "duration": 3,
    "start_time": "2022-08-09T14:23:37.791Z"
   },
   {
    "duration": 5,
    "start_time": "2022-08-09T14:23:38.014Z"
   },
   {
    "duration": 13,
    "start_time": "2022-08-09T14:23:38.278Z"
   },
   {
    "duration": 278,
    "start_time": "2022-08-09T14:23:38.722Z"
   },
   {
    "duration": 1191,
    "start_time": "2022-08-09T14:23:39.187Z"
   },
   {
    "duration": 13,
    "start_time": "2022-08-09T14:23:40.381Z"
   },
   {
    "duration": 8,
    "start_time": "2022-08-09T14:23:40.396Z"
   },
   {
    "duration": 19,
    "start_time": "2022-08-09T14:23:40.406Z"
   },
   {
    "duration": 3,
    "start_time": "2022-08-09T14:23:40.567Z"
   },
   {
    "duration": 12,
    "start_time": "2022-08-09T14:23:42.258Z"
   },
   {
    "duration": 39,
    "start_time": "2022-08-09T14:24:16.168Z"
   },
   {
    "duration": 11,
    "start_time": "2022-08-09T14:24:16.429Z"
   },
   {
    "duration": 12,
    "start_time": "2022-08-09T14:24:16.668Z"
   },
   {
    "duration": 3,
    "start_time": "2022-08-09T14:24:16.898Z"
   },
   {
    "duration": 4,
    "start_time": "2022-08-09T14:24:17.203Z"
   },
   {
    "duration": 4,
    "start_time": "2022-08-09T14:24:17.374Z"
   },
   {
    "duration": 5,
    "start_time": "2022-08-09T14:24:18.472Z"
   },
   {
    "duration": 10,
    "start_time": "2022-08-09T14:24:18.699Z"
   },
   {
    "duration": 11,
    "start_time": "2022-08-09T14:24:19.159Z"
   },
   {
    "duration": 15,
    "start_time": "2022-08-09T14:24:19.586Z"
   },
   {
    "duration": 15,
    "start_time": "2022-08-09T14:24:20.041Z"
   },
   {
    "duration": 10,
    "start_time": "2022-08-09T14:24:20.508Z"
   },
   {
    "duration": 11,
    "start_time": "2022-08-09T14:24:20.980Z"
   },
   {
    "duration": 11,
    "start_time": "2022-08-09T14:24:21.431Z"
   },
   {
    "duration": 3,
    "start_time": "2022-08-09T14:24:22.127Z"
   },
   {
    "duration": 8,
    "start_time": "2022-08-09T14:24:22.368Z"
   },
   {
    "duration": 298,
    "start_time": "2022-08-09T14:24:22.858Z"
   },
   {
    "duration": 15,
    "start_time": "2022-08-09T14:24:28.620Z"
   },
   {
    "duration": 13,
    "start_time": "2022-08-09T14:24:29.223Z"
   },
   {
    "duration": 13,
    "start_time": "2022-08-09T14:24:29.731Z"
   },
   {
    "duration": 12,
    "start_time": "2022-08-09T14:24:30.264Z"
   },
   {
    "duration": 4,
    "start_time": "2022-08-09T14:24:31.187Z"
   },
   {
    "duration": 3,
    "start_time": "2022-08-09T14:24:31.555Z"
   },
   {
    "duration": 5,
    "start_time": "2022-08-09T14:24:31.881Z"
   },
   {
    "duration": 16,
    "start_time": "2022-08-09T14:24:32.767Z"
   },
   {
    "duration": 281,
    "start_time": "2022-08-09T14:24:33.365Z"
   },
   {
    "duration": 1159,
    "start_time": "2022-08-09T14:24:37.231Z"
   },
   {
    "duration": 11,
    "start_time": "2022-08-09T14:24:39.630Z"
   },
   {
    "duration": 8,
    "start_time": "2022-08-09T14:24:40.879Z"
   },
   {
    "duration": 12,
    "start_time": "2022-08-09T14:24:41.289Z"
   },
   {
    "duration": 4,
    "start_time": "2022-08-09T14:24:42.032Z"
   },
   {
    "duration": 12,
    "start_time": "2022-08-09T14:24:42.810Z"
   },
   {
    "duration": 18,
    "start_time": "2022-08-09T14:24:44.746Z"
   },
   {
    "duration": 17,
    "start_time": "2022-08-09T14:24:45.973Z"
   },
   {
    "duration": 19,
    "start_time": "2022-08-09T14:24:47.141Z"
   },
   {
    "duration": 14,
    "start_time": "2022-08-09T14:25:10.401Z"
   },
   {
    "duration": 2071,
    "start_time": "2022-08-09T14:25:11.742Z"
   },
   {
    "duration": 34,
    "start_time": "2022-08-09T14:25:19.783Z"
   },
   {
    "duration": 23,
    "start_time": "2022-08-09T14:25:20.829Z"
   },
   {
    "duration": 12,
    "start_time": "2022-08-09T14:25:21.637Z"
   },
   {
    "duration": 4,
    "start_time": "2022-08-09T14:25:23.399Z"
   },
   {
    "duration": 10,
    "start_time": "2022-08-09T14:25:24.052Z"
   },
   {
    "duration": 11,
    "start_time": "2022-08-09T14:25:24.436Z"
   },
   {
    "duration": 14,
    "start_time": "2022-08-09T14:25:24.864Z"
   },
   {
    "duration": 23,
    "start_time": "2022-08-09T14:25:25.584Z"
   },
   {
    "duration": 1460,
    "start_time": "2022-08-09T14:55:19.129Z"
   },
   {
    "duration": 72,
    "start_time": "2022-08-09T14:55:20.591Z"
   },
   {
    "duration": 17,
    "start_time": "2022-08-09T14:55:20.664Z"
   },
   {
    "duration": 23,
    "start_time": "2022-08-09T14:55:20.683Z"
   },
   {
    "duration": 13,
    "start_time": "2022-08-09T14:55:20.708Z"
   },
   {
    "duration": 26,
    "start_time": "2022-08-09T14:55:20.723Z"
   },
   {
    "duration": 4,
    "start_time": "2022-08-09T14:55:20.921Z"
   },
   {
    "duration": 5,
    "start_time": "2022-08-09T14:55:21.941Z"
   },
   {
    "duration": 13,
    "start_time": "2022-08-09T14:55:22.125Z"
   },
   {
    "duration": 12,
    "start_time": "2022-08-09T14:55:22.752Z"
   },
   {
    "duration": 17,
    "start_time": "2022-08-09T14:55:23.216Z"
   },
   {
    "duration": 16,
    "start_time": "2022-08-09T14:55:23.651Z"
   },
   {
    "duration": 10,
    "start_time": "2022-08-09T14:55:24.082Z"
   },
   {
    "duration": 11,
    "start_time": "2022-08-09T14:55:24.499Z"
   },
   {
    "duration": 11,
    "start_time": "2022-08-09T14:55:25.159Z"
   },
   {
    "duration": 4,
    "start_time": "2022-08-09T14:55:25.943Z"
   },
   {
    "duration": 9,
    "start_time": "2022-08-09T14:55:26.229Z"
   },
   {
    "duration": 319,
    "start_time": "2022-08-09T14:55:27.007Z"
   },
   {
    "duration": 11,
    "start_time": "2022-08-09T14:55:28.115Z"
   },
   {
    "duration": 12,
    "start_time": "2022-08-09T14:55:29.181Z"
   },
   {
    "duration": 12,
    "start_time": "2022-08-09T14:55:30.202Z"
   },
   {
    "duration": 12,
    "start_time": "2022-08-09T14:55:31.054Z"
   },
   {
    "duration": 3,
    "start_time": "2022-08-09T14:55:36.095Z"
   },
   {
    "duration": 3,
    "start_time": "2022-08-09T14:55:36.695Z"
   },
   {
    "duration": 6,
    "start_time": "2022-08-09T14:55:37.110Z"
   },
   {
    "duration": 12,
    "start_time": "2022-08-09T14:55:37.535Z"
   },
   {
    "duration": 272,
    "start_time": "2022-08-09T14:55:39.044Z"
   },
   {
    "duration": 1209,
    "start_time": "2022-08-09T14:55:42.141Z"
   },
   {
    "duration": 12,
    "start_time": "2022-08-09T14:55:43.353Z"
   },
   {
    "duration": 9,
    "start_time": "2022-08-09T14:55:54.101Z"
   },
   {
    "duration": 11,
    "start_time": "2022-08-09T14:55:54.532Z"
   },
   {
    "duration": 4,
    "start_time": "2022-08-09T14:55:55.863Z"
   },
   {
    "duration": 13,
    "start_time": "2022-08-09T14:55:56.344Z"
   },
   {
    "duration": 17,
    "start_time": "2022-08-09T14:56:27.598Z"
   },
   {
    "duration": 12,
    "start_time": "2022-08-09T14:56:33.471Z"
   },
   {
    "duration": 17,
    "start_time": "2022-08-09T14:56:36.066Z"
   },
   {
    "duration": 12,
    "start_time": "2022-08-09T14:56:38.271Z"
   },
   {
    "duration": 1981,
    "start_time": "2022-08-09T14:56:39.217Z"
   },
   {
    "duration": 29,
    "start_time": "2022-08-09T14:56:47.356Z"
   },
   {
    "duration": 18,
    "start_time": "2022-08-09T14:56:50.325Z"
   },
   {
    "duration": 10,
    "start_time": "2022-08-09T14:56:52.919Z"
   },
   {
    "duration": 4,
    "start_time": "2022-08-09T14:56:55.674Z"
   },
   {
    "duration": 10,
    "start_time": "2022-08-09T14:56:57.422Z"
   },
   {
    "duration": 11,
    "start_time": "2022-08-09T14:56:57.746Z"
   },
   {
    "duration": 9,
    "start_time": "2022-08-09T14:56:58.160Z"
   },
   {
    "duration": 1715,
    "start_time": "2022-08-09T14:58:27.578Z"
   },
   {
    "duration": 1403,
    "start_time": "2022-08-09T14:59:27.395Z"
   },
   {
    "duration": 1476,
    "start_time": "2022-08-09T15:01:02.233Z"
   },
   {
    "duration": 13,
    "start_time": "2022-08-09T15:01:53.019Z"
   },
   {
    "duration": 1900,
    "start_time": "2022-08-09T15:02:02.405Z"
   },
   {
    "duration": 1239,
    "start_time": "2022-08-09T15:03:31.577Z"
   },
   {
    "duration": 1197,
    "start_time": "2022-08-09T15:05:49.080Z"
   },
   {
    "duration": 829,
    "start_time": "2022-08-09T15:07:38.282Z"
   },
   {
    "duration": 651,
    "start_time": "2022-08-09T15:09:10.358Z"
   },
   {
    "duration": 627,
    "start_time": "2022-08-09T15:09:54.674Z"
   },
   {
    "duration": 628,
    "start_time": "2022-08-09T15:10:38.864Z"
   },
   {
    "duration": 670,
    "start_time": "2022-08-09T15:12:14.261Z"
   },
   {
    "duration": 574,
    "start_time": "2022-08-09T15:12:39.170Z"
   },
   {
    "duration": 11,
    "start_time": "2022-08-09T15:13:50.117Z"
   },
   {
    "duration": 21,
    "start_time": "2022-08-09T15:15:11.026Z"
   },
   {
    "duration": 23,
    "start_time": "2022-08-09T15:16:48.635Z"
   },
   {
    "duration": 24,
    "start_time": "2022-08-09T15:20:58.537Z"
   },
   {
    "duration": 34,
    "start_time": "2022-08-09T15:21:15.969Z"
   },
   {
    "duration": 600,
    "start_time": "2022-08-09T15:23:43.879Z"
   },
   {
    "duration": 474,
    "start_time": "2022-08-09T15:24:35.285Z"
   },
   {
    "duration": 492,
    "start_time": "2022-08-09T15:25:21.357Z"
   },
   {
    "duration": 14,
    "start_time": "2022-08-09T15:26:12.460Z"
   },
   {
    "duration": 641,
    "start_time": "2022-08-09T15:26:22.742Z"
   },
   {
    "duration": 628,
    "start_time": "2022-08-09T15:27:16.027Z"
   },
   {
    "duration": 439,
    "start_time": "2022-08-09T15:27:34.122Z"
   },
   {
    "duration": 482,
    "start_time": "2022-08-09T15:28:02.859Z"
   },
   {
    "duration": 479,
    "start_time": "2022-08-09T15:29:37.594Z"
   },
   {
    "duration": 451,
    "start_time": "2022-08-09T15:29:54.805Z"
   },
   {
    "duration": 2738,
    "start_time": "2022-08-09T15:31:08.440Z"
   },
   {
    "duration": 315,
    "start_time": "2022-08-09T15:32:34.208Z"
   },
   {
    "duration": 274,
    "start_time": "2022-08-09T15:32:50.963Z"
   },
   {
    "duration": 278,
    "start_time": "2022-08-09T15:35:53.203Z"
   },
   {
    "duration": 303,
    "start_time": "2022-08-09T15:36:26.131Z"
   },
   {
    "duration": 166,
    "start_time": "2022-08-09T15:38:00.894Z"
   },
   {
    "duration": 2681,
    "start_time": "2022-08-09T15:39:59.665Z"
   },
   {
    "duration": 6119,
    "start_time": "2022-08-09T15:40:23.405Z"
   },
   {
    "duration": 6038,
    "start_time": "2022-08-09T15:40:44.180Z"
   },
   {
    "duration": 19,
    "start_time": "2022-08-09T15:41:52.835Z"
   },
   {
    "duration": 112,
    "start_time": "2022-08-09T15:42:41.898Z"
   },
   {
    "duration": 28,
    "start_time": "2022-08-09T15:42:49.028Z"
   },
   {
    "duration": 13,
    "start_time": "2022-08-09T15:43:03.464Z"
   },
   {
    "duration": 19,
    "start_time": "2022-08-09T15:43:09.259Z"
   },
   {
    "duration": 250,
    "start_time": "2022-08-09T15:44:30.659Z"
   },
   {
    "duration": 232,
    "start_time": "2022-08-09T15:45:27.697Z"
   },
   {
    "duration": 1826,
    "start_time": "2022-08-10T16:08:21.656Z"
   },
   {
    "duration": 161,
    "start_time": "2022-08-10T16:08:23.484Z"
   },
   {
    "duration": 18,
    "start_time": "2022-08-10T16:08:24.760Z"
   },
   {
    "duration": 14,
    "start_time": "2022-08-10T16:08:25.134Z"
   },
   {
    "duration": 3,
    "start_time": "2022-08-10T16:08:25.459Z"
   },
   {
    "duration": 4,
    "start_time": "2022-08-10T16:08:25.844Z"
   },
   {
    "duration": 5,
    "start_time": "2022-08-10T16:08:26.129Z"
   },
   {
    "duration": 6,
    "start_time": "2022-08-10T16:08:27.958Z"
   },
   {
    "duration": 15,
    "start_time": "2022-08-10T16:08:28.992Z"
   },
   {
    "duration": 12,
    "start_time": "2022-08-10T16:08:29.657Z"
   },
   {
    "duration": 19,
    "start_time": "2022-08-10T16:08:30.204Z"
   },
   {
    "duration": 17,
    "start_time": "2022-08-10T16:08:30.689Z"
   },
   {
    "duration": 11,
    "start_time": "2022-08-10T16:08:31.143Z"
   },
   {
    "duration": 11,
    "start_time": "2022-08-10T16:08:31.580Z"
   },
   {
    "duration": 17,
    "start_time": "2022-08-10T16:08:32.031Z"
   },
   {
    "duration": 4,
    "start_time": "2022-08-10T16:08:32.819Z"
   },
   {
    "duration": 9,
    "start_time": "2022-08-10T16:08:33.175Z"
   },
   {
    "duration": 386,
    "start_time": "2022-08-10T16:08:41.401Z"
   },
   {
    "duration": 14,
    "start_time": "2022-08-10T16:08:50.663Z"
   },
   {
    "duration": 12,
    "start_time": "2022-08-10T16:08:51.520Z"
   },
   {
    "duration": 13,
    "start_time": "2022-08-10T16:08:52.197Z"
   },
   {
    "duration": 11,
    "start_time": "2022-08-10T16:08:52.864Z"
   },
   {
    "duration": 3,
    "start_time": "2022-08-10T16:08:53.736Z"
   },
   {
    "duration": 3,
    "start_time": "2022-08-10T16:08:54.042Z"
   },
   {
    "duration": 6,
    "start_time": "2022-08-10T16:08:54.402Z"
   },
   {
    "duration": 14,
    "start_time": "2022-08-10T16:08:54.687Z"
   },
   {
    "duration": 357,
    "start_time": "2022-08-10T16:08:55.199Z"
   },
   {
    "duration": 1417,
    "start_time": "2022-08-10T16:08:56.266Z"
   },
   {
    "duration": 13,
    "start_time": "2022-08-10T16:08:57.686Z"
   },
   {
    "duration": 9,
    "start_time": "2022-08-10T16:08:57.829Z"
   },
   {
    "duration": 12,
    "start_time": "2022-08-10T16:08:58.288Z"
   },
   {
    "duration": 4,
    "start_time": "2022-08-10T16:08:59.108Z"
   },
   {
    "duration": 13,
    "start_time": "2022-08-10T16:09:01.220Z"
   },
   {
    "duration": 20,
    "start_time": "2022-08-10T16:09:03.142Z"
   },
   {
    "duration": 13,
    "start_time": "2022-08-10T16:09:04.085Z"
   },
   {
    "duration": 20,
    "start_time": "2022-08-10T16:09:06.329Z"
   },
   {
    "duration": 15,
    "start_time": "2022-08-10T16:09:10.326Z"
   },
   {
    "duration": 2252,
    "start_time": "2022-08-10T16:09:13.739Z"
   },
   {
    "duration": 35,
    "start_time": "2022-08-10T16:09:21.960Z"
   },
   {
    "duration": 25,
    "start_time": "2022-08-10T16:09:33.283Z"
   },
   {
    "duration": 14,
    "start_time": "2022-08-10T16:09:37.924Z"
   },
   {
    "duration": 5,
    "start_time": "2022-08-10T16:11:41.771Z"
   },
   {
    "duration": 11,
    "start_time": "2022-08-10T16:11:42.416Z"
   },
   {
    "duration": 15,
    "start_time": "2022-08-10T16:11:42.798Z"
   },
   {
    "duration": 15,
    "start_time": "2022-08-10T16:11:43.388Z"
   },
   {
    "duration": 21,
    "start_time": "2022-08-10T16:19:05.529Z"
   },
   {
    "duration": 624,
    "start_time": "2022-08-10T16:19:44.768Z"
   },
   {
    "duration": 21,
    "start_time": "2022-08-10T16:20:36.816Z"
   },
   {
    "duration": 117,
    "start_time": "2022-08-10T16:22:15.656Z"
   },
   {
    "duration": 81,
    "start_time": "2022-08-10T16:22:48.951Z"
   },
   {
    "duration": 23,
    "start_time": "2022-08-10T16:22:59.748Z"
   },
   {
    "duration": 134689,
    "start_time": "2022-08-10T16:23:14.888Z"
   },
   {
    "duration": 1399,
    "start_time": "2022-08-11T05:49:47.570Z"
   },
   {
    "duration": 185,
    "start_time": "2022-08-11T05:49:48.971Z"
   },
   {
    "duration": 14,
    "start_time": "2022-08-11T05:49:49.157Z"
   },
   {
    "duration": 10,
    "start_time": "2022-08-11T05:49:49.618Z"
   },
   {
    "duration": 4,
    "start_time": "2022-08-11T05:49:49.932Z"
   },
   {
    "duration": 3,
    "start_time": "2022-08-11T05:49:50.179Z"
   },
   {
    "duration": 4,
    "start_time": "2022-08-11T05:49:50.433Z"
   },
   {
    "duration": 4,
    "start_time": "2022-08-11T05:49:51.769Z"
   },
   {
    "duration": 11,
    "start_time": "2022-08-11T05:49:52.074Z"
   },
   {
    "duration": 9,
    "start_time": "2022-08-11T05:49:52.704Z"
   },
   {
    "duration": 13,
    "start_time": "2022-08-11T05:49:53.321Z"
   },
   {
    "duration": 13,
    "start_time": "2022-08-11T05:49:53.981Z"
   },
   {
    "duration": 9,
    "start_time": "2022-08-11T05:49:54.725Z"
   },
   {
    "duration": 9,
    "start_time": "2022-08-11T05:49:55.654Z"
   },
   {
    "duration": 11,
    "start_time": "2022-08-11T05:49:56.378Z"
   },
   {
    "duration": 4,
    "start_time": "2022-08-11T05:49:57.396Z"
   },
   {
    "duration": 7,
    "start_time": "2022-08-11T05:49:57.801Z"
   },
   {
    "duration": 281,
    "start_time": "2022-08-11T05:49:58.597Z"
   },
   {
    "duration": 11,
    "start_time": "2022-08-11T05:49:59.492Z"
   },
   {
    "duration": 11,
    "start_time": "2022-08-11T05:50:00.280Z"
   },
   {
    "duration": 11,
    "start_time": "2022-08-11T05:50:01.153Z"
   },
   {
    "duration": 10,
    "start_time": "2022-08-11T05:50:01.802Z"
   },
   {
    "duration": 2,
    "start_time": "2022-08-11T05:50:02.764Z"
   },
   {
    "duration": 3,
    "start_time": "2022-08-11T05:50:03.086Z"
   },
   {
    "duration": 5,
    "start_time": "2022-08-11T05:50:03.466Z"
   },
   {
    "duration": 11,
    "start_time": "2022-08-11T05:50:03.897Z"
   },
   {
    "duration": 277,
    "start_time": "2022-08-11T05:50:04.677Z"
   },
   {
    "duration": 1301,
    "start_time": "2022-08-11T05:50:06.172Z"
   },
   {
    "duration": 12,
    "start_time": "2022-08-11T05:50:07.475Z"
   },
   {
    "duration": 10,
    "start_time": "2022-08-11T05:50:08.980Z"
   },
   {
    "duration": 10,
    "start_time": "2022-08-11T05:50:09.335Z"
   },
   {
    "duration": 4,
    "start_time": "2022-08-11T05:50:09.921Z"
   },
   {
    "duration": 14,
    "start_time": "2022-08-11T05:50:10.172Z"
   },
   {
    "duration": 17,
    "start_time": "2022-08-11T05:50:11.374Z"
   },
   {
    "duration": 11,
    "start_time": "2022-08-11T05:50:12.612Z"
   },
   {
    "duration": 17,
    "start_time": "2022-08-11T05:50:13.626Z"
   },
   {
    "duration": 10,
    "start_time": "2022-08-11T05:50:14.571Z"
   },
   {
    "duration": 1836,
    "start_time": "2022-08-11T05:50:15.197Z"
   },
   {
    "duration": 27,
    "start_time": "2022-08-11T05:50:17.034Z"
   },
   {
    "duration": 14,
    "start_time": "2022-08-11T05:50:17.062Z"
   },
   {
    "duration": 14,
    "start_time": "2022-08-11T05:50:17.077Z"
   },
   {
    "duration": 4,
    "start_time": "2022-08-11T05:50:17.235Z"
   },
   {
    "duration": 10,
    "start_time": "2022-08-11T05:50:17.548Z"
   },
   {
    "duration": 9,
    "start_time": "2022-08-11T05:50:17.834Z"
   },
   {
    "duration": 7,
    "start_time": "2022-08-11T05:50:18.065Z"
   },
   {
    "duration": 15,
    "start_time": "2022-08-11T05:50:18.657Z"
   },
   {
    "duration": 157,
    "start_time": "2022-08-11T05:52:33.006Z"
   },
   {
    "duration": 257,
    "start_time": "2022-08-11T05:52:56.450Z"
   },
   {
    "duration": 256,
    "start_time": "2022-08-11T05:53:53.166Z"
   },
   {
    "duration": 325,
    "start_time": "2022-08-11T05:54:22.981Z"
   },
   {
    "duration": 229,
    "start_time": "2022-08-11T05:54:49.006Z"
   },
   {
    "duration": 232,
    "start_time": "2022-08-11T05:55:03.116Z"
   },
   {
    "duration": 251,
    "start_time": "2022-08-11T05:56:36.062Z"
   },
   {
    "duration": 259,
    "start_time": "2022-08-11T05:56:44.073Z"
   },
   {
    "duration": 254,
    "start_time": "2022-08-11T05:58:28.634Z"
   },
   {
    "duration": 312,
    "start_time": "2022-08-11T05:58:34.526Z"
   },
   {
    "duration": 254,
    "start_time": "2022-08-11T05:58:48.969Z"
   },
   {
    "duration": 260,
    "start_time": "2022-08-11T05:59:24.430Z"
   },
   {
    "duration": 234,
    "start_time": "2022-08-11T06:00:08.558Z"
   },
   {
    "duration": 208,
    "start_time": "2022-08-11T06:00:28.903Z"
   },
   {
    "duration": 353,
    "start_time": "2022-08-11T06:00:49.121Z"
   },
   {
    "duration": 207,
    "start_time": "2022-08-11T06:01:39.606Z"
   },
   {
    "duration": 197,
    "start_time": "2022-08-11T06:02:13.461Z"
   },
   {
    "duration": 170,
    "start_time": "2022-08-11T06:02:37.456Z"
   },
   {
    "duration": 162,
    "start_time": "2022-08-11T06:02:57.870Z"
   },
   {
    "duration": 151,
    "start_time": "2022-08-11T06:03:01.783Z"
   },
   {
    "duration": 170,
    "start_time": "2022-08-11T06:03:08.962Z"
   },
   {
    "duration": 158,
    "start_time": "2022-08-11T06:03:20.314Z"
   },
   {
    "duration": 181,
    "start_time": "2022-08-11T06:03:49.569Z"
   },
   {
    "duration": 167,
    "start_time": "2022-08-11T06:04:20.119Z"
   },
   {
    "duration": 188,
    "start_time": "2022-08-11T06:04:25.652Z"
   },
   {
    "duration": 115,
    "start_time": "2022-08-11T06:05:14.502Z"
   },
   {
    "duration": 271,
    "start_time": "2022-08-11T06:05:20.419Z"
   },
   {
    "duration": 189,
    "start_time": "2022-08-11T06:07:13.184Z"
   },
   {
    "duration": 532,
    "start_time": "2022-08-11T06:09:01.427Z"
   },
   {
    "duration": 842,
    "start_time": "2022-08-11T06:09:51.681Z"
   },
   {
    "duration": 882,
    "start_time": "2022-08-11T06:10:41.583Z"
   },
   {
    "duration": 912,
    "start_time": "2022-08-11T06:11:16.297Z"
   },
   {
    "duration": 17,
    "start_time": "2022-08-11T06:28:03.086Z"
   },
   {
    "duration": 18,
    "start_time": "2022-08-11T06:29:08.692Z"
   },
   {
    "duration": 16,
    "start_time": "2022-08-11T06:29:14.669Z"
   },
   {
    "duration": 18,
    "start_time": "2022-08-11T06:29:32.626Z"
   },
   {
    "duration": 17,
    "start_time": "2022-08-11T06:30:47.745Z"
   },
   {
    "duration": 17,
    "start_time": "2022-08-11T06:31:13.393Z"
   },
   {
    "duration": 15,
    "start_time": "2022-08-11T08:39:56.022Z"
   },
   {
    "duration": 24,
    "start_time": "2022-08-11T08:42:27.587Z"
   },
   {
    "duration": 1023,
    "start_time": "2022-08-11T08:43:33.069Z"
   },
   {
    "duration": 540,
    "start_time": "2022-08-11T08:48:58.690Z"
   },
   {
    "duration": 3,
    "start_time": "2022-08-11T08:49:14.168Z"
   },
   {
    "duration": 982,
    "start_time": "2022-08-11T08:50:11.936Z"
   },
   {
    "duration": 1132,
    "start_time": "2022-08-11T08:50:28.475Z"
   },
   {
    "duration": 1328,
    "start_time": "2022-08-11T08:51:11.921Z"
   },
   {
    "duration": 1099,
    "start_time": "2022-08-11T08:51:17.740Z"
   },
   {
    "duration": 1425,
    "start_time": "2022-08-11T08:52:11.608Z"
   },
   {
    "duration": 1235,
    "start_time": "2022-08-11T08:52:40.210Z"
   },
   {
    "duration": 764,
    "start_time": "2022-08-11T08:52:59.385Z"
   },
   {
    "duration": 998,
    "start_time": "2022-08-11T08:53:43.962Z"
   },
   {
    "duration": 771,
    "start_time": "2022-08-11T08:54:51.386Z"
   },
   {
    "duration": 811,
    "start_time": "2022-08-11T08:55:11.165Z"
   },
   {
    "duration": 753,
    "start_time": "2022-08-11T08:58:02.016Z"
   },
   {
    "duration": 565,
    "start_time": "2022-08-11T08:58:52.545Z"
   },
   {
    "duration": 567,
    "start_time": "2022-08-11T09:01:05.050Z"
   },
   {
    "duration": 651,
    "start_time": "2022-08-11T09:02:01.808Z"
   },
   {
    "duration": 882,
    "start_time": "2022-08-11T09:02:34.884Z"
   },
   {
    "duration": 604,
    "start_time": "2022-08-11T09:03:54.089Z"
   },
   {
    "duration": 624,
    "start_time": "2022-08-11T09:04:06.640Z"
   },
   {
    "duration": 587,
    "start_time": "2022-08-11T09:06:18.706Z"
   },
   {
    "duration": 11,
    "start_time": "2022-08-11T09:08:50.361Z"
   },
   {
    "duration": 14,
    "start_time": "2022-08-11T09:09:09.370Z"
   },
   {
    "duration": 716,
    "start_time": "2022-08-11T09:10:04.736Z"
   },
   {
    "duration": 14,
    "start_time": "2022-08-11T09:10:45.823Z"
   },
   {
    "duration": 16,
    "start_time": "2022-08-11T09:11:19.889Z"
   },
   {
    "duration": 14,
    "start_time": "2022-08-11T09:11:31.573Z"
   },
   {
    "duration": 11,
    "start_time": "2022-08-11T09:11:50.226Z"
   },
   {
    "duration": 14,
    "start_time": "2022-08-11T09:11:58.473Z"
   },
   {
    "duration": 21,
    "start_time": "2022-08-11T09:21:05.712Z"
   },
   {
    "duration": 5,
    "start_time": "2022-08-11T09:22:15.235Z"
   },
   {
    "duration": 8,
    "start_time": "2022-08-11T09:22:20.789Z"
   },
   {
    "duration": 16,
    "start_time": "2022-08-11T09:22:46.154Z"
   },
   {
    "duration": 85,
    "start_time": "2022-08-11T09:22:46.861Z"
   },
   {
    "duration": 7,
    "start_time": "2022-08-11T09:22:47.216Z"
   },
   {
    "duration": 4,
    "start_time": "2022-08-11T09:22:59.631Z"
   },
   {
    "duration": 7,
    "start_time": "2022-08-11T09:23:00.275Z"
   },
   {
    "duration": 130,
    "start_time": "2022-08-11T09:26:13.026Z"
   },
   {
    "duration": 16,
    "start_time": "2022-08-11T09:26:21.438Z"
   },
   {
    "duration": 4,
    "start_time": "2022-08-11T09:26:21.944Z"
   },
   {
    "duration": 7,
    "start_time": "2022-08-11T09:26:23.432Z"
   },
   {
    "duration": 4,
    "start_time": "2022-08-11T09:27:06.921Z"
   },
   {
    "duration": 8,
    "start_time": "2022-08-11T09:27:07.474Z"
   },
   {
    "duration": 19,
    "start_time": "2022-08-11T09:27:47.750Z"
   },
   {
    "duration": 24,
    "start_time": "2022-08-11T09:28:20.351Z"
   },
   {
    "duration": 20,
    "start_time": "2022-08-11T09:28:55.097Z"
   },
   {
    "duration": 20,
    "start_time": "2022-08-11T09:29:48.669Z"
   },
   {
    "duration": 21,
    "start_time": "2022-08-11T09:30:03.940Z"
   },
   {
    "duration": 19,
    "start_time": "2022-08-11T09:30:56.107Z"
   },
   {
    "duration": 24,
    "start_time": "2022-08-11T09:31:07.437Z"
   },
   {
    "duration": 4,
    "start_time": "2022-08-11T09:38:45.952Z"
   },
   {
    "duration": 14,
    "start_time": "2022-08-11T09:39:29.251Z"
   },
   {
    "duration": 22,
    "start_time": "2022-08-11T09:39:35.112Z"
   },
   {
    "duration": 4,
    "start_time": "2022-08-11T10:50:34.925Z"
   },
   {
    "duration": 17,
    "start_time": "2022-08-11T10:50:40.928Z"
   },
   {
    "duration": 4,
    "start_time": "2022-08-11T10:52:42.737Z"
   },
   {
    "duration": 12,
    "start_time": "2022-08-11T10:53:31.525Z"
   },
   {
    "duration": 22,
    "start_time": "2022-08-11T10:53:37.344Z"
   },
   {
    "duration": 4,
    "start_time": "2022-08-11T10:54:09.572Z"
   },
   {
    "duration": 4,
    "start_time": "2022-08-11T10:54:31.991Z"
   },
   {
    "duration": 18,
    "start_time": "2022-08-11T10:55:37.996Z"
   },
   {
    "duration": 18,
    "start_time": "2022-08-11T10:55:55.080Z"
   },
   {
    "duration": 18,
    "start_time": "2022-08-11T10:58:20.317Z"
   },
   {
    "duration": 19,
    "start_time": "2022-08-11T10:58:41.368Z"
   },
   {
    "duration": 654,
    "start_time": "2022-08-11T12:02:41.583Z"
   },
   {
    "duration": 737,
    "start_time": "2022-08-11T12:03:12.992Z"
   },
   {
    "duration": 982,
    "start_time": "2022-08-11T12:04:21.211Z"
   },
   {
    "duration": 18,
    "start_time": "2022-08-11T12:06:08.205Z"
   },
   {
    "duration": 22,
    "start_time": "2022-08-11T12:06:17.376Z"
   },
   {
    "duration": 19,
    "start_time": "2022-08-11T12:06:32.920Z"
   },
   {
    "duration": 21,
    "start_time": "2022-08-11T12:10:43.938Z"
   },
   {
    "duration": 20,
    "start_time": "2022-08-11T12:23:55.638Z"
   },
   {
    "duration": 20,
    "start_time": "2022-08-11T12:33:58.181Z"
   },
   {
    "duration": 19,
    "start_time": "2022-08-11T12:35:29.999Z"
   },
   {
    "duration": 19,
    "start_time": "2022-08-11T12:35:49.323Z"
   },
   {
    "duration": 22,
    "start_time": "2022-08-11T12:36:22.329Z"
   },
   {
    "duration": 18,
    "start_time": "2022-08-11T12:36:47.116Z"
   },
   {
    "duration": 24,
    "start_time": "2022-08-11T12:37:14.656Z"
   },
   {
    "duration": 31,
    "start_time": "2022-08-11T12:38:59.222Z"
   },
   {
    "duration": 96,
    "start_time": "2022-08-11T12:39:14.276Z"
   },
   {
    "duration": 20,
    "start_time": "2022-08-11T12:39:36.117Z"
   },
   {
    "duration": 24,
    "start_time": "2022-08-11T12:40:32.967Z"
   },
   {
    "duration": 12,
    "start_time": "2022-08-11T12:40:58.717Z"
   },
   {
    "duration": 12,
    "start_time": "2022-08-11T12:41:10.426Z"
   },
   {
    "duration": 95,
    "start_time": "2022-08-11T12:42:33.328Z"
   },
   {
    "duration": 184,
    "start_time": "2022-08-11T12:43:01.148Z"
   },
   {
    "duration": 197,
    "start_time": "2022-08-11T12:43:27.736Z"
   },
   {
    "duration": 148,
    "start_time": "2022-08-11T12:43:47.275Z"
   },
   {
    "duration": 19,
    "start_time": "2022-08-11T12:44:21.627Z"
   },
   {
    "duration": 203,
    "start_time": "2022-08-11T12:44:36.338Z"
   },
   {
    "duration": 207,
    "start_time": "2022-08-11T12:45:17.879Z"
   },
   {
    "duration": 196,
    "start_time": "2022-08-11T12:45:37.130Z"
   },
   {
    "duration": 12,
    "start_time": "2022-08-11T12:48:21.909Z"
   },
   {
    "duration": 12,
    "start_time": "2022-08-11T12:48:42.181Z"
   },
   {
    "duration": 5,
    "start_time": "2022-08-11T12:52:29.205Z"
   },
   {
    "duration": 18,
    "start_time": "2022-08-11T12:52:30.496Z"
   },
   {
    "duration": 19,
    "start_time": "2022-08-11T12:52:42.818Z"
   },
   {
    "duration": 19,
    "start_time": "2022-08-11T12:52:55.667Z"
   },
   {
    "duration": 18,
    "start_time": "2022-08-11T12:53:20.676Z"
   },
   {
    "duration": 20,
    "start_time": "2022-08-11T12:53:28.590Z"
   },
   {
    "duration": 21,
    "start_time": "2022-08-11T12:53:46.496Z"
   },
   {
    "duration": 26,
    "start_time": "2022-08-11T12:53:57.541Z"
   },
   {
    "duration": 27,
    "start_time": "2022-08-11T12:54:07.306Z"
   },
   {
    "duration": 21,
    "start_time": "2022-08-11T12:54:33.366Z"
   },
   {
    "duration": 20,
    "start_time": "2022-08-11T12:55:06.594Z"
   },
   {
    "duration": 17,
    "start_time": "2022-08-11T12:55:52.792Z"
   },
   {
    "duration": 22,
    "start_time": "2022-08-11T12:56:04.749Z"
   },
   {
    "duration": 20,
    "start_time": "2022-08-11T12:56:07.013Z"
   },
   {
    "duration": 9,
    "start_time": "2022-08-11T12:57:35.396Z"
   },
   {
    "duration": 14,
    "start_time": "2022-08-11T12:58:16.153Z"
   },
   {
    "duration": 16,
    "start_time": "2022-08-11T12:58:36.087Z"
   },
   {
    "duration": 16,
    "start_time": "2022-08-11T12:58:43.605Z"
   },
   {
    "duration": 18,
    "start_time": "2022-08-11T12:58:54.247Z"
   },
   {
    "duration": 16,
    "start_time": "2022-08-11T12:59:01.667Z"
   },
   {
    "duration": 15,
    "start_time": "2022-08-11T12:59:22.223Z"
   },
   {
    "duration": 19,
    "start_time": "2022-08-11T13:00:52.766Z"
   },
   {
    "duration": 19,
    "start_time": "2022-08-11T13:01:09.891Z"
   },
   {
    "duration": 607,
    "start_time": "2022-08-11T13:02:45.077Z"
   },
   {
    "duration": 21,
    "start_time": "2022-08-11T13:04:47.156Z"
   },
   {
    "duration": 23,
    "start_time": "2022-08-11T13:07:10.417Z"
   },
   {
    "duration": 24,
    "start_time": "2022-08-11T13:07:44.329Z"
   },
   {
    "duration": 29,
    "start_time": "2022-08-11T13:09:19.742Z"
   },
   {
    "duration": 42,
    "start_time": "2022-08-11T13:12:24.540Z"
   },
   {
    "duration": 24,
    "start_time": "2022-08-11T13:12:35.417Z"
   },
   {
    "duration": 23,
    "start_time": "2022-08-11T13:12:46.115Z"
   },
   {
    "duration": 27,
    "start_time": "2022-08-11T13:13:40.391Z"
   },
   {
    "duration": 27,
    "start_time": "2022-08-11T13:13:44.738Z"
   },
   {
    "duration": 24,
    "start_time": "2022-08-11T13:15:28.797Z"
   },
   {
    "duration": 22,
    "start_time": "2022-08-11T13:36:20.030Z"
   },
   {
    "duration": 25,
    "start_time": "2022-08-11T13:36:44.996Z"
   },
   {
    "duration": 28,
    "start_time": "2022-08-11T13:37:37.484Z"
   },
   {
    "duration": 16,
    "start_time": "2022-08-11T13:38:41.420Z"
   },
   {
    "duration": 18,
    "start_time": "2022-08-11T13:38:55.325Z"
   },
   {
    "duration": 18,
    "start_time": "2022-08-11T13:39:48.078Z"
   },
   {
    "duration": 19,
    "start_time": "2022-08-11T13:42:24.611Z"
   },
   {
    "duration": 19,
    "start_time": "2022-08-11T13:49:54.796Z"
   },
   {
    "duration": 14,
    "start_time": "2022-08-11T13:50:51.581Z"
   },
   {
    "duration": 13,
    "start_time": "2022-08-11T13:51:00.700Z"
   },
   {
    "duration": 13,
    "start_time": "2022-08-11T13:51:20.484Z"
   },
   {
    "duration": 26,
    "start_time": "2022-08-11T13:51:50.745Z"
   },
   {
    "duration": 25,
    "start_time": "2022-08-11T13:51:54.151Z"
   },
   {
    "duration": 20,
    "start_time": "2022-08-11T13:52:58.976Z"
   },
   {
    "duration": 17,
    "start_time": "2022-08-11T13:53:05.405Z"
   },
   {
    "duration": 20,
    "start_time": "2022-08-11T13:53:53.498Z"
   },
   {
    "duration": 28,
    "start_time": "2022-08-11T13:55:58.419Z"
   },
   {
    "duration": 29,
    "start_time": "2022-08-11T13:56:29.621Z"
   },
   {
    "duration": 42,
    "start_time": "2022-08-11T13:56:57.783Z"
   },
   {
    "duration": 29,
    "start_time": "2022-08-11T14:02:19.838Z"
   },
   {
    "duration": 33,
    "start_time": "2022-08-11T14:02:33.101Z"
   },
   {
    "duration": 19,
    "start_time": "2022-08-11T14:04:00.996Z"
   },
   {
    "duration": 221,
    "start_time": "2022-08-11T14:16:16.300Z"
   },
   {
    "duration": 23,
    "start_time": "2022-08-11T14:17:04.637Z"
   },
   {
    "duration": 265,
    "start_time": "2022-08-11T14:17:05.543Z"
   },
   {
    "duration": 277,
    "start_time": "2022-08-11T14:17:26.644Z"
   },
   {
    "duration": 115,
    "start_time": "2022-08-11T14:18:30.333Z"
   },
   {
    "duration": 281,
    "start_time": "2022-08-11T14:18:47.481Z"
   },
   {
    "duration": 16,
    "start_time": "2022-08-11T14:19:54.398Z"
   },
   {
    "duration": 17,
    "start_time": "2022-08-11T14:20:30.699Z"
   },
   {
    "duration": 17,
    "start_time": "2022-08-11T14:22:37.936Z"
   },
   {
    "duration": 31,
    "start_time": "2022-08-11T14:22:44.257Z"
   },
   {
    "duration": 443,
    "start_time": "2022-08-11T14:22:58.948Z"
   },
   {
    "duration": 408,
    "start_time": "2022-08-11T14:23:41.871Z"
   },
   {
    "duration": 38,
    "start_time": "2022-08-11T14:36:09.580Z"
   },
   {
    "duration": 11,
    "start_time": "2022-08-11T14:36:10.694Z"
   },
   {
    "duration": 12,
    "start_time": "2022-08-11T14:36:11.174Z"
   },
   {
    "duration": 3,
    "start_time": "2022-08-11T14:36:11.454Z"
   },
   {
    "duration": 11,
    "start_time": "2022-08-11T14:36:11.753Z"
   },
   {
    "duration": 4,
    "start_time": "2022-08-11T14:36:12.034Z"
   },
   {
    "duration": 5,
    "start_time": "2022-08-11T14:36:13.244Z"
   },
   {
    "duration": 12,
    "start_time": "2022-08-11T14:36:13.478Z"
   },
   {
    "duration": 9,
    "start_time": "2022-08-11T14:36:13.897Z"
   },
   {
    "duration": 23,
    "start_time": "2022-08-11T14:36:14.273Z"
   },
   {
    "duration": 14,
    "start_time": "2022-08-11T14:36:14.682Z"
   },
   {
    "duration": 9,
    "start_time": "2022-08-11T14:36:15.042Z"
   },
   {
    "duration": 10,
    "start_time": "2022-08-11T14:36:15.427Z"
   },
   {
    "duration": 11,
    "start_time": "2022-08-11T14:36:15.798Z"
   },
   {
    "duration": 3,
    "start_time": "2022-08-11T14:36:16.449Z"
   },
   {
    "duration": 9,
    "start_time": "2022-08-11T14:36:16.703Z"
   },
   {
    "duration": 335,
    "start_time": "2022-08-11T14:36:50.774Z"
   },
   {
    "duration": 12,
    "start_time": "2022-08-11T14:36:51.994Z"
   },
   {
    "duration": 11,
    "start_time": "2022-08-11T14:36:52.699Z"
   },
   {
    "duration": 11,
    "start_time": "2022-08-11T14:36:53.430Z"
   },
   {
    "duration": 11,
    "start_time": "2022-08-11T14:36:54.382Z"
   },
   {
    "duration": 2,
    "start_time": "2022-08-11T14:36:57.182Z"
   },
   {
    "duration": 3,
    "start_time": "2022-08-11T14:38:01.798Z"
   },
   {
    "duration": 5,
    "start_time": "2022-08-11T14:38:02.588Z"
   },
   {
    "duration": 11,
    "start_time": "2022-08-11T14:38:03.535Z"
   },
   {
    "duration": 250,
    "start_time": "2022-08-11T14:38:07.093Z"
   },
   {
    "duration": 1142,
    "start_time": "2022-08-11T14:38:11.380Z"
   },
   {
    "duration": 16,
    "start_time": "2022-08-11T14:38:13.780Z"
   },
   {
    "duration": 8,
    "start_time": "2022-08-11T14:38:14.585Z"
   },
   {
    "duration": 11,
    "start_time": "2022-08-11T14:38:15.784Z"
   },
   {
    "duration": 5,
    "start_time": "2022-08-11T14:38:19.678Z"
   },
   {
    "duration": 12,
    "start_time": "2022-08-11T14:38:20.136Z"
   },
   {
    "duration": 17,
    "start_time": "2022-08-11T14:38:38.080Z"
   },
   {
    "duration": 15,
    "start_time": "2022-08-11T14:38:38.992Z"
   },
   {
    "duration": 9,
    "start_time": "2022-08-11T14:39:25.317Z"
   },
   {
    "duration": 17,
    "start_time": "2022-08-11T14:39:39.214Z"
   },
   {
    "duration": 17,
    "start_time": "2022-08-11T14:40:00.476Z"
   },
   {
    "duration": 21,
    "start_time": "2022-08-11T14:40:08.627Z"
   },
   {
    "duration": 2,
    "start_time": "2022-08-11T14:42:55.820Z"
   },
   {
    "duration": 5,
    "start_time": "2022-08-11T14:42:56.318Z"
   },
   {
    "duration": 11,
    "start_time": "2022-08-11T14:42:57.107Z"
   },
   {
    "duration": 265,
    "start_time": "2022-08-11T14:42:59.001Z"
   },
   {
    "duration": 1213,
    "start_time": "2022-08-11T14:43:00.479Z"
   },
   {
    "duration": 11,
    "start_time": "2022-08-11T14:43:01.694Z"
   },
   {
    "duration": 8,
    "start_time": "2022-08-11T14:43:02.314Z"
   },
   {
    "duration": 12,
    "start_time": "2022-08-11T14:43:02.573Z"
   },
   {
    "duration": 16,
    "start_time": "2022-08-11T14:43:03.155Z"
   },
   {
    "duration": 40,
    "start_time": "2022-08-11T14:43:21.179Z"
   },
   {
    "duration": 10,
    "start_time": "2022-08-11T14:43:21.541Z"
   },
   {
    "duration": 11,
    "start_time": "2022-08-11T14:43:21.879Z"
   },
   {
    "duration": 2,
    "start_time": "2022-08-11T14:43:22.207Z"
   },
   {
    "duration": 3,
    "start_time": "2022-08-11T14:43:22.509Z"
   },
   {
    "duration": 4,
    "start_time": "2022-08-11T14:43:22.779Z"
   },
   {
    "duration": 291,
    "start_time": "2022-08-11T14:43:24.589Z"
   },
   {
    "duration": 12,
    "start_time": "2022-08-11T14:43:24.887Z"
   },
   {
    "duration": 8,
    "start_time": "2022-08-11T14:43:24.901Z"
   },
   {
    "duration": 15,
    "start_time": "2022-08-11T14:43:25.237Z"
   },
   {
    "duration": 23,
    "start_time": "2022-08-11T14:43:25.668Z"
   },
   {
    "duration": 9,
    "start_time": "2022-08-11T14:43:26.128Z"
   },
   {
    "duration": 10,
    "start_time": "2022-08-11T14:43:26.623Z"
   },
   {
    "duration": 12,
    "start_time": "2022-08-11T14:43:27.075Z"
   },
   {
    "duration": 5,
    "start_time": "2022-08-11T14:43:27.775Z"
   },
   {
    "duration": 8,
    "start_time": "2022-08-11T14:43:27.984Z"
   },
   {
    "duration": 315,
    "start_time": "2022-08-11T14:43:28.409Z"
   },
   {
    "duration": 12,
    "start_time": "2022-08-11T14:43:28.920Z"
   },
   {
    "duration": 11,
    "start_time": "2022-08-11T14:43:29.442Z"
   },
   {
    "duration": 11,
    "start_time": "2022-08-11T14:43:29.941Z"
   },
   {
    "duration": 11,
    "start_time": "2022-08-11T14:43:30.388Z"
   },
   {
    "duration": 2,
    "start_time": "2022-08-11T14:43:31.183Z"
   },
   {
    "duration": 3,
    "start_time": "2022-08-11T14:43:31.475Z"
   },
   {
    "duration": 2,
    "start_time": "2022-08-11T14:43:31.780Z"
   },
   {
    "duration": 6,
    "start_time": "2022-08-11T14:43:32.078Z"
   },
   {
    "duration": 18,
    "start_time": "2022-08-11T14:43:32.754Z"
   },
   {
    "duration": 270,
    "start_time": "2022-08-11T14:43:33.824Z"
   },
   {
    "duration": 1169,
    "start_time": "2022-08-11T14:43:35.779Z"
   },
   {
    "duration": 14,
    "start_time": "2022-08-11T14:43:36.950Z"
   },
   {
    "duration": 8,
    "start_time": "2022-08-11T14:43:37.580Z"
   },
   {
    "duration": 10,
    "start_time": "2022-08-11T14:43:37.922Z"
   },
   {
    "duration": 17,
    "start_time": "2022-08-11T14:43:39.354Z"
   },
   {
    "duration": 11,
    "start_time": "2022-08-11T14:43:41.779Z"
   },
   {
    "duration": 50,
    "start_time": "2022-08-11T14:47:37.318Z"
   },
   {
    "duration": 16,
    "start_time": "2022-08-11T14:47:37.696Z"
   },
   {
    "duration": 12,
    "start_time": "2022-08-11T14:47:38.028Z"
   },
   {
    "duration": 4,
    "start_time": "2022-08-11T14:47:38.298Z"
   },
   {
    "duration": 6,
    "start_time": "2022-08-11T14:47:38.582Z"
   },
   {
    "duration": 4,
    "start_time": "2022-08-11T14:47:38.917Z"
   },
   {
    "duration": 6,
    "start_time": "2022-08-11T14:47:40.279Z"
   },
   {
    "duration": 10,
    "start_time": "2022-08-11T14:47:40.614Z"
   },
   {
    "duration": 10,
    "start_time": "2022-08-11T14:47:41.210Z"
   },
   {
    "duration": 14,
    "start_time": "2022-08-11T14:47:41.845Z"
   },
   {
    "duration": 13,
    "start_time": "2022-08-11T14:47:42.537Z"
   },
   {
    "duration": 10,
    "start_time": "2022-08-11T14:47:43.322Z"
   },
   {
    "duration": 9,
    "start_time": "2022-08-11T14:47:44.088Z"
   },
   {
    "duration": 14,
    "start_time": "2022-08-11T14:47:44.983Z"
   },
   {
    "duration": 3,
    "start_time": "2022-08-11T14:47:46.131Z"
   },
   {
    "duration": 8,
    "start_time": "2022-08-11T14:47:46.590Z"
   },
   {
    "duration": 331,
    "start_time": "2022-08-11T14:47:47.696Z"
   },
   {
    "duration": 587,
    "start_time": "2022-08-11T14:57:18.232Z"
   },
   {
    "duration": 502,
    "start_time": "2022-08-11T14:57:28.685Z"
   },
   {
    "duration": 7,
    "start_time": "2022-08-11T14:57:37.614Z"
   },
   {
    "duration": 8,
    "start_time": "2022-08-11T14:57:40.015Z"
   },
   {
    "duration": 18,
    "start_time": "2022-08-11T15:16:00.352Z"
   },
   {
    "duration": 8,
    "start_time": "2022-08-11T15:16:29.791Z"
   },
   {
    "duration": 10,
    "start_time": "2022-08-11T15:16:39.070Z"
   },
   {
    "duration": 7,
    "start_time": "2022-08-11T15:17:02.541Z"
   },
   {
    "duration": 297,
    "start_time": "2022-08-11T15:17:06.114Z"
   },
   {
    "duration": 39,
    "start_time": "2022-08-11T15:17:25.079Z"
   },
   {
    "duration": 11,
    "start_time": "2022-08-11T15:17:25.469Z"
   },
   {
    "duration": 11,
    "start_time": "2022-08-11T15:17:25.769Z"
   },
   {
    "duration": 3,
    "start_time": "2022-08-11T15:17:26.013Z"
   },
   {
    "duration": 11,
    "start_time": "2022-08-11T15:17:26.254Z"
   },
   {
    "duration": 4,
    "start_time": "2022-08-11T15:17:26.508Z"
   },
   {
    "duration": 5,
    "start_time": "2022-08-11T15:17:27.603Z"
   },
   {
    "duration": 10,
    "start_time": "2022-08-11T15:17:27.824Z"
   },
   {
    "duration": 14,
    "start_time": "2022-08-11T15:17:28.245Z"
   },
   {
    "duration": 21,
    "start_time": "2022-08-11T15:17:28.651Z"
   },
   {
    "duration": 16,
    "start_time": "2022-08-11T15:17:29.112Z"
   },
   {
    "duration": 17,
    "start_time": "2022-08-11T15:17:29.552Z"
   },
   {
    "duration": 10,
    "start_time": "2022-08-11T15:17:29.972Z"
   },
   {
    "duration": 12,
    "start_time": "2022-08-11T15:17:30.397Z"
   },
   {
    "duration": 6,
    "start_time": "2022-08-11T15:17:31.032Z"
   },
   {
    "duration": 7,
    "start_time": "2022-08-11T15:17:31.367Z"
   },
   {
    "duration": 472,
    "start_time": "2022-08-11T15:17:33.570Z"
   },
   {
    "duration": 136,
    "start_time": "2022-08-11T15:18:09.886Z"
   },
   {
    "duration": 438,
    "start_time": "2022-08-11T15:18:24.402Z"
   },
   {
    "duration": 278,
    "start_time": "2022-08-11T15:20:08.749Z"
   },
   {
    "duration": 505,
    "start_time": "2022-08-11T15:21:06.950Z"
   },
   {
    "duration": 452,
    "start_time": "2022-08-11T15:21:31.729Z"
   },
   {
    "duration": 1498,
    "start_time": "2022-08-11T15:23:00.854Z"
   },
   {
    "duration": 1087,
    "start_time": "2022-08-11T15:23:08.665Z"
   },
   {
    "duration": 1095,
    "start_time": "2022-08-11T15:23:14.706Z"
   },
   {
    "duration": 1563,
    "start_time": "2022-08-12T04:26:58.449Z"
   },
   {
    "duration": 97,
    "start_time": "2022-08-12T04:27:00.014Z"
   },
   {
    "duration": 18,
    "start_time": "2022-08-12T04:27:00.538Z"
   },
   {
    "duration": 13,
    "start_time": "2022-08-12T04:27:00.812Z"
   },
   {
    "duration": 3,
    "start_time": "2022-08-12T04:27:01.068Z"
   },
   {
    "duration": 3,
    "start_time": "2022-08-12T04:27:01.273Z"
   },
   {
    "duration": 10,
    "start_time": "2022-08-12T04:27:01.498Z"
   },
   {
    "duration": 7,
    "start_time": "2022-08-12T04:27:02.823Z"
   },
   {
    "duration": 13,
    "start_time": "2022-08-12T04:27:03.115Z"
   },
   {
    "duration": 12,
    "start_time": "2022-08-12T04:27:03.673Z"
   },
   {
    "duration": 23,
    "start_time": "2022-08-12T04:27:04.195Z"
   },
   {
    "duration": 13,
    "start_time": "2022-08-12T04:27:04.757Z"
   },
   {
    "duration": 9,
    "start_time": "2022-08-12T04:27:05.553Z"
   },
   {
    "duration": 10,
    "start_time": "2022-08-12T04:27:06.383Z"
   },
   {
    "duration": 12,
    "start_time": "2022-08-12T04:27:07.321Z"
   },
   {
    "duration": 3,
    "start_time": "2022-08-12T04:28:20.989Z"
   },
   {
    "duration": 6,
    "start_time": "2022-08-12T04:28:22.226Z"
   },
   {
    "duration": 7,
    "start_time": "2022-08-12T04:28:23.258Z"
   },
   {
    "duration": 939,
    "start_time": "2022-08-12T04:28:28.199Z"
   },
   {
    "duration": 916,
    "start_time": "2022-08-12T04:28:43.235Z"
   },
   {
    "duration": 840,
    "start_time": "2022-08-12T04:29:00.782Z"
   },
   {
    "duration": 840,
    "start_time": "2022-08-12T04:29:55.682Z"
   },
   {
    "duration": 277,
    "start_time": "2022-08-12T04:29:57.395Z"
   },
   {
    "duration": 877,
    "start_time": "2022-08-12T04:36:40.959Z"
   },
   {
    "duration": 16,
    "start_time": "2022-08-12T04:37:05.052Z"
   },
   {
    "duration": 12,
    "start_time": "2022-08-12T04:37:06.013Z"
   },
   {
    "duration": 11,
    "start_time": "2022-08-12T04:37:06.857Z"
   },
   {
    "duration": 11,
    "start_time": "2022-08-12T04:37:09.016Z"
   },
   {
    "duration": 3,
    "start_time": "2022-08-12T04:37:47.913Z"
   },
   {
    "duration": 4,
    "start_time": "2022-08-12T04:37:48.511Z"
   },
   {
    "duration": 4,
    "start_time": "2022-08-12T04:37:49.114Z"
   },
   {
    "duration": 6,
    "start_time": "2022-08-12T04:37:50.680Z"
   },
   {
    "duration": 15,
    "start_time": "2022-08-12T04:37:51.945Z"
   },
   {
    "duration": 286,
    "start_time": "2022-08-12T04:38:01.654Z"
   },
   {
    "duration": 138,
    "start_time": "2022-08-12T04:38:44.074Z"
   },
   {
    "duration": 11,
    "start_time": "2022-08-12T04:38:48.038Z"
   },
   {
    "duration": 4,
    "start_time": "2022-08-12T04:39:23.024Z"
   },
   {
    "duration": 7,
    "start_time": "2022-08-12T04:42:51.480Z"
   },
   {
    "duration": 5,
    "start_time": "2022-08-12T04:43:01.383Z"
   },
   {
    "duration": 4,
    "start_time": "2022-08-12T04:44:07.549Z"
   },
   {
    "duration": 13,
    "start_time": "2022-08-12T04:44:08.119Z"
   },
   {
    "duration": 439,
    "start_time": "2022-08-12T04:44:10.453Z"
   },
   {
    "duration": 379,
    "start_time": "2022-08-12T04:44:36.574Z"
   },
   {
    "duration": 339,
    "start_time": "2022-08-12T04:44:43.615Z"
   },
   {
    "duration": 1297,
    "start_time": "2022-08-12T04:45:14.369Z"
   },
   {
    "duration": 13,
    "start_time": "2022-08-12T04:45:19.744Z"
   },
   {
    "duration": 14,
    "start_time": "2022-08-12T04:45:25.918Z"
   },
   {
    "duration": 17,
    "start_time": "2022-08-12T04:45:26.351Z"
   },
   {
    "duration": 6,
    "start_time": "2022-08-12T04:45:34.425Z"
   },
   {
    "duration": 13,
    "start_time": "2022-08-12T04:45:37.562Z"
   },
   {
    "duration": 21,
    "start_time": "2022-08-12T04:45:56.426Z"
   },
   {
    "duration": 14,
    "start_time": "2022-08-12T04:46:03.646Z"
   },
   {
    "duration": 35,
    "start_time": "2022-08-12T04:46:12.196Z"
   },
   {
    "duration": 28,
    "start_time": "2022-08-12T04:49:57.821Z"
   },
   {
    "duration": 449,
    "start_time": "2022-08-12T04:52:54.232Z"
   },
   {
    "duration": 384,
    "start_time": "2022-08-12T04:53:22.173Z"
   },
   {
    "duration": 427,
    "start_time": "2022-08-12T04:53:39.658Z"
   },
   {
    "duration": 289,
    "start_time": "2022-08-12T04:54:04.350Z"
   },
   {
    "duration": 269,
    "start_time": "2022-08-12T04:54:22.370Z"
   },
   {
    "duration": 279,
    "start_time": "2022-08-12T04:55:02.582Z"
   },
   {
    "duration": 277,
    "start_time": "2022-08-12T04:55:53.997Z"
   },
   {
    "duration": 262,
    "start_time": "2022-08-12T04:56:11.375Z"
   },
   {
    "duration": 2,
    "start_time": "2022-08-12T05:08:16.947Z"
   },
   {
    "duration": 28,
    "start_time": "2022-08-12T05:10:54.619Z"
   },
   {
    "duration": 37,
    "start_time": "2022-08-12T05:12:58.297Z"
   },
   {
    "duration": 356,
    "start_time": "2022-08-12T05:14:48.377Z"
   },
   {
    "duration": 37,
    "start_time": "2022-08-12T05:17:40.911Z"
   },
   {
    "duration": 23,
    "start_time": "2022-08-12T05:18:00.711Z"
   },
   {
    "duration": 12,
    "start_time": "2022-08-12T05:19:30.776Z"
   },
   {
    "duration": 24,
    "start_time": "2022-08-12T05:19:36.011Z"
   },
   {
    "duration": 21,
    "start_time": "2022-08-12T05:19:46.663Z"
   },
   {
    "duration": 34,
    "start_time": "2022-08-12T05:19:57.598Z"
   },
   {
    "duration": 12,
    "start_time": "2022-08-12T05:21:56.549Z"
   },
   {
    "duration": 28,
    "start_time": "2022-08-12T05:22:10.597Z"
   },
   {
    "duration": 23,
    "start_time": "2022-08-12T05:24:10.023Z"
   },
   {
    "duration": 25,
    "start_time": "2022-08-12T05:25:39.522Z"
   },
   {
    "duration": 37,
    "start_time": "2022-08-12T05:27:03.485Z"
   },
   {
    "duration": 26,
    "start_time": "2022-08-12T05:28:22.062Z"
   },
   {
    "duration": 95,
    "start_time": "2022-08-12T05:28:33.796Z"
   },
   {
    "duration": 29,
    "start_time": "2022-08-12T05:28:52.140Z"
   },
   {
    "duration": 29,
    "start_time": "2022-08-12T05:30:55.429Z"
   },
   {
    "duration": 22,
    "start_time": "2022-08-12T05:34:01.241Z"
   },
   {
    "duration": 32,
    "start_time": "2022-08-12T05:39:45.638Z"
   },
   {
    "duration": 296,
    "start_time": "2022-08-12T05:39:47.349Z"
   },
   {
    "duration": 29,
    "start_time": "2022-08-12T05:40:14.538Z"
   },
   {
    "duration": 19,
    "start_time": "2022-08-12T05:42:20.545Z"
   },
   {
    "duration": 22,
    "start_time": "2022-08-12T05:42:49.163Z"
   },
   {
    "duration": 30,
    "start_time": "2022-08-12T05:43:30.087Z"
   },
   {
    "duration": 47,
    "start_time": "2022-08-12T05:43:48.809Z"
   },
   {
    "duration": 47,
    "start_time": "2022-08-12T05:47:56.994Z"
   },
   {
    "duration": 28,
    "start_time": "2022-08-12T05:49:47.741Z"
   },
   {
    "duration": 29,
    "start_time": "2022-08-12T05:50:54.128Z"
   },
   {
    "duration": 33,
    "start_time": "2022-08-12T05:51:23.975Z"
   },
   {
    "duration": 26,
    "start_time": "2022-08-12T05:52:40.958Z"
   },
   {
    "duration": 27,
    "start_time": "2022-08-12T05:52:52.929Z"
   },
   {
    "duration": 23,
    "start_time": "2022-08-12T05:53:12.075Z"
   },
   {
    "duration": 22,
    "start_time": "2022-08-12T05:54:28.366Z"
   },
   {
    "duration": 25,
    "start_time": "2022-08-12T05:54:46.364Z"
   },
   {
    "duration": 19,
    "start_time": "2022-08-12T06:14:16.658Z"
   },
   {
    "duration": 1510,
    "start_time": "2022-08-12T08:08:02.456Z"
   },
   {
    "duration": 159,
    "start_time": "2022-08-12T08:08:03.968Z"
   },
   {
    "duration": 15,
    "start_time": "2022-08-12T08:08:04.128Z"
   },
   {
    "duration": 11,
    "start_time": "2022-08-12T08:08:04.145Z"
   },
   {
    "duration": 3,
    "start_time": "2022-08-12T08:10:48.648Z"
   },
   {
    "duration": 3,
    "start_time": "2022-08-12T08:10:48.956Z"
   },
   {
    "duration": 4,
    "start_time": "2022-08-12T08:10:49.270Z"
   },
   {
    "duration": 5,
    "start_time": "2022-08-12T08:11:01.056Z"
   },
   {
    "duration": 12,
    "start_time": "2022-08-12T08:11:02.001Z"
   },
   {
    "duration": 9,
    "start_time": "2022-08-12T08:11:02.685Z"
   },
   {
    "duration": 16,
    "start_time": "2022-08-12T08:11:03.101Z"
   },
   {
    "duration": 14,
    "start_time": "2022-08-12T08:11:03.522Z"
   },
   {
    "duration": 9,
    "start_time": "2022-08-12T08:11:03.978Z"
   },
   {
    "duration": 9,
    "start_time": "2022-08-12T08:11:04.425Z"
   },
   {
    "duration": 10,
    "start_time": "2022-08-12T08:11:04.871Z"
   },
   {
    "duration": 3,
    "start_time": "2022-08-12T08:11:05.544Z"
   },
   {
    "duration": 7,
    "start_time": "2022-08-12T08:11:05.800Z"
   },
   {
    "duration": 9,
    "start_time": "2022-08-12T08:11:06.075Z"
   },
   {
    "duration": 838,
    "start_time": "2022-08-12T08:11:06.697Z"
   },
   {
    "duration": 11,
    "start_time": "2022-08-12T08:11:08.208Z"
   },
   {
    "duration": 12,
    "start_time": "2022-08-12T08:11:09.844Z"
   },
   {
    "duration": 10,
    "start_time": "2022-08-12T08:11:10.698Z"
   },
   {
    "duration": 10,
    "start_time": "2022-08-12T08:11:11.750Z"
   },
   {
    "duration": 3,
    "start_time": "2022-08-12T08:11:13.366Z"
   },
   {
    "duration": 3,
    "start_time": "2022-08-12T08:11:13.905Z"
   },
   {
    "duration": 2,
    "start_time": "2022-08-12T08:11:14.679Z"
   },
   {
    "duration": 6,
    "start_time": "2022-08-12T08:11:15.123Z"
   },
   {
    "duration": 4,
    "start_time": "2022-08-12T08:11:15.523Z"
   },
   {
    "duration": 7,
    "start_time": "2022-08-12T08:11:15.922Z"
   },
   {
    "duration": 4,
    "start_time": "2022-08-12T08:11:16.463Z"
   },
   {
    "duration": 11,
    "start_time": "2022-08-12T08:11:16.881Z"
   },
   {
    "duration": 343,
    "start_time": "2022-08-12T08:11:17.797Z"
   },
   {
    "duration": 1072,
    "start_time": "2022-08-12T08:11:19.804Z"
   },
   {
    "duration": 12,
    "start_time": "2022-08-12T08:11:23.350Z"
   },
   {
    "duration": 8,
    "start_time": "2022-08-12T08:11:24.186Z"
   },
   {
    "duration": 10,
    "start_time": "2022-08-12T08:11:24.572Z"
   },
   {
    "duration": 4,
    "start_time": "2022-08-12T08:11:25.228Z"
   },
   {
    "duration": 12,
    "start_time": "2022-08-12T08:11:25.488Z"
   },
   {
    "duration": 18,
    "start_time": "2022-08-12T08:11:28.153Z"
   },
   {
    "duration": 11,
    "start_time": "2022-08-12T08:11:29.138Z"
   },
   {
    "duration": 200,
    "start_time": "2022-08-12T08:11:29.888Z"
   },
   {
    "duration": 19,
    "start_time": "2022-08-12T08:11:41.525Z"
   },
   {
    "duration": 280,
    "start_time": "2022-08-12T08:11:42.402Z"
   },
   {
    "duration": 23,
    "start_time": "2022-08-12T08:11:47.132Z"
   },
   {
    "duration": 25,
    "start_time": "2022-08-12T08:11:53.348Z"
   },
   {
    "duration": 13,
    "start_time": "2022-08-12T08:14:04.562Z"
   },
   {
    "duration": 16,
    "start_time": "2022-08-12T08:15:09.765Z"
   },
   {
    "duration": 17,
    "start_time": "2022-08-12T08:25:24.558Z"
   },
   {
    "duration": 16,
    "start_time": "2022-08-12T08:27:05.040Z"
   },
   {
    "duration": 20,
    "start_time": "2022-08-12T08:28:12.682Z"
   },
   {
    "duration": 20,
    "start_time": "2022-08-12T08:30:15.654Z"
   },
   {
    "duration": 25,
    "start_time": "2022-08-12T08:31:45.045Z"
   },
   {
    "duration": 29,
    "start_time": "2022-08-12T08:32:11.849Z"
   },
   {
    "duration": 29,
    "start_time": "2022-08-12T08:32:35.890Z"
   },
   {
    "duration": 21,
    "start_time": "2022-08-12T08:36:27.558Z"
   },
   {
    "duration": 28,
    "start_time": "2022-08-12T08:38:06.360Z"
   },
   {
    "duration": 3,
    "start_time": "2022-08-12T08:38:35.229Z"
   },
   {
    "duration": 15,
    "start_time": "2022-08-12T08:39:34.580Z"
   },
   {
    "duration": 16,
    "start_time": "2022-08-12T08:39:53.373Z"
   },
   {
    "duration": 16,
    "start_time": "2022-08-12T08:40:06.369Z"
   },
   {
    "duration": 18,
    "start_time": "2022-08-12T08:40:17.146Z"
   },
   {
    "duration": 1069,
    "start_time": "2022-08-12T08:47:23.680Z"
   },
   {
    "duration": 1216,
    "start_time": "2022-08-12T08:48:01.473Z"
   },
   {
    "duration": 1177,
    "start_time": "2022-08-12T08:48:18.367Z"
   },
   {
    "duration": 2167,
    "start_time": "2022-08-12T08:50:00.411Z"
   },
   {
    "duration": 1850,
    "start_time": "2022-08-12T08:51:01.567Z"
   },
   {
    "duration": 1941,
    "start_time": "2022-08-12T08:51:23.059Z"
   },
   {
    "duration": 2022,
    "start_time": "2022-08-12T08:52:15.765Z"
   },
   {
    "duration": 2007,
    "start_time": "2022-08-12T08:52:30.687Z"
   },
   {
    "duration": 2008,
    "start_time": "2022-08-12T08:54:42.966Z"
   },
   {
    "duration": 1013,
    "start_time": "2022-08-12T08:57:26.489Z"
   },
   {
    "duration": 715,
    "start_time": "2022-08-12T08:57:57.436Z"
   },
   {
    "duration": 1065,
    "start_time": "2022-08-12T08:58:02.166Z"
   },
   {
    "duration": 974,
    "start_time": "2022-08-12T08:59:17.504Z"
   },
   {
    "duration": 929,
    "start_time": "2022-08-12T09:00:34.473Z"
   },
   {
    "duration": 632,
    "start_time": "2022-08-12T09:00:59.491Z"
   },
   {
    "duration": 1100,
    "start_time": "2022-08-12T09:01:06.657Z"
   },
   {
    "duration": 563,
    "start_time": "2022-08-12T09:01:18.177Z"
   },
   {
    "duration": 1072,
    "start_time": "2022-08-12T09:01:25.613Z"
   },
   {
    "duration": 911,
    "start_time": "2022-08-12T09:01:44.527Z"
   },
   {
    "duration": 337,
    "start_time": "2022-08-12T09:02:06.035Z"
   },
   {
    "duration": 906,
    "start_time": "2022-08-12T09:07:16.786Z"
   },
   {
    "duration": 22,
    "start_time": "2022-08-12T09:08:31.113Z"
   },
   {
    "duration": 21,
    "start_time": "2022-08-12T09:08:43.357Z"
   },
   {
    "duration": 21,
    "start_time": "2022-08-12T09:09:19.760Z"
   },
   {
    "duration": 20,
    "start_time": "2022-08-12T09:09:58.330Z"
   },
   {
    "duration": 21,
    "start_time": "2022-08-12T09:10:21.566Z"
   },
   {
    "duration": 1884,
    "start_time": "2022-08-12T09:14:55.470Z"
   },
   {
    "duration": 918,
    "start_time": "2022-08-12T09:15:08.236Z"
   },
   {
    "duration": 22,
    "start_time": "2022-08-12T09:16:06.607Z"
   },
   {
    "duration": 22,
    "start_time": "2022-08-12T09:16:14.840Z"
   },
   {
    "duration": 1269,
    "start_time": "2022-08-12T09:23:10.751Z"
   },
   {
    "duration": 946,
    "start_time": "2022-08-12T09:23:25.551Z"
   },
   {
    "duration": 55,
    "start_time": "2022-08-12T09:35:06.038Z"
   },
   {
    "duration": 1447,
    "start_time": "2022-08-12T09:35:12.257Z"
   },
   {
    "duration": 157,
    "start_time": "2022-08-12T09:35:13.706Z"
   },
   {
    "duration": 15,
    "start_time": "2022-08-12T09:35:13.864Z"
   },
   {
    "duration": 12,
    "start_time": "2022-08-12T09:35:13.881Z"
   },
   {
    "duration": 2,
    "start_time": "2022-08-12T09:35:13.895Z"
   },
   {
    "duration": 7,
    "start_time": "2022-08-12T09:35:13.899Z"
   },
   {
    "duration": 4,
    "start_time": "2022-08-12T09:35:14.031Z"
   },
   {
    "duration": 5,
    "start_time": "2022-08-12T09:35:15.058Z"
   },
   {
    "duration": 11,
    "start_time": "2022-08-12T09:35:15.261Z"
   },
   {
    "duration": 10,
    "start_time": "2022-08-12T09:35:15.648Z"
   },
   {
    "duration": 14,
    "start_time": "2022-08-12T09:35:16.020Z"
   },
   {
    "duration": 14,
    "start_time": "2022-08-12T09:35:16.435Z"
   },
   {
    "duration": 10,
    "start_time": "2022-08-12T09:35:16.825Z"
   },
   {
    "duration": 11,
    "start_time": "2022-08-12T09:35:17.165Z"
   },
   {
    "duration": 12,
    "start_time": "2022-08-12T09:35:17.490Z"
   },
   {
    "duration": 3,
    "start_time": "2022-08-12T09:35:18.021Z"
   },
   {
    "duration": 7,
    "start_time": "2022-08-12T09:35:18.184Z"
   },
   {
    "duration": 7,
    "start_time": "2022-08-12T09:35:18.335Z"
   },
   {
    "duration": 840,
    "start_time": "2022-08-12T09:35:18.687Z"
   },
   {
    "duration": 12,
    "start_time": "2022-08-12T09:35:19.529Z"
   },
   {
    "duration": 11,
    "start_time": "2022-08-12T09:35:20.160Z"
   },
   {
    "duration": 10,
    "start_time": "2022-08-12T09:35:20.824Z"
   },
   {
    "duration": 11,
    "start_time": "2022-08-12T09:35:21.392Z"
   },
   {
    "duration": 3,
    "start_time": "2022-08-12T09:35:22.268Z"
   },
   {
    "duration": 2,
    "start_time": "2022-08-12T09:35:22.574Z"
   },
   {
    "duration": 2,
    "start_time": "2022-08-12T09:35:22.950Z"
   },
   {
    "duration": 5,
    "start_time": "2022-08-12T09:35:23.284Z"
   },
   {
    "duration": 4,
    "start_time": "2022-08-12T09:35:23.625Z"
   },
   {
    "duration": 7,
    "start_time": "2022-08-12T09:35:23.964Z"
   },
   {
    "duration": 4,
    "start_time": "2022-08-12T09:35:24.421Z"
   },
   {
    "duration": 11,
    "start_time": "2022-08-12T09:35:24.897Z"
   },
   {
    "duration": 316,
    "start_time": "2022-08-12T09:35:25.970Z"
   },
   {
    "duration": 1116,
    "start_time": "2022-08-12T09:35:27.424Z"
   },
   {
    "duration": 11,
    "start_time": "2022-08-12T09:35:28.543Z"
   },
   {
    "duration": 9,
    "start_time": "2022-08-12T09:35:28.737Z"
   },
   {
    "duration": 10,
    "start_time": "2022-08-12T09:35:29.141Z"
   },
   {
    "duration": 3,
    "start_time": "2022-08-12T09:35:29.823Z"
   },
   {
    "duration": 12,
    "start_time": "2022-08-12T09:35:30.175Z"
   },
   {
    "duration": 18,
    "start_time": "2022-08-12T09:35:31.503Z"
   },
   {
    "duration": 13,
    "start_time": "2022-08-12T09:35:32.266Z"
   },
   {
    "duration": 213,
    "start_time": "2022-08-12T09:35:33.180Z"
   },
   {
    "duration": 25,
    "start_time": "2022-08-12T09:35:40.178Z"
   },
   {
    "duration": 255,
    "start_time": "2022-08-12T09:35:50.351Z"
   },
   {
    "duration": 19,
    "start_time": "2022-08-12T09:35:51.653Z"
   },
   {
    "duration": 25,
    "start_time": "2022-08-12T09:35:55.481Z"
   },
   {
    "duration": 15,
    "start_time": "2022-08-12T09:35:59.794Z"
   },
   {
    "duration": 925,
    "start_time": "2022-08-12T09:36:01.236Z"
   },
   {
    "duration": 21,
    "start_time": "2022-08-12T09:36:11.375Z"
   },
   {
    "duration": 1053,
    "start_time": "2022-08-12T09:38:41.832Z"
   },
   {
    "duration": 816,
    "start_time": "2022-08-12T09:39:47.967Z"
   },
   {
    "duration": 752,
    "start_time": "2022-08-12T09:40:36.302Z"
   },
   {
    "duration": 784,
    "start_time": "2022-08-12T09:40:51.557Z"
   },
   {
    "duration": 1377,
    "start_time": "2022-08-12T09:41:37.538Z"
   },
   {
    "duration": 1281,
    "start_time": "2022-08-12T09:42:25.749Z"
   },
   {
    "duration": 1321,
    "start_time": "2022-08-12T09:42:59.220Z"
   },
   {
    "duration": 4177,
    "start_time": "2022-08-12T09:43:18.883Z"
   },
   {
    "duration": 565,
    "start_time": "2022-08-12T09:45:04.000Z"
   },
   {
    "duration": 332,
    "start_time": "2022-08-12T09:45:38.109Z"
   },
   {
    "duration": 412,
    "start_time": "2022-08-12T09:45:47.567Z"
   },
   {
    "duration": 26,
    "start_time": "2022-08-12T09:46:07.547Z"
   },
   {
    "duration": 960,
    "start_time": "2022-08-12T09:53:05.570Z"
   },
   {
    "duration": 975,
    "start_time": "2022-08-12T09:54:01.488Z"
   },
   {
    "duration": 1031,
    "start_time": "2022-08-12T09:54:30.383Z"
   },
   {
    "duration": 681,
    "start_time": "2022-08-12T09:54:42.059Z"
   },
   {
    "duration": 14,
    "start_time": "2022-08-12T09:55:10.496Z"
   },
   {
    "duration": 690,
    "start_time": "2022-08-12T09:55:46.219Z"
   },
   {
    "duration": 860,
    "start_time": "2022-08-12T09:55:57.832Z"
   },
   {
    "duration": 27,
    "start_time": "2022-08-12T10:04:21.321Z"
   },
   {
    "duration": 3291,
    "start_time": "2022-08-12T10:05:58.322Z"
   },
   {
    "duration": 28,
    "start_time": "2022-08-12T10:06:01.615Z"
   },
   {
    "duration": 3,
    "start_time": "2022-08-12T10:06:16.026Z"
   },
   {
    "duration": 4,
    "start_time": "2022-08-12T10:06:16.928Z"
   },
   {
    "duration": 40,
    "start_time": "2022-08-12T10:06:17.668Z"
   },
   {
    "duration": 11,
    "start_time": "2022-08-12T10:06:18.134Z"
   },
   {
    "duration": 14,
    "start_time": "2022-08-12T10:06:18.422Z"
   },
   {
    "duration": 3,
    "start_time": "2022-08-12T10:06:18.666Z"
   },
   {
    "duration": 3,
    "start_time": "2022-08-12T10:06:18.880Z"
   },
   {
    "duration": 3,
    "start_time": "2022-08-12T10:06:19.080Z"
   },
   {
    "duration": 7,
    "start_time": "2022-08-12T10:06:20.061Z"
   },
   {
    "duration": 12,
    "start_time": "2022-08-12T10:06:20.240Z"
   },
   {
    "duration": 9,
    "start_time": "2022-08-12T10:06:20.630Z"
   },
   {
    "duration": 16,
    "start_time": "2022-08-12T10:06:21.002Z"
   },
   {
    "duration": 14,
    "start_time": "2022-08-12T10:06:21.422Z"
   },
   {
    "duration": 10,
    "start_time": "2022-08-12T10:06:21.839Z"
   },
   {
    "duration": 10,
    "start_time": "2022-08-12T10:06:22.269Z"
   },
   {
    "duration": 12,
    "start_time": "2022-08-12T10:06:22.656Z"
   },
   {
    "duration": 3,
    "start_time": "2022-08-12T10:06:23.294Z"
   },
   {
    "duration": 10,
    "start_time": "2022-08-12T10:06:23.561Z"
   },
   {
    "duration": 11,
    "start_time": "2022-08-12T10:06:23.824Z"
   },
   {
    "duration": 925,
    "start_time": "2022-08-12T10:06:24.502Z"
   },
   {
    "duration": 14,
    "start_time": "2022-08-12T10:06:25.429Z"
   },
   {
    "duration": 13,
    "start_time": "2022-08-12T10:06:25.844Z"
   },
   {
    "duration": 16,
    "start_time": "2022-08-12T10:06:26.293Z"
   },
   {
    "duration": 12,
    "start_time": "2022-08-12T10:06:26.753Z"
   },
   {
    "duration": 3,
    "start_time": "2022-08-12T10:06:27.474Z"
   },
   {
    "duration": 2,
    "start_time": "2022-08-12T10:06:27.742Z"
   },
   {
    "duration": 3,
    "start_time": "2022-08-12T10:06:28.169Z"
   },
   {
    "duration": 5,
    "start_time": "2022-08-12T10:06:28.427Z"
   },
   {
    "duration": 4,
    "start_time": "2022-08-12T10:06:28.647Z"
   },
   {
    "duration": 6,
    "start_time": "2022-08-12T10:06:28.874Z"
   },
   {
    "duration": 4,
    "start_time": "2022-08-12T10:06:29.154Z"
   },
   {
    "duration": 12,
    "start_time": "2022-08-12T10:06:29.407Z"
   },
   {
    "duration": 504,
    "start_time": "2022-08-12T10:06:30.129Z"
   },
   {
    "duration": 1148,
    "start_time": "2022-08-12T10:06:31.722Z"
   },
   {
    "duration": 15,
    "start_time": "2022-08-12T10:06:32.873Z"
   },
   {
    "duration": 9,
    "start_time": "2022-08-12T10:06:33.184Z"
   },
   {
    "duration": 10,
    "start_time": "2022-08-12T10:06:33.620Z"
   },
   {
    "duration": 5,
    "start_time": "2022-08-12T10:06:34.224Z"
   },
   {
    "duration": 16,
    "start_time": "2022-08-12T10:06:34.586Z"
   },
   {
    "duration": 27,
    "start_time": "2022-08-12T10:06:36.391Z"
   },
   {
    "duration": 19,
    "start_time": "2022-08-12T10:06:37.157Z"
   },
   {
    "duration": 208,
    "start_time": "2022-08-12T10:06:38.210Z"
   },
   {
    "duration": 20,
    "start_time": "2022-08-12T10:06:39.829Z"
   },
   {
    "duration": 349,
    "start_time": "2022-08-12T10:06:40.374Z"
   },
   {
    "duration": 19,
    "start_time": "2022-08-12T10:06:46.749Z"
   },
   {
    "duration": 28,
    "start_time": "2022-08-12T10:06:48.037Z"
   },
   {
    "duration": 17,
    "start_time": "2022-08-12T10:06:55.067Z"
   },
   {
    "duration": 1179,
    "start_time": "2022-08-12T10:06:56.365Z"
   },
   {
    "duration": 23,
    "start_time": "2022-08-12T10:06:58.321Z"
   },
   {
    "duration": 534,
    "start_time": "2022-08-12T10:07:27.830Z"
   },
   {
    "duration": 388,
    "start_time": "2022-08-12T10:13:05.607Z"
   },
   {
    "duration": 1562,
    "start_time": "2022-08-12T10:13:30.531Z"
   },
   {
    "duration": 400,
    "start_time": "2022-08-12T10:15:12.222Z"
   },
   {
    "duration": 1415,
    "start_time": "2022-08-12T10:15:20.871Z"
   },
   {
    "duration": 18,
    "start_time": "2022-08-12T10:21:09.304Z"
   },
   {
    "duration": 18,
    "start_time": "2022-08-12T10:24:28.118Z"
   },
   {
    "duration": 845,
    "start_time": "2022-08-12T10:24:49.040Z"
   },
   {
    "duration": 871,
    "start_time": "2022-08-12T10:26:43.725Z"
   },
   {
    "duration": 125,
    "start_time": "2022-08-12T10:27:04.277Z"
   },
   {
    "duration": 1087,
    "start_time": "2022-08-12T10:27:51.240Z"
   },
   {
    "duration": 807,
    "start_time": "2022-08-12T10:34:43.254Z"
   },
   {
    "duration": 19,
    "start_time": "2022-08-12T10:35:52.266Z"
   },
   {
    "duration": 20,
    "start_time": "2022-08-12T10:36:48.466Z"
   },
   {
    "duration": 16,
    "start_time": "2022-08-12T10:37:39.224Z"
   },
   {
    "duration": 1073,
    "start_time": "2022-08-12T10:37:56.048Z"
   },
   {
    "duration": 23,
    "start_time": "2022-08-12T10:38:00.211Z"
   },
   {
    "duration": 236,
    "start_time": "2022-08-12T10:39:42.643Z"
   },
   {
    "duration": 21,
    "start_time": "2022-08-12T10:42:43.801Z"
   },
   {
    "duration": 21,
    "start_time": "2022-08-12T10:43:25.025Z"
   },
   {
    "duration": 21,
    "start_time": "2022-08-12T10:45:27.640Z"
   },
   {
    "duration": 186,
    "start_time": "2022-08-12T10:45:28.411Z"
   },
   {
    "duration": 19,
    "start_time": "2022-08-12T10:45:33.314Z"
   },
   {
    "duration": 1121,
    "start_time": "2022-08-12T11:27:10.173Z"
   },
   {
    "duration": 593,
    "start_time": "2022-08-12T11:28:12.925Z"
   },
   {
    "duration": 1086,
    "start_time": "2022-08-12T11:28:20.122Z"
   },
   {
    "duration": 1314,
    "start_time": "2022-08-12T11:29:12.663Z"
   },
   {
    "duration": 1120,
    "start_time": "2022-08-12T11:29:49.625Z"
   },
   {
    "duration": 22,
    "start_time": "2022-08-12T11:32:23.253Z"
   },
   {
    "duration": 22,
    "start_time": "2022-08-12T11:33:21.980Z"
   },
   {
    "duration": 25,
    "start_time": "2022-08-12T11:34:06.009Z"
   },
   {
    "duration": 21,
    "start_time": "2022-08-12T11:34:41.342Z"
   },
   {
    "duration": 19,
    "start_time": "2022-08-12T11:34:42.251Z"
   },
   {
    "duration": 1023,
    "start_time": "2022-08-12T11:41:24.678Z"
   },
   {
    "duration": 24,
    "start_time": "2022-08-12T11:52:00.720Z"
   },
   {
    "duration": 20,
    "start_time": "2022-08-12T11:52:57.627Z"
   },
   {
    "duration": 21,
    "start_time": "2022-08-12T11:57:16.833Z"
   },
   {
    "duration": 20,
    "start_time": "2022-08-12T11:57:20.274Z"
   },
   {
    "duration": 15,
    "start_time": "2022-08-12T12:30:01.771Z"
   },
   {
    "duration": 1111,
    "start_time": "2022-08-12T12:30:03.487Z"
   },
   {
    "duration": 22,
    "start_time": "2022-08-12T12:30:04.600Z"
   },
   {
    "duration": 22,
    "start_time": "2022-08-12T12:30:04.754Z"
   },
   {
    "duration": 21,
    "start_time": "2022-08-12T12:30:05.832Z"
   },
   {
    "duration": 0,
    "start_time": "2022-08-12T12:31:54.634Z"
   },
   {
    "duration": 1089,
    "start_time": "2022-08-12T12:32:03.910Z"
   },
   {
    "duration": 3,
    "start_time": "2022-08-12T12:36:24.686Z"
   },
   {
    "duration": 1492,
    "start_time": "2022-08-12T12:36:25.285Z"
   },
   {
    "duration": 149,
    "start_time": "2022-08-12T12:36:26.778Z"
   },
   {
    "duration": 14,
    "start_time": "2022-08-12T12:36:26.929Z"
   },
   {
    "duration": 10,
    "start_time": "2022-08-12T12:36:26.945Z"
   },
   {
    "duration": 2,
    "start_time": "2022-08-12T12:36:26.982Z"
   },
   {
    "duration": 3,
    "start_time": "2022-08-12T12:36:29.198Z"
   },
   {
    "duration": 4,
    "start_time": "2022-08-12T12:36:29.527Z"
   },
   {
    "duration": 5,
    "start_time": "2022-08-12T12:36:31.256Z"
   },
   {
    "duration": 11,
    "start_time": "2022-08-12T12:36:31.584Z"
   },
   {
    "duration": 10,
    "start_time": "2022-08-12T12:36:32.847Z"
   },
   {
    "duration": 16,
    "start_time": "2022-08-12T12:36:33.565Z"
   },
   {
    "duration": 15,
    "start_time": "2022-08-12T12:36:34.181Z"
   },
   {
    "duration": 11,
    "start_time": "2022-08-12T12:36:34.693Z"
   },
   {
    "duration": 10,
    "start_time": "2022-08-12T12:36:35.200Z"
   },
   {
    "duration": 12,
    "start_time": "2022-08-12T12:36:35.717Z"
   },
   {
    "duration": 4,
    "start_time": "2022-08-12T12:36:36.378Z"
   },
   {
    "duration": 8,
    "start_time": "2022-08-12T12:36:36.614Z"
   },
   {
    "duration": 8,
    "start_time": "2022-08-12T12:36:36.839Z"
   },
   {
    "duration": 895,
    "start_time": "2022-08-12T12:36:37.350Z"
   },
   {
    "duration": 13,
    "start_time": "2022-08-12T12:36:44.656Z"
   },
   {
    "duration": 11,
    "start_time": "2022-08-12T12:36:45.166Z"
   },
   {
    "duration": 12,
    "start_time": "2022-08-12T12:36:45.637Z"
   },
   {
    "duration": 14,
    "start_time": "2022-08-12T12:36:46.114Z"
   },
   {
    "duration": 2,
    "start_time": "2022-08-12T12:36:46.875Z"
   },
   {
    "duration": 2,
    "start_time": "2022-08-12T12:36:47.200Z"
   },
   {
    "duration": 3,
    "start_time": "2022-08-12T12:36:47.540Z"
   },
   {
    "duration": 5,
    "start_time": "2022-08-12T12:36:47.821Z"
   },
   {
    "duration": 4,
    "start_time": "2022-08-12T12:36:48.087Z"
   },
   {
    "duration": 8,
    "start_time": "2022-08-12T12:36:48.388Z"
   },
   {
    "duration": 4,
    "start_time": "2022-08-12T12:36:48.694Z"
   },
   {
    "duration": 11,
    "start_time": "2022-08-12T12:36:49.093Z"
   },
   {
    "duration": 247,
    "start_time": "2022-08-12T12:36:49.828Z"
   },
   {
    "duration": 1304,
    "start_time": "2022-08-12T12:36:51.016Z"
   },
   {
    "duration": 14,
    "start_time": "2022-08-12T12:36:52.322Z"
   },
   {
    "duration": 9,
    "start_time": "2022-08-12T12:36:52.415Z"
   },
   {
    "duration": 11,
    "start_time": "2022-08-12T12:36:52.723Z"
   },
   {
    "duration": 5,
    "start_time": "2022-08-12T12:36:53.419Z"
   },
   {
    "duration": 11,
    "start_time": "2022-08-12T12:36:53.768Z"
   },
   {
    "duration": 18,
    "start_time": "2022-08-12T12:36:55.240Z"
   },
   {
    "duration": 15,
    "start_time": "2022-08-12T12:36:56.022Z"
   },
   {
    "duration": 192,
    "start_time": "2022-08-12T12:36:56.826Z"
   },
   {
    "duration": 20,
    "start_time": "2022-08-12T12:36:58.287Z"
   },
   {
    "duration": 262,
    "start_time": "2022-08-12T12:36:58.644Z"
   },
   {
    "duration": 930,
    "start_time": "2022-08-12T12:36:59.796Z"
   },
   {
    "duration": 14,
    "start_time": "2022-08-12T12:37:07.515Z"
   },
   {
    "duration": 1012,
    "start_time": "2022-08-12T12:37:08.436Z"
   },
   {
    "duration": 21,
    "start_time": "2022-08-12T12:37:10.524Z"
   },
   {
    "duration": 19,
    "start_time": "2022-08-12T12:37:12.095Z"
   },
   {
    "duration": 19,
    "start_time": "2022-08-12T12:37:16.320Z"
   },
   {
    "duration": 187,
    "start_time": "2022-08-12T12:39:07.192Z"
   },
   {
    "duration": 109173,
    "start_time": "2022-08-12T12:40:12.677Z"
   },
   {
    "duration": 5807,
    "start_time": "2022-08-12T12:42:08.004Z"
   },
   {
    "duration": 2095,
    "start_time": "2022-08-12T12:42:18.460Z"
   },
   {
    "duration": 1299,
    "start_time": "2022-08-12T12:42:57.096Z"
   },
   {
    "duration": 1571,
    "start_time": "2022-08-12T12:44:07.665Z"
   },
   {
    "duration": 1565,
    "start_time": "2022-08-12T12:46:42.282Z"
   },
   {
    "duration": 1360,
    "start_time": "2022-08-12T12:49:32.346Z"
   },
   {
    "duration": 678,
    "start_time": "2022-08-12T12:50:29.984Z"
   },
   {
    "duration": 1508,
    "start_time": "2022-08-12T12:50:39.194Z"
   },
   {
    "duration": 1420,
    "start_time": "2022-08-12T12:50:52.496Z"
   },
   {
    "duration": 98,
    "start_time": "2022-08-12T13:05:32.393Z"
   },
   {
    "duration": 1285,
    "start_time": "2022-08-12T13:05:37.149Z"
   },
   {
    "duration": 26,
    "start_time": "2022-08-12T13:06:26.048Z"
   },
   {
    "duration": 92,
    "start_time": "2022-08-12T13:07:00.616Z"
   },
   {
    "duration": 19,
    "start_time": "2022-08-12T13:07:12.725Z"
   },
   {
    "duration": 20,
    "start_time": "2022-08-12T13:07:49.528Z"
   },
   {
    "duration": 21,
    "start_time": "2022-08-12T13:08:21.681Z"
   },
   {
    "duration": 318,
    "start_time": "2022-08-12T13:08:41.702Z"
   },
   {
    "duration": 313,
    "start_time": "2022-08-12T13:08:53.193Z"
   },
   {
    "duration": 21,
    "start_time": "2022-08-12T13:09:31.991Z"
   },
   {
    "duration": 20,
    "start_time": "2022-08-12T13:10:36.680Z"
   },
   {
    "duration": 29,
    "start_time": "2022-08-12T13:11:20.790Z"
   },
   {
    "duration": 18,
    "start_time": "2022-08-12T13:12:07.988Z"
   },
   {
    "duration": 14,
    "start_time": "2022-08-12T13:14:17.923Z"
   },
   {
    "duration": 1111,
    "start_time": "2022-08-12T13:14:18.745Z"
   },
   {
    "duration": 23,
    "start_time": "2022-08-12T13:14:19.858Z"
   },
   {
    "duration": 34,
    "start_time": "2022-08-12T13:14:19.882Z"
   },
   {
    "duration": 22,
    "start_time": "2022-08-12T13:14:20.316Z"
   },
   {
    "duration": 1402,
    "start_time": "2022-08-12T13:14:21.165Z"
   },
   {
    "duration": 19,
    "start_time": "2022-08-12T13:14:22.569Z"
   },
   {
    "duration": 19,
    "start_time": "2022-08-12T13:15:39.796Z"
   },
   {
    "duration": 17,
    "start_time": "2022-08-12T13:16:37.907Z"
   },
   {
    "duration": 2164,
    "start_time": "2022-08-12T13:18:59.915Z"
   },
   {
    "duration": 16,
    "start_time": "2022-08-12T13:19:34.968Z"
   },
   {
    "duration": 23,
    "start_time": "2022-08-12T13:19:54.524Z"
   },
   {
    "duration": 14,
    "start_time": "2022-08-12T13:20:10.817Z"
   },
   {
    "duration": 18,
    "start_time": "2022-08-12T13:20:52.458Z"
   },
   {
    "duration": 16,
    "start_time": "2022-08-12T13:21:15.591Z"
   },
   {
    "duration": 15,
    "start_time": "2022-08-12T13:22:55.641Z"
   },
   {
    "duration": 728,
    "start_time": "2022-08-12T13:28:00.189Z"
   },
   {
    "duration": 502,
    "start_time": "2022-08-12T13:28:17.166Z"
   },
   {
    "duration": 15,
    "start_time": "2022-08-12T13:28:46.366Z"
   },
   {
    "duration": 866,
    "start_time": "2022-08-12T13:28:52.994Z"
   },
   {
    "duration": 1156,
    "start_time": "2022-08-12T13:29:37.038Z"
   },
   {
    "duration": 1092,
    "start_time": "2022-08-12T13:30:12.604Z"
   },
   {
    "duration": 988,
    "start_time": "2022-08-12T13:30:38.495Z"
   },
   {
    "duration": 1025,
    "start_time": "2022-08-12T13:31:09.130Z"
   },
   {
    "duration": 1841,
    "start_time": "2022-08-12T13:31:42.915Z"
   },
   {
    "duration": 964,
    "start_time": "2022-08-12T13:32:18.160Z"
   },
   {
    "duration": 1009,
    "start_time": "2022-08-12T13:33:16.364Z"
   },
   {
    "duration": 23,
    "start_time": "2022-08-12T13:36:26.590Z"
   },
   {
    "duration": 37,
    "start_time": "2022-08-12T13:37:26.212Z"
   },
   {
    "duration": 942,
    "start_time": "2022-08-12T13:38:26.064Z"
   },
   {
    "duration": 13,
    "start_time": "2022-08-12T13:39:52.358Z"
   },
   {
    "duration": 6,
    "start_time": "2022-08-12T13:41:13.395Z"
   },
   {
    "duration": 176,
    "start_time": "2022-08-12T13:41:22.281Z"
   },
   {
    "duration": 234,
    "start_time": "2022-08-12T13:41:35.204Z"
   },
   {
    "duration": 257,
    "start_time": "2022-08-12T13:42:25.935Z"
   },
   {
    "duration": 15,
    "start_time": "2022-08-12T13:43:19.965Z"
   },
   {
    "duration": 219,
    "start_time": "2022-08-12T13:43:28.670Z"
   },
   {
    "duration": 599,
    "start_time": "2022-08-12T13:45:20.012Z"
   },
   {
    "duration": 1220,
    "start_time": "2022-08-12T13:45:30.883Z"
   },
   {
    "duration": 91,
    "start_time": "2022-08-12T13:46:11.293Z"
   },
   {
    "duration": 1123,
    "start_time": "2022-08-12T13:46:14.811Z"
   },
   {
    "duration": 1454,
    "start_time": "2022-08-12T13:46:49.462Z"
   },
   {
    "duration": 1397,
    "start_time": "2022-08-12T13:50:32.908Z"
   },
   {
    "duration": 1320,
    "start_time": "2022-08-12T13:54:16.221Z"
   },
   {
    "duration": 1485,
    "start_time": "2022-08-12T13:55:59.592Z"
   },
   {
    "duration": 1428,
    "start_time": "2022-08-12T13:56:13.562Z"
   },
   {
    "duration": 6875,
    "start_time": "2022-08-12T13:57:23.368Z"
   },
   {
    "duration": 1657,
    "start_time": "2022-08-12T13:58:47.616Z"
   },
   {
    "duration": 1228,
    "start_time": "2022-08-12T14:00:21.591Z"
   },
   {
    "duration": 1161,
    "start_time": "2022-08-12T14:01:53.728Z"
   },
   {
    "duration": 849,
    "start_time": "2022-08-12T14:15:21.754Z"
   },
   {
    "duration": 1202,
    "start_time": "2022-08-12T14:15:50.048Z"
   },
   {
    "duration": 28,
    "start_time": "2022-08-12T14:29:04.627Z"
   },
   {
    "duration": 33,
    "start_time": "2022-08-12T14:30:16.547Z"
   },
   {
    "duration": 29,
    "start_time": "2022-08-12T14:49:31.940Z"
   },
   {
    "duration": 3,
    "start_time": "2022-08-13T04:42:00.802Z"
   },
   {
    "duration": 1447,
    "start_time": "2022-08-13T04:42:01.341Z"
   },
   {
    "duration": 0,
    "start_time": "2022-08-13T04:42:02.789Z"
   },
   {
    "duration": 8,
    "start_time": "2022-08-13T04:42:03.372Z"
   },
   {
    "duration": 3,
    "start_time": "2022-08-13T04:42:17.747Z"
   },
   {
    "duration": 78,
    "start_time": "2022-08-13T04:42:19.714Z"
   },
   {
    "duration": 14,
    "start_time": "2022-08-13T04:42:21.166Z"
   },
   {
    "duration": 10,
    "start_time": "2022-08-13T04:42:22.461Z"
   },
   {
    "duration": 3,
    "start_time": "2022-08-13T04:42:23.016Z"
   },
   {
    "duration": 3,
    "start_time": "2022-08-13T04:42:23.481Z"
   },
   {
    "duration": 3,
    "start_time": "2022-08-13T04:42:23.912Z"
   },
   {
    "duration": 5,
    "start_time": "2022-08-13T04:42:26.078Z"
   },
   {
    "duration": 10,
    "start_time": "2022-08-13T04:42:26.752Z"
   },
   {
    "duration": 9,
    "start_time": "2022-08-13T04:42:27.307Z"
   },
   {
    "duration": 13,
    "start_time": "2022-08-13T04:42:27.772Z"
   },
   {
    "duration": 12,
    "start_time": "2022-08-13T04:42:28.282Z"
   },
   {
    "duration": 9,
    "start_time": "2022-08-13T04:42:28.793Z"
   },
   {
    "duration": 9,
    "start_time": "2022-08-13T04:42:29.357Z"
   },
   {
    "duration": 10,
    "start_time": "2022-08-13T04:42:30.051Z"
   },
   {
    "duration": 3,
    "start_time": "2022-08-13T04:42:31.201Z"
   },
   {
    "duration": 6,
    "start_time": "2022-08-13T04:42:31.688Z"
   },
   {
    "duration": 7,
    "start_time": "2022-08-13T04:42:32.147Z"
   },
   {
    "duration": 799,
    "start_time": "2022-08-13T04:42:33.490Z"
   },
   {
    "duration": 11,
    "start_time": "2022-08-13T04:42:35.932Z"
   },
   {
    "duration": 9,
    "start_time": "2022-08-13T04:42:36.966Z"
   },
   {
    "duration": 9,
    "start_time": "2022-08-13T04:42:37.857Z"
   },
   {
    "duration": 9,
    "start_time": "2022-08-13T04:42:38.837Z"
   },
   {
    "duration": 3,
    "start_time": "2022-08-13T04:42:40.048Z"
   },
   {
    "duration": 2,
    "start_time": "2022-08-13T04:42:40.869Z"
   },
   {
    "duration": 2,
    "start_time": "2022-08-13T04:42:41.282Z"
   },
   {
    "duration": 5,
    "start_time": "2022-08-13T04:42:41.679Z"
   },
   {
    "duration": 4,
    "start_time": "2022-08-13T04:42:42.146Z"
   },
   {
    "duration": 6,
    "start_time": "2022-08-13T04:42:42.597Z"
   },
   {
    "duration": 3,
    "start_time": "2022-08-13T04:42:45.920Z"
   },
   {
    "duration": 9,
    "start_time": "2022-08-13T04:42:46.841Z"
   },
   {
    "duration": 222,
    "start_time": "2022-08-13T04:42:48.867Z"
   },
   {
    "duration": 952,
    "start_time": "2022-08-13T04:42:51.237Z"
   },
   {
    "duration": 11,
    "start_time": "2022-08-13T04:43:07.299Z"
   },
   {
    "duration": 9,
    "start_time": "2022-08-13T04:43:08.839Z"
   },
   {
    "duration": 9,
    "start_time": "2022-08-13T04:43:09.404Z"
   },
   {
    "duration": 4,
    "start_time": "2022-08-13T04:43:10.342Z"
   },
   {
    "duration": 10,
    "start_time": "2022-08-13T04:43:10.753Z"
   },
   {
    "duration": 16,
    "start_time": "2022-08-13T04:43:14.721Z"
   },
   {
    "duration": 10,
    "start_time": "2022-08-13T04:43:15.980Z"
   },
   {
    "duration": 176,
    "start_time": "2022-08-13T04:43:17.051Z"
   },
   {
    "duration": 17,
    "start_time": "2022-08-13T04:43:21.896Z"
   },
   {
    "duration": 267,
    "start_time": "2022-08-13T04:43:22.784Z"
   },
   {
    "duration": 794,
    "start_time": "2022-08-13T04:43:29.384Z"
   },
   {
    "duration": 13,
    "start_time": "2022-08-13T04:44:03.838Z"
   },
   {
    "duration": 954,
    "start_time": "2022-08-13T04:44:05.421Z"
   },
   {
    "duration": 19,
    "start_time": "2022-08-13T04:44:21.883Z"
   },
   {
    "duration": 18,
    "start_time": "2022-08-13T04:44:31.498Z"
   },
   {
    "duration": 17,
    "start_time": "2022-08-13T04:44:33.272Z"
   },
   {
    "duration": 1175,
    "start_time": "2022-08-13T04:44:38.662Z"
   },
   {
    "duration": 17,
    "start_time": "2022-08-13T04:44:53.901Z"
   },
   {
    "duration": 12,
    "start_time": "2022-08-13T04:45:00.797Z"
   },
   {
    "duration": 825,
    "start_time": "2022-08-13T04:45:07.474Z"
   },
   {
    "duration": 24,
    "start_time": "2022-08-13T04:45:12.360Z"
   },
   {
    "duration": 16,
    "start_time": "2022-08-13T04:49:12.073Z"
   },
   {
    "duration": 15,
    "start_time": "2022-08-13T04:50:10.722Z"
   },
   {
    "duration": 18,
    "start_time": "2022-08-13T04:53:30.608Z"
   },
   {
    "duration": 6,
    "start_time": "2022-08-13T04:56:41.802Z"
   },
   {
    "duration": 60,
    "start_time": "2022-08-13T04:57:25.542Z"
   },
   {
    "duration": 6,
    "start_time": "2022-08-13T04:57:49.732Z"
   },
   {
    "duration": 6,
    "start_time": "2022-08-13T04:58:00.324Z"
   },
   {
    "duration": 8,
    "start_time": "2022-08-13T04:58:23.638Z"
   },
   {
    "duration": 8,
    "start_time": "2022-08-13T04:58:42.581Z"
   },
   {
    "duration": 8,
    "start_time": "2022-08-13T04:58:51.566Z"
   },
   {
    "duration": 9,
    "start_time": "2022-08-13T04:59:39.227Z"
   },
   {
    "duration": 7,
    "start_time": "2022-08-13T05:00:32.446Z"
   },
   {
    "duration": 11,
    "start_time": "2022-08-13T05:00:37.881Z"
   },
   {
    "duration": 6,
    "start_time": "2022-08-13T05:01:03.322Z"
   },
   {
    "duration": 5,
    "start_time": "2022-08-13T05:01:07.677Z"
   },
   {
    "duration": 1314,
    "start_time": "2022-08-13T05:01:25.597Z"
   },
   {
    "duration": 13,
    "start_time": "2022-08-13T05:02:40.381Z"
   },
   {
    "duration": 13,
    "start_time": "2022-08-13T05:03:20.913Z"
   },
   {
    "duration": 10,
    "start_time": "2022-08-13T05:04:27.483Z"
   },
   {
    "duration": 9,
    "start_time": "2022-08-13T05:05:16.596Z"
   },
   {
    "duration": 3,
    "start_time": "2022-08-13T05:05:30.903Z"
   },
   {
    "duration": 10,
    "start_time": "2022-08-13T05:05:36.313Z"
   },
   {
    "duration": 7,
    "start_time": "2022-08-13T05:05:43.515Z"
   },
   {
    "duration": 6,
    "start_time": "2022-08-13T05:05:44.135Z"
   },
   {
    "duration": 9,
    "start_time": "2022-08-13T05:05:45.151Z"
   },
   {
    "duration": 9,
    "start_time": "2022-08-13T05:07:15.533Z"
   },
   {
    "duration": 4,
    "start_time": "2022-08-13T05:07:46.737Z"
   },
   {
    "duration": 7,
    "start_time": "2022-08-13T05:11:38.162Z"
   },
   {
    "duration": 4,
    "start_time": "2022-08-13T05:11:58.245Z"
   },
   {
    "duration": 4,
    "start_time": "2022-08-13T05:12:11.795Z"
   },
   {
    "duration": 9,
    "start_time": "2022-08-13T05:12:41.575Z"
   },
   {
    "duration": 5,
    "start_time": "2022-08-13T05:12:42.048Z"
   },
   {
    "duration": 8,
    "start_time": "2022-08-13T05:12:42.715Z"
   },
   {
    "duration": 116,
    "start_time": "2022-08-13T05:13:46.233Z"
   },
   {
    "duration": 140,
    "start_time": "2022-08-13T05:15:19.906Z"
   },
   {
    "duration": 119,
    "start_time": "2022-08-13T05:16:48.390Z"
   },
   {
    "duration": 14,
    "start_time": "2022-08-13T05:20:00.102Z"
   },
   {
    "duration": 4,
    "start_time": "2022-08-13T05:20:01.142Z"
   },
   {
    "duration": 9,
    "start_time": "2022-08-13T05:20:01.981Z"
   },
   {
    "duration": 207,
    "start_time": "2022-08-13T05:20:02.986Z"
   },
   {
    "duration": 8,
    "start_time": "2022-08-13T05:20:52.094Z"
   },
   {
    "duration": 122,
    "start_time": "2022-08-13T05:25:11.165Z"
   },
   {
    "duration": 48,
    "start_time": "2022-08-13T05:26:38.643Z"
   },
   {
    "duration": 123,
    "start_time": "2022-08-13T05:26:42.356Z"
   },
   {
    "duration": 103,
    "start_time": "2022-08-13T05:26:49.707Z"
   },
   {
    "duration": 123,
    "start_time": "2022-08-13T05:26:55.602Z"
   },
   {
    "duration": 114,
    "start_time": "2022-08-13T05:27:08.172Z"
   },
   {
    "duration": 116,
    "start_time": "2022-08-13T05:27:30.553Z"
   },
   {
    "duration": 142,
    "start_time": "2022-08-13T05:28:06.675Z"
   },
   {
    "duration": 202,
    "start_time": "2022-08-13T05:28:34.298Z"
   },
   {
    "duration": 149,
    "start_time": "2022-08-13T05:28:38.955Z"
   },
   {
    "duration": 10,
    "start_time": "2022-08-13T06:05:36.013Z"
   },
   {
    "duration": 5,
    "start_time": "2022-08-13T06:06:16.248Z"
   },
   {
    "duration": 262,
    "start_time": "2022-08-13T06:08:28.651Z"
   },
   {
    "duration": 170,
    "start_time": "2022-08-13T06:08:51.784Z"
   },
   {
    "duration": 250,
    "start_time": "2022-08-13T06:09:52.161Z"
   },
   {
    "duration": 176,
    "start_time": "2022-08-13T06:10:15.725Z"
   },
   {
    "duration": 1036,
    "start_time": "2022-08-13T06:43:15.356Z"
   },
   {
    "duration": 959,
    "start_time": "2022-08-13T06:44:13.311Z"
   },
   {
    "duration": 1368,
    "start_time": "2022-08-13T06:44:57.730Z"
   },
   {
    "duration": 1288,
    "start_time": "2022-08-13T06:45:20.290Z"
   },
   {
    "duration": 1348,
    "start_time": "2022-08-13T06:45:27.443Z"
   },
   {
    "duration": 49,
    "start_time": "2022-08-13T06:46:04.604Z"
   },
   {
    "duration": 12,
    "start_time": "2022-08-13T06:46:12.327Z"
   },
   {
    "duration": 996,
    "start_time": "2022-08-13T06:46:21.302Z"
   },
   {
    "duration": 948,
    "start_time": "2022-08-13T06:47:39.769Z"
   },
   {
    "duration": 1031,
    "start_time": "2022-08-13T06:48:18.113Z"
   },
   {
    "duration": 956,
    "start_time": "2022-08-13T06:48:55.342Z"
   },
   {
    "duration": 911,
    "start_time": "2022-08-13T06:49:03.274Z"
   },
   {
    "duration": 986,
    "start_time": "2022-08-13T06:49:26.933Z"
   },
   {
    "duration": 1068,
    "start_time": "2022-08-13T06:50:06.795Z"
   },
   {
    "duration": 1418,
    "start_time": "2022-08-13T06:51:13.728Z"
   },
   {
    "duration": 1761,
    "start_time": "2022-08-13T06:53:43.014Z"
   },
   {
    "duration": 1320,
    "start_time": "2022-08-13T06:54:32.349Z"
   },
   {
    "duration": 1482,
    "start_time": "2022-08-13T06:54:53.212Z"
   },
   {
    "duration": 1245,
    "start_time": "2022-08-13T07:03:34.349Z"
   },
   {
    "duration": 1250,
    "start_time": "2022-08-13T07:04:57.450Z"
   },
   {
    "duration": 1422,
    "start_time": "2022-08-13T07:05:21.382Z"
   },
   {
    "duration": 1177,
    "start_time": "2022-08-13T07:08:44.507Z"
   },
   {
    "duration": 1562,
    "start_time": "2022-08-13T07:08:51.065Z"
   },
   {
    "duration": 1140,
    "start_time": "2022-08-13T07:09:10.063Z"
   },
   {
    "duration": 1319,
    "start_time": "2022-08-13T07:09:25.227Z"
   },
   {
    "duration": 1435,
    "start_time": "2022-08-13T07:10:12.560Z"
   },
   {
    "duration": 46,
    "start_time": "2022-08-13T07:13:51.385Z"
   },
   {
    "duration": 1352,
    "start_time": "2022-08-13T07:14:12.087Z"
   },
   {
    "duration": 77,
    "start_time": "2022-08-13T07:14:13.441Z"
   },
   {
    "duration": 16,
    "start_time": "2022-08-13T07:14:13.519Z"
   },
   {
    "duration": 11,
    "start_time": "2022-08-13T07:14:13.774Z"
   },
   {
    "duration": 3,
    "start_time": "2022-08-13T07:14:14.135Z"
   },
   {
    "duration": 3,
    "start_time": "2022-08-13T07:14:14.409Z"
   },
   {
    "duration": 3,
    "start_time": "2022-08-13T07:14:14.680Z"
   },
   {
    "duration": 6,
    "start_time": "2022-08-13T07:14:15.884Z"
   },
   {
    "duration": 10,
    "start_time": "2022-08-13T07:14:16.146Z"
   },
   {
    "duration": 8,
    "start_time": "2022-08-13T07:14:16.718Z"
   },
   {
    "duration": 13,
    "start_time": "2022-08-13T07:14:17.306Z"
   },
   {
    "duration": 11,
    "start_time": "2022-08-13T07:14:17.779Z"
   },
   {
    "duration": 8,
    "start_time": "2022-08-13T07:14:18.202Z"
   },
   {
    "duration": 9,
    "start_time": "2022-08-13T07:14:18.633Z"
   },
   {
    "duration": 9,
    "start_time": "2022-08-13T07:14:19.018Z"
   },
   {
    "duration": 3,
    "start_time": "2022-08-13T07:14:19.592Z"
   },
   {
    "duration": 6,
    "start_time": "2022-08-13T07:14:19.780Z"
   },
   {
    "duration": 7,
    "start_time": "2022-08-13T07:14:19.980Z"
   },
   {
    "duration": 775,
    "start_time": "2022-08-13T07:14:20.394Z"
   },
   {
    "duration": 11,
    "start_time": "2022-08-13T07:14:35.772Z"
   },
   {
    "duration": 11,
    "start_time": "2022-08-13T07:14:36.704Z"
   },
   {
    "duration": 11,
    "start_time": "2022-08-13T07:14:37.244Z"
   },
   {
    "duration": 10,
    "start_time": "2022-08-13T07:14:37.706Z"
   },
   {
    "duration": 2,
    "start_time": "2022-08-13T07:14:38.420Z"
   },
   {
    "duration": 2,
    "start_time": "2022-08-13T07:14:38.650Z"
   },
   {
    "duration": 2,
    "start_time": "2022-08-13T07:14:38.882Z"
   },
   {
    "duration": 5,
    "start_time": "2022-08-13T07:14:39.107Z"
   },
   {
    "duration": 4,
    "start_time": "2022-08-13T07:14:39.334Z"
   },
   {
    "duration": 6,
    "start_time": "2022-08-13T07:14:39.577Z"
   },
   {
    "duration": 3,
    "start_time": "2022-08-13T07:14:39.815Z"
   },
   {
    "duration": 10,
    "start_time": "2022-08-13T07:14:40.183Z"
   },
   {
    "duration": 221,
    "start_time": "2022-08-13T07:14:40.744Z"
   },
   {
    "duration": 1018,
    "start_time": "2022-08-13T07:14:43.307Z"
   },
   {
    "duration": 10,
    "start_time": "2022-08-13T07:14:44.327Z"
   },
   {
    "duration": 8,
    "start_time": "2022-08-13T07:14:44.963Z"
   },
   {
    "duration": 10,
    "start_time": "2022-08-13T07:14:45.323Z"
   },
   {
    "duration": 4,
    "start_time": "2022-08-13T07:14:46.055Z"
   },
   {
    "duration": 10,
    "start_time": "2022-08-13T07:14:46.450Z"
   },
   {
    "duration": 16,
    "start_time": "2022-08-13T07:14:47.916Z"
   },
   {
    "duration": 11,
    "start_time": "2022-08-13T07:14:48.682Z"
   },
   {
    "duration": 190,
    "start_time": "2022-08-13T07:14:49.498Z"
   },
   {
    "duration": 17,
    "start_time": "2022-08-13T07:14:53.241Z"
   },
   {
    "duration": 248,
    "start_time": "2022-08-13T07:14:53.653Z"
   },
   {
    "duration": 801,
    "start_time": "2022-08-13T07:14:54.725Z"
   },
   {
    "duration": 13,
    "start_time": "2022-08-13T07:14:57.738Z"
   },
   {
    "duration": 956,
    "start_time": "2022-08-13T07:14:59.760Z"
   },
   {
    "duration": 20,
    "start_time": "2022-08-13T07:15:02.372Z"
   },
   {
    "duration": 21,
    "start_time": "2022-08-13T07:15:03.910Z"
   },
   {
    "duration": 18,
    "start_time": "2022-08-13T07:15:05.076Z"
   },
   {
    "duration": 1299,
    "start_time": "2022-08-13T07:15:07.919Z"
   },
   {
    "duration": 1048,
    "start_time": "2022-08-13T07:15:52.485Z"
   },
   {
    "duration": 1081,
    "start_time": "2022-08-13T07:16:58.681Z"
   },
   {
    "duration": 1085,
    "start_time": "2022-08-13T07:18:09.322Z"
   },
   {
    "duration": 1132,
    "start_time": "2022-08-13T07:19:03.192Z"
   },
   {
    "duration": 164,
    "start_time": "2022-08-13T07:19:08.452Z"
   },
   {
    "duration": 1023,
    "start_time": "2022-08-13T07:19:12.004Z"
   },
   {
    "duration": 1042,
    "start_time": "2022-08-13T07:20:41.857Z"
   },
   {
    "duration": 1377,
    "start_time": "2022-08-13T07:21:30.424Z"
   },
   {
    "duration": 1050,
    "start_time": "2022-08-13T07:21:42.275Z"
   },
   {
    "duration": 1382,
    "start_time": "2022-08-13T07:21:56.239Z"
   },
   {
    "duration": 4,
    "start_time": "2022-08-13T07:23:56.199Z"
   },
   {
    "duration": 1255,
    "start_time": "2022-08-13T07:24:05.705Z"
   },
   {
    "duration": 1384,
    "start_time": "2022-08-13T07:24:22.881Z"
   },
   {
    "duration": 1245,
    "start_time": "2022-08-13T07:24:42.418Z"
   },
   {
    "duration": 2919,
    "start_time": "2022-08-13T07:24:57.272Z"
   },
   {
    "duration": 1839,
    "start_time": "2022-08-13T07:25:05.541Z"
   },
   {
    "duration": 2001,
    "start_time": "2022-08-13T07:26:10.431Z"
   },
   {
    "duration": 2016,
    "start_time": "2022-08-13T07:26:26.508Z"
   },
   {
    "duration": 1476,
    "start_time": "2022-08-13T07:27:46.174Z"
   },
   {
    "duration": 1274,
    "start_time": "2022-08-13T07:27:58.832Z"
   },
   {
    "duration": 1233,
    "start_time": "2022-08-13T07:28:31.975Z"
   },
   {
    "duration": 1032,
    "start_time": "2022-08-13T07:30:25.399Z"
   },
   {
    "duration": 1345,
    "start_time": "2022-08-13T07:30:44.744Z"
   },
   {
    "duration": 1415,
    "start_time": "2022-08-13T07:31:03.989Z"
   },
   {
    "duration": 1135,
    "start_time": "2022-08-13T07:32:09.400Z"
   },
   {
    "duration": 1186,
    "start_time": "2022-08-13T07:32:54.185Z"
   },
   {
    "duration": 1132,
    "start_time": "2022-08-13T07:32:59.607Z"
   },
   {
    "duration": 1182,
    "start_time": "2022-08-13T07:33:06.700Z"
   },
   {
    "duration": 1258,
    "start_time": "2022-08-13T07:33:15.551Z"
   },
   {
    "duration": 1143,
    "start_time": "2022-08-13T07:33:37.538Z"
   },
   {
    "duration": 17375,
    "start_time": "2022-08-13T07:34:20.009Z"
   },
   {
    "duration": 2848,
    "start_time": "2022-08-13T07:34:43.414Z"
   },
   {
    "duration": 1877,
    "start_time": "2022-08-13T07:37:45.530Z"
   },
   {
    "duration": 1923,
    "start_time": "2022-08-13T07:37:56.605Z"
   },
   {
    "duration": 1926,
    "start_time": "2022-08-13T07:38:44.864Z"
   },
   {
    "duration": 1948,
    "start_time": "2022-08-13T07:39:00.974Z"
   },
   {
    "duration": 1145,
    "start_time": "2022-08-13T07:41:58.261Z"
   },
   {
    "duration": 1155,
    "start_time": "2022-08-13T07:43:44.652Z"
   },
   {
    "duration": 1175,
    "start_time": "2022-08-13T07:44:49.927Z"
   },
   {
    "duration": 1569,
    "start_time": "2022-08-13T07:47:23.467Z"
   },
   {
    "duration": 1537,
    "start_time": "2022-08-13T07:47:41.996Z"
   },
   {
    "duration": 2713,
    "start_time": "2022-08-13T07:48:11.920Z"
   },
   {
    "duration": 1600,
    "start_time": "2022-08-13T07:53:02.427Z"
   },
   {
    "duration": 1670,
    "start_time": "2022-08-13T07:53:10.171Z"
   },
   {
    "duration": 1719,
    "start_time": "2022-08-13T07:53:30.840Z"
   },
   {
    "duration": 4,
    "start_time": "2022-08-13T07:55:36.196Z"
   },
   {
    "duration": 33,
    "start_time": "2022-08-13T07:55:37.577Z"
   },
   {
    "duration": 10,
    "start_time": "2022-08-13T07:55:38.058Z"
   },
   {
    "duration": 10,
    "start_time": "2022-08-13T07:55:38.446Z"
   },
   {
    "duration": 3,
    "start_time": "2022-08-13T07:55:38.714Z"
   },
   {
    "duration": 4,
    "start_time": "2022-08-13T07:55:38.936Z"
   },
   {
    "duration": 3,
    "start_time": "2022-08-13T07:55:39.173Z"
   },
   {
    "duration": 5,
    "start_time": "2022-08-13T07:55:40.287Z"
   },
   {
    "duration": 10,
    "start_time": "2022-08-13T07:55:40.586Z"
   },
   {
    "duration": 9,
    "start_time": "2022-08-13T07:55:41.116Z"
   },
   {
    "duration": 14,
    "start_time": "2022-08-13T07:55:41.561Z"
   },
   {
    "duration": 13,
    "start_time": "2022-08-13T07:55:42.058Z"
   },
   {
    "duration": 8,
    "start_time": "2022-08-13T07:55:42.583Z"
   },
   {
    "duration": 10,
    "start_time": "2022-08-13T07:55:43.191Z"
   },
   {
    "duration": 11,
    "start_time": "2022-08-13T07:55:43.893Z"
   },
   {
    "duration": 3,
    "start_time": "2022-08-13T07:55:44.994Z"
   },
   {
    "duration": 7,
    "start_time": "2022-08-13T07:55:45.383Z"
   },
   {
    "duration": 7,
    "start_time": "2022-08-13T07:55:45.718Z"
   },
   {
    "duration": 872,
    "start_time": "2022-08-13T07:55:46.889Z"
   },
   {
    "duration": 2,
    "start_time": "2022-08-13T07:56:41.796Z"
   },
   {
    "duration": 34,
    "start_time": "2022-08-13T07:56:42.442Z"
   },
   {
    "duration": 10,
    "start_time": "2022-08-13T07:56:42.756Z"
   },
   {
    "duration": 11,
    "start_time": "2022-08-13T07:56:42.949Z"
   },
   {
    "duration": 3,
    "start_time": "2022-08-13T07:56:43.153Z"
   },
   {
    "duration": 3,
    "start_time": "2022-08-13T07:56:43.329Z"
   },
   {
    "duration": 3,
    "start_time": "2022-08-13T07:56:43.513Z"
   },
   {
    "duration": 5,
    "start_time": "2022-08-13T07:56:44.360Z"
   },
   {
    "duration": 12,
    "start_time": "2022-08-13T07:56:44.527Z"
   },
   {
    "duration": 10,
    "start_time": "2022-08-13T07:56:44.795Z"
   },
   {
    "duration": 15,
    "start_time": "2022-08-13T07:56:45.066Z"
   },
   {
    "duration": 13,
    "start_time": "2022-08-13T07:56:45.339Z"
   },
   {
    "duration": 10,
    "start_time": "2022-08-13T07:56:45.630Z"
   },
   {
    "duration": 10,
    "start_time": "2022-08-13T07:56:46.062Z"
   },
   {
    "duration": 11,
    "start_time": "2022-08-13T07:56:46.458Z"
   },
   {
    "duration": 3,
    "start_time": "2022-08-13T07:56:47.087Z"
   },
   {
    "duration": 6,
    "start_time": "2022-08-13T07:56:47.314Z"
   },
   {
    "duration": 7,
    "start_time": "2022-08-13T07:56:47.544Z"
   },
   {
    "duration": 944,
    "start_time": "2022-08-13T07:56:47.992Z"
   },
   {
    "duration": 2,
    "start_time": "2022-08-13T07:58:48.226Z"
   },
   {
    "duration": 36,
    "start_time": "2022-08-13T07:58:48.923Z"
   },
   {
    "duration": 9,
    "start_time": "2022-08-13T07:58:49.147Z"
   },
   {
    "duration": 10,
    "start_time": "2022-08-13T07:58:49.343Z"
   },
   {
    "duration": 3,
    "start_time": "2022-08-13T07:58:49.533Z"
   },
   {
    "duration": 3,
    "start_time": "2022-08-13T07:58:49.718Z"
   },
   {
    "duration": 4,
    "start_time": "2022-08-13T07:58:49.898Z"
   },
   {
    "duration": 5,
    "start_time": "2022-08-13T07:58:50.842Z"
   },
   {
    "duration": 9,
    "start_time": "2022-08-13T07:58:51.028Z"
   },
   {
    "duration": 9,
    "start_time": "2022-08-13T07:58:51.429Z"
   },
   {
    "duration": 12,
    "start_time": "2022-08-13T07:58:51.827Z"
   },
   {
    "duration": 12,
    "start_time": "2022-08-13T07:58:52.237Z"
   },
   {
    "duration": 8,
    "start_time": "2022-08-13T07:58:52.639Z"
   },
   {
    "duration": 9,
    "start_time": "2022-08-13T07:58:53.056Z"
   },
   {
    "duration": 10,
    "start_time": "2022-08-13T07:58:53.477Z"
   },
   {
    "duration": 3,
    "start_time": "2022-08-13T07:58:54.098Z"
   },
   {
    "duration": 8,
    "start_time": "2022-08-13T07:58:54.370Z"
   },
   {
    "duration": 7,
    "start_time": "2022-08-13T07:58:54.678Z"
   },
   {
    "duration": 949,
    "start_time": "2022-08-13T07:58:55.465Z"
   },
   {
    "duration": 18,
    "start_time": "2022-08-13T08:00:07.160Z"
   },
   {
    "duration": 4,
    "start_time": "2022-08-13T08:01:50.160Z"
   },
   {
    "duration": 8,
    "start_time": "2022-08-13T08:01:50.899Z"
   },
   {
    "duration": 3,
    "start_time": "2022-08-13T08:02:12.339Z"
   },
   {
    "duration": 3,
    "start_time": "2022-08-13T08:02:13.181Z"
   },
   {
    "duration": 35,
    "start_time": "2022-08-13T08:02:13.875Z"
   },
   {
    "duration": 9,
    "start_time": "2022-08-13T08:02:14.251Z"
   },
   {
    "duration": 15,
    "start_time": "2022-08-13T08:02:14.540Z"
   },
   {
    "duration": 3,
    "start_time": "2022-08-13T08:02:14.812Z"
   },
   {
    "duration": 3,
    "start_time": "2022-08-13T08:02:15.063Z"
   },
   {
    "duration": 3,
    "start_time": "2022-08-13T08:02:15.301Z"
   },
   {
    "duration": 5,
    "start_time": "2022-08-13T08:02:16.552Z"
   },
   {
    "duration": 9,
    "start_time": "2022-08-13T08:02:16.799Z"
   },
   {
    "duration": 9,
    "start_time": "2022-08-13T08:02:17.442Z"
   },
   {
    "duration": 15,
    "start_time": "2022-08-13T08:02:17.928Z"
   },
   {
    "duration": 13,
    "start_time": "2022-08-13T08:02:18.394Z"
   },
   {
    "duration": 9,
    "start_time": "2022-08-13T08:02:18.836Z"
   },
   {
    "duration": 10,
    "start_time": "2022-08-13T08:02:19.284Z"
   },
   {
    "duration": 11,
    "start_time": "2022-08-13T08:02:19.778Z"
   },
   {
    "duration": 3,
    "start_time": "2022-08-13T08:02:20.513Z"
   },
   {
    "duration": 7,
    "start_time": "2022-08-13T08:02:20.784Z"
   },
   {
    "duration": 7,
    "start_time": "2022-08-13T08:02:21.054Z"
   },
   {
    "duration": 829,
    "start_time": "2022-08-13T08:02:21.736Z"
   },
   {
    "duration": 12,
    "start_time": "2022-08-13T08:02:41.147Z"
   },
   {
    "duration": 11,
    "start_time": "2022-08-13T08:02:41.546Z"
   },
   {
    "duration": 11,
    "start_time": "2022-08-13T08:02:41.928Z"
   },
   {
    "duration": 10,
    "start_time": "2022-08-13T08:02:42.320Z"
   },
   {
    "duration": 2,
    "start_time": "2022-08-13T08:02:42.985Z"
   },
   {
    "duration": 2,
    "start_time": "2022-08-13T08:02:43.241Z"
   },
   {
    "duration": 3,
    "start_time": "2022-08-13T08:02:43.533Z"
   },
   {
    "duration": 5,
    "start_time": "2022-08-13T08:02:43.810Z"
   },
   {
    "duration": 4,
    "start_time": "2022-08-13T08:02:44.087Z"
   },
   {
    "duration": 6,
    "start_time": "2022-08-13T08:02:44.297Z"
   },
   {
    "duration": 5,
    "start_time": "2022-08-13T08:02:44.490Z"
   },
   {
    "duration": 10,
    "start_time": "2022-08-13T08:02:44.664Z"
   },
   {
    "duration": 276,
    "start_time": "2022-08-13T08:02:45.134Z"
   },
   {
    "duration": 939,
    "start_time": "2022-08-13T08:02:48.410Z"
   },
   {
    "duration": 10,
    "start_time": "2022-08-13T08:02:53.177Z"
   },
   {
    "duration": 9,
    "start_time": "2022-08-13T08:02:53.643Z"
   },
   {
    "duration": 13,
    "start_time": "2022-08-13T08:02:53.854Z"
   },
   {
    "duration": 4,
    "start_time": "2022-08-13T08:02:54.360Z"
   },
   {
    "duration": 10,
    "start_time": "2022-08-13T08:02:54.585Z"
   },
   {
    "duration": 17,
    "start_time": "2022-08-13T08:02:55.438Z"
   },
   {
    "duration": 12,
    "start_time": "2022-08-13T08:02:55.844Z"
   },
   {
    "duration": 220,
    "start_time": "2022-08-13T08:02:56.258Z"
   },
   {
    "duration": 18,
    "start_time": "2022-08-13T08:02:59.287Z"
   },
   {
    "duration": 239,
    "start_time": "2022-08-13T08:02:59.531Z"
   },
   {
    "duration": 837,
    "start_time": "2022-08-13T08:03:01.605Z"
   },
   {
    "duration": 15,
    "start_time": "2022-08-13T08:03:04.253Z"
   },
   {
    "duration": 1224,
    "start_time": "2022-08-13T08:03:04.955Z"
   },
   {
    "duration": 21,
    "start_time": "2022-08-13T08:03:08.059Z"
   },
   {
    "duration": 20,
    "start_time": "2022-08-13T08:03:09.020Z"
   },
   {
    "duration": 19,
    "start_time": "2022-08-13T08:03:09.672Z"
   },
   {
    "duration": 2045,
    "start_time": "2022-08-13T08:03:11.027Z"
   },
   {
    "duration": 19,
    "start_time": "2022-08-13T08:03:16.881Z"
   },
   {
    "duration": 12,
    "start_time": "2022-08-13T08:03:20.029Z"
   },
   {
    "duration": 1203,
    "start_time": "2022-08-13T08:03:21.683Z"
   },
   {
    "duration": 29,
    "start_time": "2022-08-13T08:03:22.887Z"
   },
   {
    "duration": 1059,
    "start_time": "2022-08-13T08:03:24.820Z"
   },
   {
    "duration": 1907,
    "start_time": "2022-08-13T08:03:31.324Z"
   },
   {
    "duration": 1823,
    "start_time": "2022-08-13T08:04:10.972Z"
   },
   {
    "duration": 10,
    "start_time": "2022-08-13T08:04:16.815Z"
   },
   {
    "duration": 5,
    "start_time": "2022-08-13T08:04:17.030Z"
   },
   {
    "duration": 211,
    "start_time": "2022-08-13T08:04:17.255Z"
   },
   {
    "duration": 1821,
    "start_time": "2022-08-13T08:05:10.601Z"
   },
   {
    "duration": 3242,
    "start_time": "2022-08-13T08:05:46.547Z"
   },
   {
    "duration": 2500,
    "start_time": "2022-08-13T08:06:37.518Z"
   },
   {
    "duration": 2216,
    "start_time": "2022-08-13T08:10:25.742Z"
   },
   {
    "duration": 374,
    "start_time": "2022-08-13T08:11:31.777Z"
   },
   {
    "duration": 210,
    "start_time": "2022-08-13T08:12:25.375Z"
   },
   {
    "duration": 216,
    "start_time": "2022-08-13T08:12:51.059Z"
   },
   {
    "duration": 208,
    "start_time": "2022-08-13T08:13:12.677Z"
   },
   {
    "duration": 14,
    "start_time": "2022-08-13T08:13:25.814Z"
   },
   {
    "duration": 219,
    "start_time": "2022-08-13T08:13:32.280Z"
   },
   {
    "duration": 17,
    "start_time": "2022-08-13T08:14:26.391Z"
   },
   {
    "duration": 1667,
    "start_time": "2022-08-13T08:14:30.680Z"
   },
   {
    "duration": 1699,
    "start_time": "2022-08-13T08:15:01.218Z"
   },
   {
    "duration": 5299,
    "start_time": "2022-08-13T08:16:34.321Z"
   },
   {
    "duration": 5831,
    "start_time": "2022-08-13T08:16:40.361Z"
   },
   {
    "duration": 2164,
    "start_time": "2022-08-13T08:17:12.003Z"
   },
   {
    "duration": 123,
    "start_time": "2022-08-13T08:31:18.842Z"
   },
   {
    "duration": 128,
    "start_time": "2022-08-13T08:31:29.482Z"
   },
   {
    "duration": 105,
    "start_time": "2022-08-13T08:33:19.887Z"
   },
   {
    "duration": 148,
    "start_time": "2022-08-13T08:33:26.675Z"
   },
   {
    "duration": 1531,
    "start_time": "2022-08-13T10:04:30.559Z"
   },
   {
    "duration": 80,
    "start_time": "2022-08-13T10:04:32.092Z"
   },
   {
    "duration": 16,
    "start_time": "2022-08-13T10:04:32.756Z"
   },
   {
    "duration": 14,
    "start_time": "2022-08-13T10:04:33.622Z"
   },
   {
    "duration": 4,
    "start_time": "2022-08-13T10:04:34.116Z"
   },
   {
    "duration": 4,
    "start_time": "2022-08-13T10:04:34.410Z"
   },
   {
    "duration": 4,
    "start_time": "2022-08-13T10:04:34.654Z"
   },
   {
    "duration": 5,
    "start_time": "2022-08-13T10:04:35.896Z"
   },
   {
    "duration": 14,
    "start_time": "2022-08-13T10:04:36.170Z"
   },
   {
    "duration": 10,
    "start_time": "2022-08-13T10:04:36.681Z"
   },
   {
    "duration": 15,
    "start_time": "2022-08-13T10:04:37.116Z"
   },
   {
    "duration": 14,
    "start_time": "2022-08-13T10:04:37.508Z"
   },
   {
    "duration": 10,
    "start_time": "2022-08-13T10:04:37.882Z"
   },
   {
    "duration": 11,
    "start_time": "2022-08-13T10:04:38.261Z"
   },
   {
    "duration": 11,
    "start_time": "2022-08-13T10:04:38.642Z"
   },
   {
    "duration": 4,
    "start_time": "2022-08-13T10:04:39.234Z"
   },
   {
    "duration": 6,
    "start_time": "2022-08-13T10:04:39.434Z"
   },
   {
    "duration": 9,
    "start_time": "2022-08-13T10:04:39.645Z"
   },
   {
    "duration": 916,
    "start_time": "2022-08-13T10:04:40.081Z"
   },
   {
    "duration": 14,
    "start_time": "2022-08-13T10:04:51.830Z"
   },
   {
    "duration": 12,
    "start_time": "2022-08-13T10:04:52.509Z"
   },
   {
    "duration": 12,
    "start_time": "2022-08-13T10:04:53.104Z"
   },
   {
    "duration": 11,
    "start_time": "2022-08-13T10:04:53.630Z"
   },
   {
    "duration": 3,
    "start_time": "2022-08-13T10:04:54.254Z"
   },
   {
    "duration": 3,
    "start_time": "2022-08-13T10:04:54.459Z"
   },
   {
    "duration": 2,
    "start_time": "2022-08-13T10:04:54.666Z"
   },
   {
    "duration": 5,
    "start_time": "2022-08-13T10:04:54.905Z"
   },
   {
    "duration": 4,
    "start_time": "2022-08-13T10:04:55.387Z"
   },
   {
    "duration": 7,
    "start_time": "2022-08-13T10:04:55.746Z"
   },
   {
    "duration": 4,
    "start_time": "2022-08-13T10:04:56.125Z"
   },
   {
    "duration": 12,
    "start_time": "2022-08-13T10:04:56.521Z"
   },
   {
    "duration": 273,
    "start_time": "2022-08-13T10:04:58.167Z"
   },
   {
    "duration": 1280,
    "start_time": "2022-08-13T10:04:59.731Z"
   },
   {
    "duration": 11,
    "start_time": "2022-08-13T10:05:02.234Z"
   },
   {
    "duration": 8,
    "start_time": "2022-08-13T10:05:02.700Z"
   },
   {
    "duration": 12,
    "start_time": "2022-08-13T10:05:02.901Z"
   },
   {
    "duration": 4,
    "start_time": "2022-08-13T10:05:03.309Z"
   },
   {
    "duration": 11,
    "start_time": "2022-08-13T10:05:03.535Z"
   },
   {
    "duration": 18,
    "start_time": "2022-08-13T10:05:05.020Z"
   },
   {
    "duration": 13,
    "start_time": "2022-08-13T10:05:05.807Z"
   },
   {
    "duration": 204,
    "start_time": "2022-08-13T10:05:06.779Z"
   },
   {
    "duration": 20,
    "start_time": "2022-08-13T10:05:09.496Z"
   },
   {
    "duration": 251,
    "start_time": "2022-08-13T10:05:09.823Z"
   },
   {
    "duration": 895,
    "start_time": "2022-08-13T10:05:10.936Z"
   },
   {
    "duration": 15,
    "start_time": "2022-08-13T10:05:13.137Z"
   },
   {
    "duration": 1227,
    "start_time": "2022-08-13T10:05:14.439Z"
   },
   {
    "duration": 22,
    "start_time": "2022-08-13T10:05:19.560Z"
   },
   {
    "duration": 23,
    "start_time": "2022-08-13T10:05:20.472Z"
   },
   {
    "duration": 21,
    "start_time": "2022-08-13T10:05:21.023Z"
   },
   {
    "duration": 2324,
    "start_time": "2022-08-13T10:05:56.309Z"
   },
   {
    "duration": 21,
    "start_time": "2022-08-13T10:05:59.362Z"
   },
   {
    "duration": 18,
    "start_time": "2022-08-13T10:06:01.456Z"
   },
   {
    "duration": 1216,
    "start_time": "2022-08-13T10:06:02.767Z"
   },
   {
    "duration": 28,
    "start_time": "2022-08-13T10:06:04.598Z"
   },
   {
    "duration": 1972,
    "start_time": "2022-08-13T10:06:05.983Z"
   },
   {
    "duration": 11,
    "start_time": "2022-08-13T10:06:09.490Z"
   },
   {
    "duration": 6,
    "start_time": "2022-08-13T10:06:09.786Z"
   },
   {
    "duration": 183,
    "start_time": "2022-08-13T10:06:10.388Z"
   },
   {
    "duration": 235,
    "start_time": "2022-08-13T10:07:58.732Z"
   },
   {
    "duration": 149,
    "start_time": "2022-08-13T10:08:30.944Z"
   },
   {
    "duration": 21,
    "start_time": "2022-08-13T10:10:25.407Z"
   },
   {
    "duration": 20,
    "start_time": "2022-08-13T10:12:24.505Z"
   },
   {
    "duration": 23,
    "start_time": "2022-08-13T10:13:12.238Z"
   },
   {
    "duration": 23,
    "start_time": "2022-08-13T10:13:37.587Z"
   },
   {
    "duration": 25,
    "start_time": "2022-08-13T10:14:18.101Z"
   },
   {
    "duration": 191,
    "start_time": "2022-08-13T10:15:12.579Z"
   },
   {
    "duration": 21,
    "start_time": "2022-08-13T10:16:07.733Z"
   },
   {
    "duration": 140,
    "start_time": "2022-08-13T10:19:13.257Z"
   },
   {
    "duration": 23,
    "start_time": "2022-08-13T10:19:29.645Z"
   },
   {
    "duration": 18,
    "start_time": "2022-08-13T10:19:36.420Z"
   },
   {
    "duration": 23,
    "start_time": "2022-08-13T10:20:18.440Z"
   },
   {
    "duration": 10,
    "start_time": "2022-08-13T10:22:44.263Z"
   },
   {
    "duration": 18,
    "start_time": "2022-08-13T10:22:49.354Z"
   },
   {
    "duration": 11,
    "start_time": "2022-08-13T10:23:15.399Z"
   },
   {
    "duration": 1055,
    "start_time": "2022-08-13T10:23:24.703Z"
   },
   {
    "duration": 868,
    "start_time": "2022-08-13T10:23:41.746Z"
   },
   {
    "duration": 827,
    "start_time": "2022-08-13T10:24:02.360Z"
   },
   {
    "duration": 833,
    "start_time": "2022-08-13T10:24:38.542Z"
   },
   {
    "duration": 10,
    "start_time": "2022-08-13T10:24:52.012Z"
   },
   {
    "duration": 687,
    "start_time": "2022-08-13T10:25:05.683Z"
   },
   {
    "duration": 660,
    "start_time": "2022-08-13T10:25:32.956Z"
   },
   {
    "duration": 583,
    "start_time": "2022-08-13T10:26:19.619Z"
   },
   {
    "duration": 322,
    "start_time": "2022-08-13T10:27:23.445Z"
   },
   {
    "duration": 10152,
    "start_time": "2022-08-13T10:27:36.539Z"
   },
   {
    "duration": 331,
    "start_time": "2022-08-13T10:27:54.938Z"
   },
   {
    "duration": 306,
    "start_time": "2022-08-13T10:28:38.801Z"
   },
   {
    "duration": 329,
    "start_time": "2022-08-13T10:28:53.526Z"
   },
   {
    "duration": 3023,
    "start_time": "2022-08-13T10:33:56.815Z"
   },
   {
    "duration": 2683,
    "start_time": "2022-08-13T10:36:25.664Z"
   },
   {
    "duration": 566,
    "start_time": "2022-08-13T10:37:44.220Z"
   },
   {
    "duration": 12,
    "start_time": "2022-08-13T10:39:05.871Z"
   },
   {
    "duration": 14,
    "start_time": "2022-08-13T10:39:27.656Z"
   },
   {
    "duration": 708,
    "start_time": "2022-08-13T10:39:32.560Z"
   },
   {
    "duration": 667,
    "start_time": "2022-08-13T10:39:49.396Z"
   },
   {
    "duration": 731,
    "start_time": "2022-08-13T10:40:28.577Z"
   },
   {
    "duration": 657,
    "start_time": "2022-08-13T10:40:46.092Z"
   },
   {
    "duration": 871,
    "start_time": "2022-08-13T10:41:12.309Z"
   },
   {
    "duration": 735,
    "start_time": "2022-08-13T10:41:54.754Z"
   },
   {
    "duration": 775,
    "start_time": "2022-08-13T10:42:20.143Z"
   },
   {
    "duration": 767,
    "start_time": "2022-08-13T10:42:53.947Z"
   },
   {
    "duration": 699,
    "start_time": "2022-08-13T10:43:56.367Z"
   },
   {
    "duration": 559,
    "start_time": "2022-08-13T10:44:28.746Z"
   },
   {
    "duration": 484,
    "start_time": "2022-08-13T10:44:40.227Z"
   },
   {
    "duration": 411,
    "start_time": "2022-08-13T10:45:49.228Z"
   },
   {
    "duration": 16,
    "start_time": "2022-08-13T10:46:50.123Z"
   },
   {
    "duration": 20,
    "start_time": "2022-08-13T10:46:58.575Z"
   },
   {
    "duration": 27,
    "start_time": "2022-08-13T10:47:04.015Z"
   },
   {
    "duration": 22,
    "start_time": "2022-08-13T11:13:45.699Z"
   },
   {
    "duration": 275,
    "start_time": "2022-08-13T11:13:46.854Z"
   },
   {
    "duration": 21,
    "start_time": "2022-08-13T11:14:14.659Z"
   },
   {
    "duration": 258,
    "start_time": "2022-08-13T11:14:16.110Z"
   },
   {
    "duration": 22,
    "start_time": "2022-08-13T11:14:27.840Z"
   },
   {
    "duration": 2636,
    "start_time": "2022-08-13T11:15:29.305Z"
   },
   {
    "duration": 2527,
    "start_time": "2022-08-13T11:15:54.717Z"
   },
   {
    "duration": 22,
    "start_time": "2022-08-13T11:44:47.082Z"
   },
   {
    "duration": 32,
    "start_time": "2022-08-13T12:13:26.322Z"
   },
   {
    "duration": 20,
    "start_time": "2022-08-13T12:13:47.538Z"
   },
   {
    "duration": 10,
    "start_time": "2022-08-13T12:15:45.746Z"
   },
   {
    "duration": 25,
    "start_time": "2022-08-13T12:20:45.846Z"
   },
   {
    "duration": 9,
    "start_time": "2022-08-13T12:25:45.591Z"
   },
   {
    "duration": 4,
    "start_time": "2022-08-13T12:26:04.229Z"
   },
   {
    "duration": 38,
    "start_time": "2022-08-13T12:26:05.575Z"
   },
   {
    "duration": 11,
    "start_time": "2022-08-13T12:26:06.100Z"
   },
   {
    "duration": 11,
    "start_time": "2022-08-13T12:26:06.318Z"
   },
   {
    "duration": 4,
    "start_time": "2022-08-13T12:26:06.583Z"
   },
   {
    "duration": 4,
    "start_time": "2022-08-13T12:26:06.790Z"
   },
   {
    "duration": 5,
    "start_time": "2022-08-13T12:26:06.982Z"
   },
   {
    "duration": 5,
    "start_time": "2022-08-13T12:26:07.939Z"
   },
   {
    "duration": 11,
    "start_time": "2022-08-13T12:26:08.142Z"
   },
   {
    "duration": 11,
    "start_time": "2022-08-13T12:26:08.591Z"
   },
   {
    "duration": 16,
    "start_time": "2022-08-13T12:26:09.115Z"
   },
   {
    "duration": 15,
    "start_time": "2022-08-13T12:26:09.644Z"
   },
   {
    "duration": 3,
    "start_time": "2022-08-13T12:26:11.947Z"
   },
   {
    "duration": 3,
    "start_time": "2022-08-13T12:26:16.284Z"
   },
   {
    "duration": 3,
    "start_time": "2022-08-13T12:26:43.259Z"
   },
   {
    "duration": 5,
    "start_time": "2022-08-13T12:26:59.480Z"
   },
   {
    "duration": 12,
    "start_time": "2022-08-13T12:27:10.436Z"
   },
   {
    "duration": 13,
    "start_time": "2022-08-13T12:27:18.863Z"
   },
   {
    "duration": 13,
    "start_time": "2022-08-13T12:27:53.616Z"
   },
   {
    "duration": 12,
    "start_time": "2022-08-13T12:27:54.715Z"
   },
   {
    "duration": 11,
    "start_time": "2022-08-13T12:27:55.442Z"
   },
   {
    "duration": 4,
    "start_time": "2022-08-13T12:27:56.515Z"
   },
   {
    "duration": 8,
    "start_time": "2022-08-13T12:27:56.869Z"
   },
   {
    "duration": 9,
    "start_time": "2022-08-13T12:27:57.202Z"
   },
   {
    "duration": 859,
    "start_time": "2022-08-13T12:27:58.117Z"
   },
   {
    "duration": 15,
    "start_time": "2022-08-13T12:28:00.066Z"
   },
   {
    "duration": 12,
    "start_time": "2022-08-13T12:28:00.735Z"
   },
   {
    "duration": 12,
    "start_time": "2022-08-13T12:28:01.220Z"
   },
   {
    "duration": 12,
    "start_time": "2022-08-13T12:28:01.726Z"
   },
   {
    "duration": 3,
    "start_time": "2022-08-13T12:28:02.492Z"
   },
   {
    "duration": 3,
    "start_time": "2022-08-13T12:28:02.799Z"
   },
   {
    "duration": 3,
    "start_time": "2022-08-13T12:28:03.151Z"
   },
   {
    "duration": 6,
    "start_time": "2022-08-13T12:28:03.552Z"
   },
   {
    "duration": 6,
    "start_time": "2022-08-13T12:28:03.856Z"
   },
   {
    "duration": 8,
    "start_time": "2022-08-13T12:28:04.123Z"
   },
   {
    "duration": 5,
    "start_time": "2022-08-13T12:28:04.416Z"
   },
   {
    "duration": 14,
    "start_time": "2022-08-13T12:28:04.685Z"
   },
   {
    "duration": 239,
    "start_time": "2022-08-13T12:28:05.227Z"
   },
   {
    "duration": 1217,
    "start_time": "2022-08-13T12:28:06.335Z"
   },
   {
    "duration": 12,
    "start_time": "2022-08-13T12:28:07.554Z"
   },
   {
    "duration": 8,
    "start_time": "2022-08-13T12:28:07.568Z"
   },
   {
    "duration": 10,
    "start_time": "2022-08-13T12:28:07.826Z"
   },
   {
    "duration": 4,
    "start_time": "2022-08-13T12:28:08.473Z"
   },
   {
    "duration": 10,
    "start_time": "2022-08-13T12:28:08.856Z"
   },
   {
    "duration": 17,
    "start_time": "2022-08-13T12:28:10.535Z"
   },
   {
    "duration": 18,
    "start_time": "2022-08-13T12:28:11.916Z"
   },
   {
    "duration": 188,
    "start_time": "2022-08-13T12:28:12.503Z"
   },
   {
    "duration": 23,
    "start_time": "2022-08-13T12:28:13.878Z"
   },
   {
    "duration": 282,
    "start_time": "2022-08-13T12:28:14.181Z"
   },
   {
    "duration": 969,
    "start_time": "2022-08-13T12:28:15.320Z"
   },
   {
    "duration": 14,
    "start_time": "2022-08-13T12:28:37.274Z"
   },
   {
    "duration": 1214,
    "start_time": "2022-08-13T12:28:38.781Z"
   },
   {
    "duration": 22,
    "start_time": "2022-08-13T12:28:41.986Z"
   },
   {
    "duration": 22,
    "start_time": "2022-08-13T12:28:43.793Z"
   },
   {
    "duration": 21,
    "start_time": "2022-08-13T12:28:44.831Z"
   },
   {
    "duration": 2477,
    "start_time": "2022-08-13T12:28:58.767Z"
   },
   {
    "duration": 25,
    "start_time": "2022-08-13T12:30:11.488Z"
   },
   {
    "duration": 14,
    "start_time": "2022-08-13T12:30:13.093Z"
   },
   {
    "duration": 1267,
    "start_time": "2022-08-13T12:30:19.415Z"
   },
   {
    "duration": 28,
    "start_time": "2022-08-13T12:30:25.195Z"
   },
   {
    "duration": 1999,
    "start_time": "2022-08-13T12:30:26.990Z"
   },
   {
    "duration": 12,
    "start_time": "2022-08-13T12:30:30.838Z"
   },
   {
    "duration": 7,
    "start_time": "2022-08-13T12:30:31.501Z"
   },
   {
    "duration": 184,
    "start_time": "2022-08-13T12:30:32.741Z"
   },
   {
    "duration": 187,
    "start_time": "2022-08-13T12:30:38.772Z"
   },
   {
    "duration": 160,
    "start_time": "2022-08-13T12:31:00.303Z"
   },
   {
    "duration": 22,
    "start_time": "2022-08-13T12:31:08.994Z"
   },
   {
    "duration": 21,
    "start_time": "2022-08-13T12:31:38.229Z"
   },
   {
    "duration": 28,
    "start_time": "2022-08-13T12:31:58.945Z"
   },
   {
    "duration": 1325,
    "start_time": "2022-08-13T12:34:17.027Z"
   },
   {
    "duration": 784,
    "start_time": "2022-08-13T12:34:34.237Z"
   },
   {
    "duration": 830,
    "start_time": "2022-08-13T12:35:20.498Z"
   },
   {
    "duration": 13,
    "start_time": "2022-08-13T12:49:26.037Z"
   },
   {
    "duration": 16,
    "start_time": "2022-08-13T12:49:31.604Z"
   },
   {
    "duration": 9,
    "start_time": "2022-08-13T12:50:19.838Z"
   },
   {
    "duration": 13,
    "start_time": "2022-08-13T12:50:26.383Z"
   },
   {
    "duration": 12,
    "start_time": "2022-08-13T12:52:13.246Z"
   },
   {
    "duration": 36,
    "start_time": "2022-08-13T12:52:33.380Z"
   },
   {
    "duration": 11,
    "start_time": "2022-08-13T12:52:33.629Z"
   },
   {
    "duration": 11,
    "start_time": "2022-08-13T12:52:33.819Z"
   },
   {
    "duration": 4,
    "start_time": "2022-08-13T12:52:33.994Z"
   },
   {
    "duration": 3,
    "start_time": "2022-08-13T12:52:34.131Z"
   },
   {
    "duration": 4,
    "start_time": "2022-08-13T12:52:34.244Z"
   },
   {
    "duration": 5,
    "start_time": "2022-08-13T12:52:34.886Z"
   },
   {
    "duration": 11,
    "start_time": "2022-08-13T12:52:34.994Z"
   },
   {
    "duration": 10,
    "start_time": "2022-08-13T12:52:35.390Z"
   },
   {
    "duration": 16,
    "start_time": "2022-08-13T12:52:35.717Z"
   },
   {
    "duration": 14,
    "start_time": "2022-08-13T12:52:36.040Z"
   },
   {
    "duration": 3,
    "start_time": "2022-08-13T12:52:36.643Z"
   },
   {
    "duration": 4,
    "start_time": "2022-08-13T12:52:36.794Z"
   },
   {
    "duration": 3,
    "start_time": "2022-08-13T12:52:36.954Z"
   },
   {
    "duration": 5,
    "start_time": "2022-08-13T12:52:37.121Z"
   },
   {
    "duration": 17,
    "start_time": "2022-08-13T12:52:37.274Z"
   },
   {
    "duration": 10,
    "start_time": "2022-08-13T12:52:37.458Z"
   },
   {
    "duration": 10,
    "start_time": "2022-08-13T12:52:37.782Z"
   },
   {
    "duration": 12,
    "start_time": "2022-08-13T12:52:38.117Z"
   },
   {
    "duration": 4,
    "start_time": "2022-08-13T12:52:38.648Z"
   },
   {
    "duration": 6,
    "start_time": "2022-08-13T12:52:38.850Z"
   },
   {
    "duration": 8,
    "start_time": "2022-08-13T12:52:39.038Z"
   },
   {
    "duration": 833,
    "start_time": "2022-08-13T12:52:39.401Z"
   },
   {
    "duration": 16,
    "start_time": "2022-08-13T12:52:40.236Z"
   },
   {
    "duration": 12,
    "start_time": "2022-08-13T12:52:40.254Z"
   },
   {
    "duration": 11,
    "start_time": "2022-08-13T12:52:40.519Z"
   },
   {
    "duration": 12,
    "start_time": "2022-08-13T12:52:40.852Z"
   },
   {
    "duration": 3,
    "start_time": "2022-08-13T12:52:41.390Z"
   },
   {
    "duration": 3,
    "start_time": "2022-08-13T12:52:41.585Z"
   },
   {
    "duration": 3,
    "start_time": "2022-08-13T12:52:41.755Z"
   },
   {
    "duration": 6,
    "start_time": "2022-08-13T12:52:41.930Z"
   },
   {
    "duration": 4,
    "start_time": "2022-08-13T12:52:42.118Z"
   },
   {
    "duration": 6,
    "start_time": "2022-08-13T12:52:42.297Z"
   },
   {
    "duration": 4,
    "start_time": "2022-08-13T12:52:42.504Z"
   },
   {
    "duration": 11,
    "start_time": "2022-08-13T12:52:42.694Z"
   },
   {
    "duration": 229,
    "start_time": "2022-08-13T12:52:43.086Z"
   },
   {
    "duration": 1134,
    "start_time": "2022-08-13T12:52:43.650Z"
   },
   {
    "duration": 20,
    "start_time": "2022-08-13T12:52:44.786Z"
   },
   {
    "duration": 9,
    "start_time": "2022-08-13T12:52:44.807Z"
   },
   {
    "duration": 13,
    "start_time": "2022-08-13T12:52:44.818Z"
   },
   {
    "duration": 5,
    "start_time": "2022-08-13T12:52:44.973Z"
   },
   {
    "duration": 11,
    "start_time": "2022-08-13T12:52:45.172Z"
   },
   {
    "duration": 20,
    "start_time": "2022-08-13T12:52:45.976Z"
   },
   {
    "duration": 13,
    "start_time": "2022-08-13T12:52:46.373Z"
   },
   {
    "duration": 192,
    "start_time": "2022-08-13T12:52:46.777Z"
   },
   {
    "duration": 23,
    "start_time": "2022-08-13T12:52:47.525Z"
   },
   {
    "duration": 254,
    "start_time": "2022-08-13T12:52:47.717Z"
   },
   {
    "duration": 1007,
    "start_time": "2022-08-13T12:52:48.264Z"
   },
   {
    "duration": 13,
    "start_time": "2022-08-13T12:52:49.273Z"
   },
   {
    "duration": 1185,
    "start_time": "2022-08-13T12:52:49.743Z"
   },
   {
    "duration": 21,
    "start_time": "2022-08-13T12:52:50.930Z"
   },
   {
    "duration": 30,
    "start_time": "2022-08-13T12:52:51.594Z"
   },
   {
    "duration": 19,
    "start_time": "2022-08-13T12:52:52.073Z"
   },
   {
    "duration": 2357,
    "start_time": "2022-08-13T12:52:52.775Z"
   },
   {
    "duration": 22,
    "start_time": "2022-08-13T12:52:55.134Z"
   },
   {
    "duration": 11,
    "start_time": "2022-08-13T12:52:55.157Z"
   },
   {
    "duration": 1439,
    "start_time": "2022-08-13T12:52:55.170Z"
   },
   {
    "duration": 29,
    "start_time": "2022-08-13T12:52:56.611Z"
   },
   {
    "duration": 1920,
    "start_time": "2022-08-13T12:52:56.642Z"
   },
   {
    "duration": 11,
    "start_time": "2022-08-13T12:52:58.564Z"
   },
   {
    "duration": 5,
    "start_time": "2022-08-13T12:52:58.576Z"
   },
   {
    "duration": 186,
    "start_time": "2022-08-13T12:52:58.583Z"
   },
   {
    "duration": 187,
    "start_time": "2022-08-13T12:52:58.771Z"
   },
   {
    "duration": 19,
    "start_time": "2022-08-13T12:52:58.960Z"
   },
   {
    "duration": 20,
    "start_time": "2022-08-13T12:53:01.653Z"
   },
   {
    "duration": 16,
    "start_time": "2022-08-13T12:53:02.451Z"
   },
   {
    "duration": 3,
    "start_time": "2022-08-13T12:59:19.117Z"
   },
   {
    "duration": 34,
    "start_time": "2022-08-13T12:59:41.617Z"
   },
   {
    "duration": 2,
    "start_time": "2022-08-13T13:00:10.532Z"
   },
   {
    "duration": 204,
    "start_time": "2022-08-13T13:00:11.045Z"
   },
   {
    "duration": 9,
    "start_time": "2022-08-13T13:02:45.295Z"
   },
   {
    "duration": 3,
    "start_time": "2022-08-13T13:03:26.900Z"
   },
   {
    "duration": 2,
    "start_time": "2022-08-13T13:03:41.395Z"
   },
   {
    "duration": 2,
    "start_time": "2022-08-13T13:03:44.451Z"
   },
   {
    "duration": 3,
    "start_time": "2022-08-13T13:03:52.055Z"
   },
   {
    "duration": 3,
    "start_time": "2022-08-13T13:04:00.647Z"
   },
   {
    "duration": 540,
    "start_time": "2022-08-13T13:04:01.182Z"
   },
   {
    "duration": 3,
    "start_time": "2022-08-13T13:04:17.485Z"
   },
   {
    "duration": 3,
    "start_time": "2022-08-13T13:04:18.016Z"
   },
   {
    "duration": 3,
    "start_time": "2022-08-13T13:04:18.274Z"
   },
   {
    "duration": 504,
    "start_time": "2022-08-13T13:04:18.476Z"
   },
   {
    "duration": 612,
    "start_time": "2022-08-13T13:04:43.917Z"
   },
   {
    "duration": 10,
    "start_time": "2022-08-13T13:07:05.053Z"
   },
   {
    "duration": 5050,
    "start_time": "2022-08-13T13:07:41.104Z"
   },
   {
    "duration": 7,
    "start_time": "2022-08-13T13:07:50.407Z"
   },
   {
    "duration": 38,
    "start_time": "2022-08-13T13:07:54.223Z"
   },
   {
    "duration": 4,
    "start_time": "2022-08-13T13:08:08.582Z"
   },
   {
    "duration": 24,
    "start_time": "2022-08-13T13:08:39.285Z"
   },
   {
    "duration": 3,
    "start_time": "2022-08-13T13:10:04.605Z"
   },
   {
    "duration": 3,
    "start_time": "2022-08-13T13:10:05.486Z"
   },
   {
    "duration": 14,
    "start_time": "2022-08-13T13:10:06.094Z"
   },
   {
    "duration": 14,
    "start_time": "2022-08-13T13:10:34.634Z"
   },
   {
    "duration": 22,
    "start_time": "2022-08-13T13:11:18.382Z"
   },
   {
    "duration": 13,
    "start_time": "2022-08-13T13:11:32.900Z"
   },
   {
    "duration": 16,
    "start_time": "2022-08-13T13:11:49.050Z"
   },
   {
    "duration": 15,
    "start_time": "2022-08-13T13:12:00.305Z"
   },
   {
    "duration": 54,
    "start_time": "2022-08-13T13:22:33.563Z"
   },
   {
    "duration": 18,
    "start_time": "2022-08-13T13:23:24.612Z"
   },
   {
    "duration": 3,
    "start_time": "2022-08-13T13:25:14.417Z"
   },
   {
    "duration": 3,
    "start_time": "2022-08-13T13:25:15.265Z"
   },
   {
    "duration": 15,
    "start_time": "2022-08-13T13:25:15.755Z"
   },
   {
    "duration": 14,
    "start_time": "2022-08-13T13:25:16.246Z"
   },
   {
    "duration": 26,
    "start_time": "2022-08-13T13:25:24.486Z"
   },
   {
    "duration": 29,
    "start_time": "2022-08-13T13:26:00.775Z"
   },
   {
    "duration": 33,
    "start_time": "2022-08-13T13:28:58.843Z"
   },
   {
    "duration": 28,
    "start_time": "2022-08-13T13:29:19.218Z"
   },
   {
    "duration": 22,
    "start_time": "2022-08-13T13:29:50.901Z"
   },
   {
    "duration": 11,
    "start_time": "2022-08-13T13:35:01.738Z"
   },
   {
    "duration": 24,
    "start_time": "2022-08-13T13:35:13.838Z"
   },
   {
    "duration": 22,
    "start_time": "2022-08-13T13:35:22.549Z"
   },
   {
    "duration": 11,
    "start_time": "2022-08-13T13:35:50.932Z"
   },
   {
    "duration": 19,
    "start_time": "2022-08-13T13:35:58.887Z"
   },
   {
    "duration": 20,
    "start_time": "2022-08-13T13:36:05.160Z"
   },
   {
    "duration": 26,
    "start_time": "2022-08-13T13:39:49.133Z"
   },
   {
    "duration": 24,
    "start_time": "2022-08-13T13:40:02.702Z"
   },
   {
    "duration": 34,
    "start_time": "2022-08-13T13:41:29.653Z"
   },
   {
    "duration": 33,
    "start_time": "2022-08-13T13:41:46.543Z"
   },
   {
    "duration": 4,
    "start_time": "2022-08-13T13:43:39.050Z"
   },
   {
    "duration": 55,
    "start_time": "2022-08-13T13:47:27.901Z"
   },
   {
    "duration": 53,
    "start_time": "2022-08-13T13:47:35.781Z"
   },
   {
    "duration": 13,
    "start_time": "2022-08-13T13:47:44.035Z"
   },
   {
    "duration": 69,
    "start_time": "2022-08-13T13:47:51.467Z"
   },
   {
    "duration": 30,
    "start_time": "2022-08-13T13:47:57.937Z"
   },
   {
    "duration": 10,
    "start_time": "2022-08-13T13:48:33.989Z"
   },
   {
    "duration": 10,
    "start_time": "2022-08-13T13:48:38.734Z"
   },
   {
    "duration": 4,
    "start_time": "2022-08-13T13:49:28.850Z"
   },
   {
    "duration": 39,
    "start_time": "2022-08-13T13:49:56.952Z"
   },
   {
    "duration": 32,
    "start_time": "2022-08-13T13:50:31.461Z"
   },
   {
    "duration": 3,
    "start_time": "2022-08-13T13:54:04.111Z"
   },
   {
    "duration": 2,
    "start_time": "2022-08-13T13:54:04.597Z"
   },
   {
    "duration": 3,
    "start_time": "2022-08-13T13:54:04.870Z"
   },
   {
    "duration": 26,
    "start_time": "2022-08-13T13:54:05.394Z"
   },
   {
    "duration": 3,
    "start_time": "2022-08-13T13:54:16.896Z"
   },
   {
    "duration": 3,
    "start_time": "2022-08-13T13:54:17.173Z"
   },
   {
    "duration": 25,
    "start_time": "2022-08-13T13:54:17.533Z"
   },
   {
    "duration": 21,
    "start_time": "2022-08-13T13:58:53.570Z"
   },
   {
    "duration": 24,
    "start_time": "2022-08-13T14:01:16.375Z"
   },
   {
    "duration": 10,
    "start_time": "2022-08-13T14:14:20.047Z"
   },
   {
    "duration": 4,
    "start_time": "2022-08-13T14:14:23.100Z"
   },
   {
    "duration": 3,
    "start_time": "2022-08-13T14:15:29.508Z"
   },
   {
    "duration": 92,
    "start_time": "2022-08-13T14:16:29.395Z"
   },
   {
    "duration": 94,
    "start_time": "2022-08-13T14:16:38.280Z"
   },
   {
    "duration": 103,
    "start_time": "2022-08-13T14:16:54.285Z"
   },
   {
    "duration": 159,
    "start_time": "2022-08-13T14:17:21.441Z"
   },
   {
    "duration": 124,
    "start_time": "2022-08-13T14:17:43.781Z"
   },
   {
    "duration": 4,
    "start_time": "2022-08-13T14:18:26.045Z"
   },
   {
    "duration": 34,
    "start_time": "2022-08-13T14:18:34.178Z"
   },
   {
    "duration": 32,
    "start_time": "2022-08-13T14:18:59.144Z"
   },
   {
    "duration": 117,
    "start_time": "2022-08-13T14:19:08.439Z"
   },
   {
    "duration": 31,
    "start_time": "2022-08-13T14:20:46.592Z"
   },
   {
    "duration": 1762,
    "start_time": "2022-08-13T14:22:07.140Z"
   },
   {
    "duration": 37,
    "start_time": "2022-08-13T14:22:10.755Z"
   },
   {
    "duration": 1075,
    "start_time": "2022-08-13T14:22:46.913Z"
   },
   {
    "duration": 35,
    "start_time": "2022-08-13T14:22:49.195Z"
   },
   {
    "duration": 3375,
    "start_time": "2022-08-13T14:23:03.638Z"
   },
   {
    "duration": 36,
    "start_time": "2022-08-13T14:23:09.879Z"
   },
   {
    "duration": 117,
    "start_time": "2022-08-13T14:23:36.493Z"
   },
   {
    "duration": 86,
    "start_time": "2022-08-13T14:24:48.771Z"
   },
   {
    "duration": 105,
    "start_time": "2022-08-13T14:24:54.099Z"
   },
   {
    "duration": 109,
    "start_time": "2022-08-13T14:24:59.658Z"
   },
   {
    "duration": 113,
    "start_time": "2022-08-13T14:25:23.063Z"
   },
   {
    "duration": 177,
    "start_time": "2022-08-13T14:28:29.977Z"
   },
   {
    "duration": 174,
    "start_time": "2022-08-13T14:29:08.765Z"
   },
   {
    "duration": 157,
    "start_time": "2022-08-13T14:29:16.466Z"
   },
   {
    "duration": 167,
    "start_time": "2022-08-13T14:29:37.258Z"
   },
   {
    "duration": 177,
    "start_time": "2022-08-13T14:30:30.969Z"
   },
   {
    "duration": 25,
    "start_time": "2022-08-13T14:34:18.938Z"
   },
   {
    "duration": 3,
    "start_time": "2022-08-13T14:39:57.068Z"
   },
   {
    "duration": 169,
    "start_time": "2022-08-13T14:39:57.699Z"
   },
   {
    "duration": 16,
    "start_time": "2022-08-13T14:42:05.469Z"
   },
   {
    "duration": 709,
    "start_time": "2022-08-13T14:42:46.009Z"
   },
   {
    "duration": 44,
    "start_time": "2022-08-13T14:49:11.180Z"
   },
   {
    "duration": 2,
    "start_time": "2022-08-13T14:52:15.598Z"
   },
   {
    "duration": 4,
    "start_time": "2022-08-14T06:22:18.918Z"
   },
   {
    "duration": 1616,
    "start_time": "2022-08-14T06:22:19.324Z"
   },
   {
    "duration": 0,
    "start_time": "2022-08-14T06:22:20.941Z"
   },
   {
    "duration": 0,
    "start_time": "2022-08-14T06:22:20.943Z"
   },
   {
    "duration": 0,
    "start_time": "2022-08-14T06:22:20.944Z"
   },
   {
    "duration": 9,
    "start_time": "2022-08-14T06:22:21.161Z"
   },
   {
    "duration": 9,
    "start_time": "2022-08-14T06:22:21.473Z"
   },
   {
    "duration": 4932,
    "start_time": "2022-08-14T06:22:34.243Z"
   },
   {
    "duration": 9,
    "start_time": "2022-08-14T06:22:58.974Z"
   },
   {
    "duration": 82,
    "start_time": "2022-08-14T06:23:06.610Z"
   },
   {
    "duration": 17,
    "start_time": "2022-08-14T06:23:07.451Z"
   },
   {
    "duration": 12,
    "start_time": "2022-08-14T06:23:08.142Z"
   },
   {
    "duration": 3,
    "start_time": "2022-08-14T06:23:08.659Z"
   },
   {
    "duration": 3,
    "start_time": "2022-08-14T06:23:09.097Z"
   },
   {
    "duration": 6,
    "start_time": "2022-08-14T06:23:10.366Z"
   },
   {
    "duration": 5,
    "start_time": "2022-08-14T06:23:12.697Z"
   },
   {
    "duration": 11,
    "start_time": "2022-08-14T06:23:13.306Z"
   },
   {
    "duration": 10,
    "start_time": "2022-08-14T06:23:14.183Z"
   },
   {
    "duration": 16,
    "start_time": "2022-08-14T06:23:15.111Z"
   },
   {
    "duration": 15,
    "start_time": "2022-08-14T06:23:15.889Z"
   },
   {
    "duration": 3,
    "start_time": "2022-08-14T06:23:16.782Z"
   },
   {
    "duration": 3,
    "start_time": "2022-08-14T06:23:16.987Z"
   },
   {
    "duration": 3,
    "start_time": "2022-08-14T06:23:17.184Z"
   },
   {
    "duration": 5,
    "start_time": "2022-08-14T06:23:17.351Z"
   },
   {
    "duration": 12,
    "start_time": "2022-08-14T06:23:17.505Z"
   },
   {
    "duration": 10,
    "start_time": "2022-08-14T06:23:17.677Z"
   },
   {
    "duration": 11,
    "start_time": "2022-08-14T06:23:18.000Z"
   },
   {
    "duration": 12,
    "start_time": "2022-08-14T06:23:18.320Z"
   },
   {
    "duration": 4,
    "start_time": "2022-08-14T06:23:18.849Z"
   },
   {
    "duration": 7,
    "start_time": "2022-08-14T06:23:19.017Z"
   },
   {
    "duration": 10,
    "start_time": "2022-08-14T06:23:19.163Z"
   },
   {
    "duration": 950,
    "start_time": "2022-08-14T06:23:19.575Z"
   },
   {
    "duration": 12,
    "start_time": "2022-08-14T06:23:20.527Z"
   },
   {
    "duration": 10,
    "start_time": "2022-08-14T06:23:20.540Z"
   },
   {
    "duration": 13,
    "start_time": "2022-08-14T06:23:20.726Z"
   },
   {
    "duration": 11,
    "start_time": "2022-08-14T06:23:21.059Z"
   },
   {
    "duration": 3,
    "start_time": "2022-08-14T06:23:21.589Z"
   },
   {
    "duration": 2,
    "start_time": "2022-08-14T06:23:21.749Z"
   },
   {
    "duration": 2,
    "start_time": "2022-08-14T06:23:21.899Z"
   },
   {
    "duration": 5,
    "start_time": "2022-08-14T06:23:22.064Z"
   },
   {
    "duration": 4,
    "start_time": "2022-08-14T06:23:22.248Z"
   },
   {
    "duration": 6,
    "start_time": "2022-08-14T06:23:22.465Z"
   },
   {
    "duration": 4,
    "start_time": "2022-08-14T06:23:22.626Z"
   },
   {
    "duration": 11,
    "start_time": "2022-08-14T06:23:22.792Z"
   },
   {
    "duration": 252,
    "start_time": "2022-08-14T06:23:23.145Z"
   },
   {
    "duration": 1161,
    "start_time": "2022-08-14T06:23:24.073Z"
   },
   {
    "duration": 10,
    "start_time": "2022-08-14T06:23:25.236Z"
   },
   {
    "duration": 7,
    "start_time": "2022-08-14T06:23:25.248Z"
   },
   {
    "duration": 10,
    "start_time": "2022-08-14T06:23:25.261Z"
   },
   {
    "duration": 4,
    "start_time": "2022-08-14T06:23:25.660Z"
   },
   {
    "duration": 11,
    "start_time": "2022-08-14T06:23:25.838Z"
   },
   {
    "duration": 18,
    "start_time": "2022-08-14T06:23:26.760Z"
   },
   {
    "duration": 13,
    "start_time": "2022-08-14T06:23:27.170Z"
   },
   {
    "duration": 215,
    "start_time": "2022-08-14T06:23:27.565Z"
   },
   {
    "duration": 19,
    "start_time": "2022-08-14T06:23:28.553Z"
   },
   {
    "duration": 295,
    "start_time": "2022-08-14T06:23:28.763Z"
   },
   {
    "duration": 1099,
    "start_time": "2022-08-14T06:23:29.282Z"
   },
   {
    "duration": 15,
    "start_time": "2022-08-14T06:23:30.383Z"
   },
   {
    "duration": 1294,
    "start_time": "2022-08-14T06:23:30.873Z"
   },
   {
    "duration": 30,
    "start_time": "2022-08-14T06:23:32.169Z"
   },
   {
    "duration": 22,
    "start_time": "2022-08-14T06:23:32.200Z"
   },
   {
    "duration": 20,
    "start_time": "2022-08-14T06:23:32.284Z"
   },
   {
    "duration": 2332,
    "start_time": "2022-08-14T06:23:32.942Z"
   },
   {
    "duration": 25,
    "start_time": "2022-08-14T06:23:35.276Z"
   },
   {
    "duration": 12,
    "start_time": "2022-08-14T06:23:35.302Z"
   },
   {
    "duration": 1469,
    "start_time": "2022-08-14T06:23:35.563Z"
   },
   {
    "duration": 28,
    "start_time": "2022-08-14T06:23:37.034Z"
   },
   {
    "duration": 1958,
    "start_time": "2022-08-14T06:23:37.064Z"
   },
   {
    "duration": 11,
    "start_time": "2022-08-14T06:23:39.024Z"
   },
   {
    "duration": 6,
    "start_time": "2022-08-14T06:23:39.036Z"
   },
   {
    "duration": 195,
    "start_time": "2022-08-14T06:23:39.043Z"
   },
   {
    "duration": 185,
    "start_time": "2022-08-14T06:23:39.240Z"
   },
   {
    "duration": 20,
    "start_time": "2022-08-14T06:23:39.427Z"
   },
   {
    "duration": 22,
    "start_time": "2022-08-14T06:23:41.374Z"
   },
   {
    "duration": 3,
    "start_time": "2022-08-14T06:23:42.880Z"
   },
   {
    "duration": 3,
    "start_time": "2022-08-14T06:23:43.195Z"
   },
   {
    "duration": 4,
    "start_time": "2022-08-14T06:23:44.565Z"
   },
   {
    "duration": 3,
    "start_time": "2022-08-14T06:23:44.819Z"
   },
   {
    "duration": 322,
    "start_time": "2022-08-14T06:23:45.634Z"
   },
   {
    "duration": 7,
    "start_time": "2022-08-14T06:43:23.415Z"
   },
   {
    "duration": 7,
    "start_time": "2022-08-14T06:43:31.894Z"
   },
   {
    "duration": 8,
    "start_time": "2022-08-14T06:44:06.950Z"
   },
   {
    "duration": 8,
    "start_time": "2022-08-14T06:44:20.656Z"
   },
   {
    "duration": 7,
    "start_time": "2022-08-14T06:44:28.957Z"
   },
   {
    "duration": 8,
    "start_time": "2022-08-14T06:45:34.088Z"
   },
   {
    "duration": 9,
    "start_time": "2022-08-14T06:45:40.043Z"
   },
   {
    "duration": 7,
    "start_time": "2022-08-14T06:47:36.978Z"
   },
   {
    "duration": 8,
    "start_time": "2022-08-14T06:47:44.585Z"
   },
   {
    "duration": 7,
    "start_time": "2022-08-14T06:52:08.258Z"
   },
   {
    "duration": 10,
    "start_time": "2022-08-14T06:52:16.380Z"
   },
   {
    "duration": 7,
    "start_time": "2022-08-14T06:52:33.529Z"
   },
   {
    "duration": 7,
    "start_time": "2022-08-14T06:52:39.879Z"
   },
   {
    "duration": 8,
    "start_time": "2022-08-14T06:53:10.622Z"
   },
   {
    "duration": 9,
    "start_time": "2022-08-14T06:53:17.835Z"
   },
   {
    "duration": 8,
    "start_time": "2022-08-14T06:53:49.369Z"
   },
   {
    "duration": 8,
    "start_time": "2022-08-14T06:54:01.276Z"
   },
   {
    "duration": 10,
    "start_time": "2022-08-14T06:54:32.796Z"
   },
   {
    "duration": 9,
    "start_time": "2022-08-14T06:54:40.096Z"
   },
   {
    "duration": 9,
    "start_time": "2022-08-14T06:55:13.290Z"
   },
   {
    "duration": 9,
    "start_time": "2022-08-14T06:55:15.465Z"
   },
   {
    "duration": 9,
    "start_time": "2022-08-14T06:55:27.065Z"
   },
   {
    "duration": 8,
    "start_time": "2022-08-14T06:55:29.431Z"
   },
   {
    "duration": 8,
    "start_time": "2022-08-14T06:55:48.673Z"
   },
   {
    "duration": 10,
    "start_time": "2022-08-14T06:55:50.925Z"
   },
   {
    "duration": 2027,
    "start_time": "2022-08-14T10:41:50.347Z"
   },
   {
    "duration": 6,
    "start_time": "2022-08-14T10:41:58.131Z"
   },
   {
    "duration": 46,
    "start_time": "2022-08-14T10:41:58.770Z"
   },
   {
    "duration": 13,
    "start_time": "2022-08-14T10:41:59.354Z"
   },
   {
    "duration": 13,
    "start_time": "2022-08-14T10:41:59.712Z"
   },
   {
    "duration": 3,
    "start_time": "2022-08-14T10:42:00.044Z"
   },
   {
    "duration": 3,
    "start_time": "2022-08-14T10:42:00.330Z"
   },
   {
    "duration": 14,
    "start_time": "2022-08-14T10:42:00.585Z"
   },
   {
    "duration": 6,
    "start_time": "2022-08-14T10:42:01.708Z"
   },
   {
    "duration": 11,
    "start_time": "2022-08-14T10:42:01.900Z"
   },
   {
    "duration": 11,
    "start_time": "2022-08-14T10:42:02.346Z"
   },
   {
    "duration": 14,
    "start_time": "2022-08-14T10:42:02.767Z"
   },
   {
    "duration": 14,
    "start_time": "2022-08-14T10:42:03.146Z"
   },
   {
    "duration": 2,
    "start_time": "2022-08-14T10:42:03.739Z"
   },
   {
    "duration": 4,
    "start_time": "2022-08-14T10:42:03.947Z"
   },
   {
    "duration": 3,
    "start_time": "2022-08-14T10:42:04.220Z"
   },
   {
    "duration": 5,
    "start_time": "2022-08-14T10:42:04.426Z"
   },
   {
    "duration": 13,
    "start_time": "2022-08-14T10:42:04.649Z"
   },
   {
    "duration": 15,
    "start_time": "2022-08-14T10:42:04.882Z"
   },
   {
    "duration": 11,
    "start_time": "2022-08-14T10:42:05.300Z"
   },
   {
    "duration": 12,
    "start_time": "2022-08-14T10:42:05.742Z"
   },
   {
    "duration": 4,
    "start_time": "2022-08-14T10:42:06.426Z"
   },
   {
    "duration": 9,
    "start_time": "2022-08-14T10:42:06.627Z"
   },
   {
    "duration": 8,
    "start_time": "2022-08-14T10:42:06.826Z"
   },
   {
    "duration": 1016,
    "start_time": "2022-08-14T10:42:07.243Z"
   },
   {
    "duration": 14,
    "start_time": "2022-08-14T10:42:08.260Z"
   },
   {
    "duration": 17,
    "start_time": "2022-08-14T10:42:08.286Z"
   },
   {
    "duration": 12,
    "start_time": "2022-08-14T10:42:08.639Z"
   },
   {
    "duration": 11,
    "start_time": "2022-08-14T10:42:09.202Z"
   },
   {
    "duration": 2,
    "start_time": "2022-08-14T10:42:10.019Z"
   },
   {
    "duration": 3,
    "start_time": "2022-08-14T10:42:10.333Z"
   },
   {
    "duration": 2,
    "start_time": "2022-08-14T10:42:10.609Z"
   },
   {
    "duration": 6,
    "start_time": "2022-08-14T10:42:10.907Z"
   },
   {
    "duration": 4,
    "start_time": "2022-08-14T10:42:11.221Z"
   },
   {
    "duration": 7,
    "start_time": "2022-08-14T10:42:11.499Z"
   },
   {
    "duration": 4,
    "start_time": "2022-08-14T10:42:11.803Z"
   },
   {
    "duration": 12,
    "start_time": "2022-08-14T10:42:12.133Z"
   },
   {
    "duration": 273,
    "start_time": "2022-08-14T10:42:12.765Z"
   },
   {
    "duration": 1181,
    "start_time": "2022-08-14T10:42:13.664Z"
   },
   {
    "duration": 12,
    "start_time": "2022-08-14T10:42:14.847Z"
   },
   {
    "duration": 9,
    "start_time": "2022-08-14T10:42:14.918Z"
   },
   {
    "duration": 10,
    "start_time": "2022-08-14T10:42:15.270Z"
   },
   {
    "duration": 5,
    "start_time": "2022-08-14T10:42:16.010Z"
   },
   {
    "duration": 14,
    "start_time": "2022-08-14T10:42:16.387Z"
   },
   {
    "duration": 19,
    "start_time": "2022-08-14T10:42:17.706Z"
   },
   {
    "duration": 13,
    "start_time": "2022-08-14T10:42:18.448Z"
   },
   {
    "duration": 216,
    "start_time": "2022-08-14T10:42:19.095Z"
   },
   {
    "duration": 21,
    "start_time": "2022-08-14T10:42:20.430Z"
   },
   {
    "duration": 298,
    "start_time": "2022-08-14T10:42:20.706Z"
   },
   {
    "duration": 1192,
    "start_time": "2022-08-14T10:42:21.560Z"
   },
   {
    "duration": 15,
    "start_time": "2022-08-14T10:42:23.866Z"
   },
   {
    "duration": 1505,
    "start_time": "2022-08-14T10:42:24.654Z"
   },
   {
    "duration": 37,
    "start_time": "2022-08-14T10:42:26.161Z"
   },
   {
    "duration": 35,
    "start_time": "2022-08-14T10:42:26.206Z"
   },
   {
    "duration": 24,
    "start_time": "2022-08-14T10:42:26.328Z"
   },
   {
    "duration": 2679,
    "start_time": "2022-08-14T10:42:27.082Z"
   },
   {
    "duration": 39,
    "start_time": "2022-08-14T10:42:29.763Z"
   },
   {
    "duration": 14,
    "start_time": "2022-08-14T10:42:29.804Z"
   },
   {
    "duration": 1345,
    "start_time": "2022-08-14T10:42:29.820Z"
   },
   {
    "duration": 35,
    "start_time": "2022-08-14T10:42:31.167Z"
   },
   {
    "duration": 2132,
    "start_time": "2022-08-14T10:42:31.204Z"
   },
   {
    "duration": 12,
    "start_time": "2022-08-14T10:42:33.338Z"
   },
   {
    "duration": 4,
    "start_time": "2022-08-14T10:42:33.352Z"
   },
   {
    "duration": 212,
    "start_time": "2022-08-14T10:42:33.357Z"
   },
   {
    "duration": 194,
    "start_time": "2022-08-14T10:42:33.571Z"
   },
   {
    "duration": 34,
    "start_time": "2022-08-14T10:42:33.767Z"
   },
   {
    "duration": 21,
    "start_time": "2022-08-14T10:42:35.463Z"
   },
   {
    "duration": 3,
    "start_time": "2022-08-14T10:42:37.255Z"
   },
   {
    "duration": 3,
    "start_time": "2022-08-14T10:42:37.600Z"
   },
   {
    "duration": 5,
    "start_time": "2022-08-14T10:42:38.310Z"
   },
   {
    "duration": 3,
    "start_time": "2022-08-14T10:42:38.627Z"
   },
   {
    "duration": 186,
    "start_time": "2022-08-14T10:42:38.965Z"
   },
   {
    "duration": 16,
    "start_time": "2022-08-14T10:46:08.052Z"
   },
   {
    "duration": 12,
    "start_time": "2022-08-14T10:46:14.208Z"
   },
   {
    "duration": 8,
    "start_time": "2022-08-14T10:46:29.500Z"
   },
   {
    "duration": 13,
    "start_time": "2022-08-14T10:48:04.258Z"
   },
   {
    "duration": 5,
    "start_time": "2022-08-14T10:48:26.669Z"
   },
   {
    "duration": 11,
    "start_time": "2022-08-14T10:48:35.941Z"
   },
   {
    "duration": 9,
    "start_time": "2022-08-14T10:48:46.240Z"
   },
   {
    "duration": 158,
    "start_time": "2022-08-14T11:05:37.159Z"
   },
   {
    "duration": 163,
    "start_time": "2022-08-14T11:06:11.786Z"
   },
   {
    "duration": 14,
    "start_time": "2022-08-14T11:41:09.317Z"
   },
   {
    "duration": 5,
    "start_time": "2022-08-14T11:41:58.890Z"
   },
   {
    "duration": 26,
    "start_time": "2022-08-14T11:42:04.040Z"
   },
   {
    "duration": 7,
    "start_time": "2022-08-14T11:47:33.042Z"
   },
   {
    "duration": 7,
    "start_time": "2022-08-14T11:47:42.801Z"
   },
   {
    "duration": 7,
    "start_time": "2022-08-14T11:47:52.300Z"
   },
   {
    "duration": 7,
    "start_time": "2022-08-14T11:47:58.098Z"
   },
   {
    "duration": 8,
    "start_time": "2022-08-14T11:48:02.153Z"
   },
   {
    "duration": 9,
    "start_time": "2022-08-14T11:48:12.537Z"
   },
   {
    "duration": 7,
    "start_time": "2022-08-14T11:48:16.927Z"
   },
   {
    "duration": 8,
    "start_time": "2022-08-14T11:48:23.784Z"
   },
   {
    "duration": 7,
    "start_time": "2022-08-14T11:48:38.278Z"
   },
   {
    "duration": 9,
    "start_time": "2022-08-14T11:49:40.218Z"
   },
   {
    "duration": 10,
    "start_time": "2022-08-14T11:49:45.591Z"
   },
   {
    "duration": 8,
    "start_time": "2022-08-14T11:49:52.319Z"
   },
   {
    "duration": 9,
    "start_time": "2022-08-14T11:50:14.543Z"
   },
   {
    "duration": 8,
    "start_time": "2022-08-14T11:50:19.619Z"
   },
   {
    "duration": 47,
    "start_time": "2022-08-14T11:51:08.376Z"
   },
   {
    "duration": 4,
    "start_time": "2022-08-14T11:51:12.913Z"
   },
   {
    "duration": 1164,
    "start_time": "2022-08-14T11:52:34.536Z"
   },
   {
    "duration": 194,
    "start_time": "2022-08-14T11:52:52.222Z"
   },
   {
    "duration": 4,
    "start_time": "2022-08-14T12:21:26.556Z"
   },
   {
    "duration": 3,
    "start_time": "2022-08-14T12:24:44.156Z"
   },
   {
    "duration": 420,
    "start_time": "2022-08-14T12:24:45.491Z"
   },
   {
    "duration": 7,
    "start_time": "2022-08-14T12:26:28.029Z"
   },
   {
    "duration": 458,
    "start_time": "2022-08-14T12:26:57.050Z"
   },
   {
    "duration": 536,
    "start_time": "2022-08-14T12:27:09.305Z"
   },
   {
    "duration": 414,
    "start_time": "2022-08-14T12:27:44.705Z"
   },
   {
    "duration": 385,
    "start_time": "2022-08-14T12:27:56.961Z"
   },
   {
    "duration": 392,
    "start_time": "2022-08-14T12:28:43.506Z"
   },
   {
    "duration": 59,
    "start_time": "2022-08-14T12:30:08.073Z"
   },
   {
    "duration": 13,
    "start_time": "2022-08-14T12:34:05.830Z"
   },
   {
    "duration": 5,
    "start_time": "2022-08-14T12:34:12.458Z"
   },
   {
    "duration": 6,
    "start_time": "2022-08-14T12:34:16.319Z"
   },
   {
    "duration": 4,
    "start_time": "2022-08-14T12:34:41.421Z"
   },
   {
    "duration": 5,
    "start_time": "2022-08-14T12:34:45.962Z"
   },
   {
    "duration": 10,
    "start_time": "2022-08-14T12:40:59.607Z"
   },
   {
    "duration": 6,
    "start_time": "2022-08-14T12:41:23.420Z"
   },
   {
    "duration": 6,
    "start_time": "2022-08-14T12:42:03.492Z"
   },
   {
    "duration": 6,
    "start_time": "2022-08-14T12:51:58.976Z"
   },
   {
    "duration": 5,
    "start_time": "2022-08-14T12:52:23.012Z"
   },
   {
    "duration": 83,
    "start_time": "2022-08-14T12:53:38.224Z"
   },
   {
    "duration": 21,
    "start_time": "2022-08-14T14:08:16.723Z"
   },
   {
    "duration": 8,
    "start_time": "2022-08-14T14:11:17.137Z"
   },
   {
    "duration": 7,
    "start_time": "2022-08-14T14:12:09.003Z"
   },
   {
    "duration": 7,
    "start_time": "2022-08-14T14:13:53.004Z"
   },
   {
    "duration": 7,
    "start_time": "2022-08-14T14:13:57.746Z"
   },
   {
    "duration": 8,
    "start_time": "2022-08-14T14:14:04.863Z"
   },
   {
    "duration": 8,
    "start_time": "2022-08-14T14:14:11.968Z"
   },
   {
    "duration": 7,
    "start_time": "2022-08-14T14:15:13.763Z"
   },
   {
    "duration": 2326,
    "start_time": "2022-08-14T15:30:45.322Z"
   },
   {
    "duration": 4,
    "start_time": "2022-08-14T15:30:52.186Z"
   },
   {
    "duration": 51,
    "start_time": "2022-08-14T15:30:52.927Z"
   },
   {
    "duration": 12,
    "start_time": "2022-08-14T15:30:53.532Z"
   },
   {
    "duration": 15,
    "start_time": "2022-08-14T15:30:53.813Z"
   },
   {
    "duration": 3,
    "start_time": "2022-08-14T15:30:54.049Z"
   },
   {
    "duration": 3,
    "start_time": "2022-08-14T15:30:54.490Z"
   },
   {
    "duration": 4,
    "start_time": "2022-08-14T15:30:54.739Z"
   },
   {
    "duration": 5,
    "start_time": "2022-08-14T15:30:56.018Z"
   },
   {
    "duration": 16,
    "start_time": "2022-08-14T15:30:56.287Z"
   },
   {
    "duration": 11,
    "start_time": "2022-08-14T15:30:56.829Z"
   },
   {
    "duration": 15,
    "start_time": "2022-08-14T15:30:57.286Z"
   },
   {
    "duration": 14,
    "start_time": "2022-08-14T15:30:57.728Z"
   },
   {
    "duration": 2,
    "start_time": "2022-08-14T15:30:58.496Z"
   },
   {
    "duration": 3,
    "start_time": "2022-08-14T15:30:58.755Z"
   },
   {
    "duration": 3,
    "start_time": "2022-08-14T15:30:59.020Z"
   },
   {
    "duration": 5,
    "start_time": "2022-08-14T15:30:59.244Z"
   },
   {
    "duration": 13,
    "start_time": "2022-08-14T15:30:59.518Z"
   },
   {
    "duration": 11,
    "start_time": "2022-08-14T15:31:00.392Z"
   },
   {
    "duration": 11,
    "start_time": "2022-08-14T15:31:01.464Z"
   },
   {
    "duration": 12,
    "start_time": "2022-08-14T15:31:02.154Z"
   },
   {
    "duration": 3,
    "start_time": "2022-08-14T15:31:03.212Z"
   },
   {
    "duration": 7,
    "start_time": "2022-08-14T15:31:03.495Z"
   },
   {
    "duration": 9,
    "start_time": "2022-08-14T15:31:03.922Z"
   },
   {
    "duration": 1176,
    "start_time": "2022-08-14T15:31:06.951Z"
   },
   {
    "duration": 14,
    "start_time": "2022-08-14T15:31:09.684Z"
   },
   {
    "duration": 13,
    "start_time": "2022-08-14T15:31:11.046Z"
   },
   {
    "duration": 13,
    "start_time": "2022-08-14T15:31:12.051Z"
   },
   {
    "duration": 11,
    "start_time": "2022-08-14T15:31:13.181Z"
   },
   {
    "duration": 2,
    "start_time": "2022-08-14T15:31:17.552Z"
   },
   {
    "duration": 2,
    "start_time": "2022-08-14T15:31:21.882Z"
   },
   {
    "duration": 5,
    "start_time": "2022-08-14T15:31:22.264Z"
   },
   {
    "duration": 4,
    "start_time": "2022-08-14T15:31:22.550Z"
   },
   {
    "duration": 6,
    "start_time": "2022-08-14T15:31:22.839Z"
   },
   {
    "duration": 4,
    "start_time": "2022-08-14T15:31:23.098Z"
   },
   {
    "duration": 11,
    "start_time": "2022-08-14T15:31:23.471Z"
   },
   {
    "duration": 267,
    "start_time": "2022-08-14T15:31:24.119Z"
   },
   {
    "duration": 1233,
    "start_time": "2022-08-14T15:31:25.022Z"
   },
   {
    "duration": 14,
    "start_time": "2022-08-14T15:31:26.257Z"
   },
   {
    "duration": 10,
    "start_time": "2022-08-14T15:31:26.288Z"
   },
   {
    "duration": 16,
    "start_time": "2022-08-14T15:31:26.331Z"
   },
   {
    "duration": 4,
    "start_time": "2022-08-14T15:31:27.714Z"
   },
   {
    "duration": 11,
    "start_time": "2022-08-14T15:31:27.939Z"
   },
   {
    "duration": 17,
    "start_time": "2022-08-14T15:31:28.836Z"
   },
   {
    "duration": 16,
    "start_time": "2022-08-14T15:31:29.334Z"
   },
   {
    "duration": 210,
    "start_time": "2022-08-14T15:31:29.777Z"
   },
   {
    "duration": 21,
    "start_time": "2022-08-14T15:31:30.700Z"
   },
   {
    "duration": 317,
    "start_time": "2022-08-14T15:31:30.940Z"
   },
   {
    "duration": 1094,
    "start_time": "2022-08-14T15:31:31.730Z"
   },
   {
    "duration": 16,
    "start_time": "2022-08-14T15:31:32.826Z"
   },
   {
    "duration": 1513,
    "start_time": "2022-08-14T15:31:33.396Z"
   },
   {
    "duration": 29,
    "start_time": "2022-08-14T15:31:34.911Z"
   },
   {
    "duration": 25,
    "start_time": "2022-08-14T15:31:34.942Z"
   },
   {
    "duration": 34,
    "start_time": "2022-08-14T15:31:34.971Z"
   },
   {
    "duration": 2576,
    "start_time": "2022-08-14T15:31:35.615Z"
   },
   {
    "duration": 19,
    "start_time": "2022-08-14T15:31:38.194Z"
   },
   {
    "duration": 13,
    "start_time": "2022-08-14T15:31:38.215Z"
   },
   {
    "duration": 1247,
    "start_time": "2022-08-14T15:31:38.230Z"
   },
   {
    "duration": 32,
    "start_time": "2022-08-14T15:31:39.479Z"
   },
   {
    "duration": 2196,
    "start_time": "2022-08-14T15:31:39.514Z"
   },
   {
    "duration": 11,
    "start_time": "2022-08-14T15:31:41.711Z"
   },
   {
    "duration": 5,
    "start_time": "2022-08-14T15:31:41.724Z"
   },
   {
    "duration": 234,
    "start_time": "2022-08-14T15:31:41.730Z"
   },
   {
    "duration": 204,
    "start_time": "2022-08-14T15:31:41.965Z"
   },
   {
    "duration": 30,
    "start_time": "2022-08-14T15:31:42.170Z"
   },
   {
    "duration": 21,
    "start_time": "2022-08-14T15:31:42.309Z"
   },
   {
    "duration": 3,
    "start_time": "2022-08-14T15:31:43.155Z"
   },
   {
    "duration": 3,
    "start_time": "2022-08-14T15:31:43.365Z"
   },
   {
    "duration": 4,
    "start_time": "2022-08-14T15:31:43.809Z"
   },
   {
    "duration": 3,
    "start_time": "2022-08-14T15:31:44.059Z"
   },
   {
    "duration": 193,
    "start_time": "2022-08-14T15:31:44.244Z"
   },
   {
    "duration": 3,
    "start_time": "2022-08-14T15:31:48.924Z"
   },
   {
    "duration": 6,
    "start_time": "2022-08-14T15:31:49.425Z"
   },
   {
    "duration": 387,
    "start_time": "2022-08-14T15:31:50.075Z"
   },
   {
    "duration": 416,
    "start_time": "2022-08-14T15:31:50.464Z"
   },
   {
    "duration": 5,
    "start_time": "2022-08-14T15:31:51.873Z"
   },
   {
    "duration": 5,
    "start_time": "2022-08-14T15:31:52.482Z"
   },
   {
    "duration": 6,
    "start_time": "2022-08-14T15:31:54.735Z"
   },
   {
    "duration": 6,
    "start_time": "2022-08-14T15:31:55.045Z"
   },
   {
    "duration": 165,
    "start_time": "2022-08-16T11:08:59.676Z"
   },
   {
    "duration": 82,
    "start_time": "2022-08-16T11:12:17.467Z"
   },
   {
    "duration": 120,
    "start_time": "2022-08-16T11:13:01.388Z"
   },
   {
    "duration": 85,
    "start_time": "2022-08-16T11:15:35.818Z"
   },
   {
    "duration": 84,
    "start_time": "2022-08-16T11:16:48.327Z"
   },
   {
    "duration": 87,
    "start_time": "2022-08-16T11:17:18.356Z"
   },
   {
    "duration": 5357,
    "start_time": "2022-08-16T12:29:47.416Z"
   },
   {
    "duration": 1496,
    "start_time": "2022-08-16T12:29:58.117Z"
   },
   {
    "duration": 155,
    "start_time": "2022-08-16T12:30:02.128Z"
   },
   {
    "duration": 15,
    "start_time": "2022-08-16T12:30:03.271Z"
   },
   {
    "duration": 16,
    "start_time": "2022-08-16T12:30:04.216Z"
   },
   {
    "duration": 3,
    "start_time": "2022-08-16T12:30:04.728Z"
   },
   {
    "duration": 5,
    "start_time": "2022-08-16T12:30:05.167Z"
   },
   {
    "duration": 4,
    "start_time": "2022-08-16T12:30:05.549Z"
   },
   {
    "duration": 5,
    "start_time": "2022-08-16T12:30:09.289Z"
   },
   {
    "duration": 17,
    "start_time": "2022-08-16T12:30:10.251Z"
   },
   {
    "duration": 11,
    "start_time": "2022-08-16T12:30:11.313Z"
   },
   {
    "duration": 15,
    "start_time": "2022-08-16T12:30:13.298Z"
   },
   {
    "duration": 16,
    "start_time": "2022-08-16T12:30:18.076Z"
   },
   {
    "duration": 2,
    "start_time": "2022-08-16T12:30:24.907Z"
   },
   {
    "duration": 4,
    "start_time": "2022-08-16T12:30:25.986Z"
   },
   {
    "duration": 3,
    "start_time": "2022-08-16T12:30:26.915Z"
   },
   {
    "duration": 6,
    "start_time": "2022-08-16T12:30:29.848Z"
   },
   {
    "duration": 15,
    "start_time": "2022-08-16T12:30:30.706Z"
   },
   {
    "duration": 12,
    "start_time": "2022-08-16T12:30:31.495Z"
   },
   {
    "duration": 13,
    "start_time": "2022-08-16T12:30:32.547Z"
   },
   {
    "duration": 13,
    "start_time": "2022-08-16T12:30:33.734Z"
   },
   {
    "duration": 3,
    "start_time": "2022-08-16T12:30:35.442Z"
   },
   {
    "duration": 10,
    "start_time": "2022-08-16T12:30:35.798Z"
   },
   {
    "duration": 9,
    "start_time": "2022-08-16T12:30:36.161Z"
   },
   {
    "duration": 915,
    "start_time": "2022-08-16T12:30:37.582Z"
   },
   {
    "duration": 15,
    "start_time": "2022-08-16T12:30:39.600Z"
   },
   {
    "duration": 13,
    "start_time": "2022-08-16T12:30:40.527Z"
   },
   {
    "duration": 11,
    "start_time": "2022-08-16T12:30:41.375Z"
   },
   {
    "duration": 11,
    "start_time": "2022-08-16T12:30:42.142Z"
   },
   {
    "duration": 3,
    "start_time": "2022-08-16T12:30:43.953Z"
   },
   {
    "duration": 3,
    "start_time": "2022-08-16T12:30:45.468Z"
   },
   {
    "duration": 5,
    "start_time": "2022-08-16T12:30:47.989Z"
   },
   {
    "duration": 4,
    "start_time": "2022-08-16T12:30:49.221Z"
   },
   {
    "duration": 7,
    "start_time": "2022-08-16T12:30:50.198Z"
   },
   {
    "duration": 5,
    "start_time": "2022-08-16T12:30:51.246Z"
   },
   {
    "duration": 12,
    "start_time": "2022-08-16T12:30:52.199Z"
   },
   {
    "duration": 246,
    "start_time": "2022-08-16T12:30:55.928Z"
   },
   {
    "duration": 1146,
    "start_time": "2022-08-16T12:31:02.867Z"
   },
   {
    "duration": 15,
    "start_time": "2022-08-16T12:31:05.404Z"
   },
   {
    "duration": 9,
    "start_time": "2022-08-16T12:31:06.257Z"
   },
   {
    "duration": 15,
    "start_time": "2022-08-16T12:31:06.665Z"
   },
   {
    "duration": 4,
    "start_time": "2022-08-16T12:31:07.576Z"
   },
   {
    "duration": 16,
    "start_time": "2022-08-16T12:31:07.867Z"
   },
   {
    "duration": 18,
    "start_time": "2022-08-16T12:31:31.845Z"
   },
   {
    "duration": 14,
    "start_time": "2022-08-16T12:31:32.984Z"
   },
   {
    "duration": 225,
    "start_time": "2022-08-16T12:31:34.083Z"
   },
   {
    "duration": 30,
    "start_time": "2022-08-16T12:31:36.123Z"
   },
   {
    "duration": 303,
    "start_time": "2022-08-16T12:31:41.730Z"
   },
   {
    "duration": 1066,
    "start_time": "2022-08-16T12:31:45.501Z"
   },
   {
    "duration": 21,
    "start_time": "2022-08-16T12:56:27.612Z"
   },
   {
    "duration": 1594,
    "start_time": "2022-08-16T12:56:28.192Z"
   },
   {
    "duration": 24,
    "start_time": "2022-08-16T12:56:29.789Z"
   },
   {
    "duration": 54,
    "start_time": "2022-08-16T12:56:29.818Z"
   },
   {
    "duration": 28,
    "start_time": "2022-08-16T12:56:29.878Z"
   },
   {
    "duration": 2811,
    "start_time": "2022-08-16T12:56:30.182Z"
   },
   {
    "duration": 34,
    "start_time": "2022-08-16T12:56:32.995Z"
   },
   {
    "duration": 13,
    "start_time": "2022-08-16T12:56:33.031Z"
   },
   {
    "duration": 1341,
    "start_time": "2022-08-16T12:56:33.058Z"
   },
   {
    "duration": 27,
    "start_time": "2022-08-16T12:56:34.401Z"
   },
   {
    "duration": 2048,
    "start_time": "2022-08-16T12:56:34.429Z"
   },
   {
    "duration": 13,
    "start_time": "2022-08-16T12:56:36.479Z"
   },
   {
    "duration": 5,
    "start_time": "2022-08-16T12:56:36.493Z"
   },
   {
    "duration": 206,
    "start_time": "2022-08-16T12:56:36.500Z"
   },
   {
    "duration": 249,
    "start_time": "2022-08-16T12:56:36.708Z"
   },
   {
    "duration": 24,
    "start_time": "2022-08-16T12:56:36.959Z"
   },
   {
    "duration": 23,
    "start_time": "2022-08-16T12:56:36.985Z"
   },
   {
    "duration": 3,
    "start_time": "2022-08-16T12:56:37.120Z"
   },
   {
    "duration": 3,
    "start_time": "2022-08-16T12:56:37.332Z"
   },
   {
    "duration": 4,
    "start_time": "2022-08-16T12:56:37.778Z"
   },
   {
    "duration": 2,
    "start_time": "2022-08-16T12:56:38.000Z"
   },
   {
    "duration": 197,
    "start_time": "2022-08-16T12:56:38.241Z"
   },
   {
    "duration": 4,
    "start_time": "2022-08-16T12:57:06.353Z"
   },
   {
    "duration": 5,
    "start_time": "2022-08-16T12:57:06.927Z"
   },
   {
    "duration": 545,
    "start_time": "2022-08-16T12:57:07.437Z"
   },
   {
    "duration": 564,
    "start_time": "2022-08-16T12:57:07.984Z"
   },
   {
    "duration": 5,
    "start_time": "2022-08-16T12:57:08.941Z"
   },
   {
    "duration": 10,
    "start_time": "2022-08-16T12:57:09.362Z"
   },
   {
    "duration": 7,
    "start_time": "2022-08-16T12:57:11.224Z"
   },
   {
    "duration": 8,
    "start_time": "2022-08-16T12:57:11.472Z"
   },
   {
    "duration": 87,
    "start_time": "2022-08-17T10:42:31.269Z"
   },
   {
    "duration": 67,
    "start_time": "2022-08-17T10:43:41.530Z"
   }
  ],
  "kernelspec": {
   "display_name": "Python 3 (ipykernel)",
   "language": "python",
   "name": "python3"
  },
  "language_info": {
   "codemirror_mode": {
    "name": "ipython",
    "version": 3
   },
   "file_extension": ".py",
   "mimetype": "text/x-python",
   "name": "python",
   "nbconvert_exporter": "python",
   "pygments_lexer": "ipython3",
   "version": "3.8.12"
  },
  "toc": {
   "base_numbering": 1,
   "nav_menu": {},
   "number_sections": true,
   "sideBar": true,
   "skip_h1_title": true,
   "title_cell": "Table of Contents",
   "title_sidebar": "Contents",
   "toc_cell": false,
   "toc_position": {},
   "toc_section_display": true,
   "toc_window_display": false
  }
 },
 "nbformat": 4,
 "nbformat_minor": 2
}
